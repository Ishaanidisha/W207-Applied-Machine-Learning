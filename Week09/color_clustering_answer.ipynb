{
 "cells": [
  {
   "cell_type": "markdown",
   "metadata": {},
   "source": [
    "## k-means in class assignment\n",
    "\n",
    "you are provided a file with RGB triples for a bunch of colors.  \n",
    "\n",
    "the problem is that even though there are plenty of RBG-to-color converters on the web\n",
    "https://www.rapidtables.com/convert/color/rgb-to-hex.html\n",
    "\n",
    "for example, these two RGB triples look almost identical to the human eye\n",
    " - [0, 0, 255]\n",
    " - [0, 1, 255]\n",
    " \n",
    "**none of them tell you that \"this color is close to blue\"**\n",
    "\n",
    "the task is to use k-means clustering to \n",
    "- group the colors into color families\n",
    "- make a histogram of your color clusters to see the dsitribution of colors\n",
    "- establish some human-readable names for your clusters like red, blue, yellow, etc.\n",
    "- determine the centroids of the clusters\n",
    "- write a function that makes the best guess of an RGB triple based on the centroids\n",
    "- make some visual output to show that your guesses worked\n"
   ]
  },
  {
   "cell_type": "code",
   "execution_count": 50,
   "metadata": {},
   "outputs": [],
   "source": [
    "import pandas\n",
    "import os\n",
    "import ast\n",
    "import numpy as np\n",
    "from sklearn.cluster import KMeans\n",
    "import matplotlib.pyplot as plt\n",
    "\n",
    "%matplotlib inline\n"
   ]
  },
  {
   "cell_type": "markdown",
   "metadata": {},
   "source": [
    "## read in colors"
   ]
  },
  {
   "cell_type": "code",
   "execution_count": 22,
   "metadata": {
    "scrolled": true
   },
   "outputs": [
    {
     "data": {
      "text/html": [
       "<div>\n",
       "<style scoped>\n",
       "    .dataframe tbody tr th:only-of-type {\n",
       "        vertical-align: middle;\n",
       "    }\n",
       "\n",
       "    .dataframe tbody tr th {\n",
       "        vertical-align: top;\n",
       "    }\n",
       "\n",
       "    .dataframe thead th {\n",
       "        text-align: right;\n",
       "    }\n",
       "</style>\n",
       "<table border=\"1\" class=\"dataframe\">\n",
       "  <thead>\n",
       "    <tr style=\"text-align: right;\">\n",
       "      <th></th>\n",
       "      <th>colors</th>\n",
       "      <th>hymnal_id</th>\n",
       "      <th>image</th>\n",
       "      <th>top_color</th>\n",
       "      <th>rgb</th>\n",
       "      <th>red</th>\n",
       "      <th>green</th>\n",
       "      <th>blue</th>\n",
       "    </tr>\n",
       "  </thead>\n",
       "  <tbody>\n",
       "    <tr>\n",
       "      <td>0</td>\n",
       "      <td>[{'color': {'red': 233, 'green': 197, 'blue': ...</td>\n",
       "      <td>48720</td>\n",
       "      <td>mobile_background_image</td>\n",
       "      <td>{'red': 233, 'green': 197, 'blue': 146, 'alpha...</td>\n",
       "      <td>[233, 197, 146]</td>\n",
       "      <td>233</td>\n",
       "      <td>197</td>\n",
       "      <td>146</td>\n",
       "    </tr>\n",
       "    <tr>\n",
       "      <td>1</td>\n",
       "      <td>[{'color': {'red': 183, 'green': 97, 'blue': 5...</td>\n",
       "      <td>48720</td>\n",
       "      <td>desktop_background_image</td>\n",
       "      <td>{'red': 183, 'green': 97, 'blue': 58, 'alpha':...</td>\n",
       "      <td>[183, 97, 58]</td>\n",
       "      <td>183</td>\n",
       "      <td>97</td>\n",
       "      <td>58</td>\n",
       "    </tr>\n",
       "    <tr>\n",
       "      <td>2</td>\n",
       "      <td>[{'color': {'red': 188, 'green': 84, 'blue': 7...</td>\n",
       "      <td>48720</td>\n",
       "      <td>video_thumbnail</td>\n",
       "      <td>{'red': 188, 'green': 84, 'blue': 7, 'alpha': ...</td>\n",
       "      <td>[188, 84, 7]</td>\n",
       "      <td>188</td>\n",
       "      <td>84</td>\n",
       "      <td>7</td>\n",
       "    </tr>\n",
       "    <tr>\n",
       "      <td>3</td>\n",
       "      <td>[{'color': {'red': 247, 'green': 252, 'blue': ...</td>\n",
       "      <td>48546</td>\n",
       "      <td>mobile_background_image</td>\n",
       "      <td>{'red': 247, 'green': 252, 'blue': 254, 'alpha...</td>\n",
       "      <td>[247, 252, 254]</td>\n",
       "      <td>247</td>\n",
       "      <td>252</td>\n",
       "      <td>254</td>\n",
       "    </tr>\n",
       "    <tr>\n",
       "      <td>4</td>\n",
       "      <td>[{'color': {'red': 248, 'green': 253, 'blue': ...</td>\n",
       "      <td>48546</td>\n",
       "      <td>desktop_background_image</td>\n",
       "      <td>{'red': 248, 'green': 253, 'blue': 253, 'alpha...</td>\n",
       "      <td>[248, 253, 253]</td>\n",
       "      <td>248</td>\n",
       "      <td>253</td>\n",
       "      <td>253</td>\n",
       "    </tr>\n",
       "    <tr>\n",
       "      <td>...</td>\n",
       "      <td>...</td>\n",
       "      <td>...</td>\n",
       "      <td>...</td>\n",
       "      <td>...</td>\n",
       "      <td>...</td>\n",
       "      <td>...</td>\n",
       "      <td>...</td>\n",
       "      <td>...</td>\n",
       "    </tr>\n",
       "    <tr>\n",
       "      <td>2025</td>\n",
       "      <td>[{'color': {'red': 27, 'green': 123, 'blue': 1...</td>\n",
       "      <td>45943</td>\n",
       "      <td>video_thumbnail</td>\n",
       "      <td>{'red': 27, 'green': 123, 'blue': 141, 'alpha'...</td>\n",
       "      <td>[27, 123, 141]</td>\n",
       "      <td>27</td>\n",
       "      <td>123</td>\n",
       "      <td>141</td>\n",
       "    </tr>\n",
       "    <tr>\n",
       "      <td>2026</td>\n",
       "      <td>[{'color': {'red': 194, 'green': 193, 'blue': ...</td>\n",
       "      <td>48604</td>\n",
       "      <td>video_thumbnail</td>\n",
       "      <td>{'red': 194, 'green': 193, 'blue': 198, 'alpha...</td>\n",
       "      <td>[194, 193, 198]</td>\n",
       "      <td>194</td>\n",
       "      <td>193</td>\n",
       "      <td>198</td>\n",
       "    </tr>\n",
       "    <tr>\n",
       "      <td>2027</td>\n",
       "      <td>[{'color': {'red': 41, 'green': 113, 'blue': 1...</td>\n",
       "      <td>45942</td>\n",
       "      <td>mobile_background_image</td>\n",
       "      <td>{'red': 41, 'green': 113, 'blue': 197, 'alpha'...</td>\n",
       "      <td>[41, 113, 197]</td>\n",
       "      <td>41</td>\n",
       "      <td>113</td>\n",
       "      <td>197</td>\n",
       "    </tr>\n",
       "    <tr>\n",
       "      <td>2028</td>\n",
       "      <td>[{'color': {'red': 35, 'green': 114, 'blue': 1...</td>\n",
       "      <td>45942</td>\n",
       "      <td>desktop_background_image</td>\n",
       "      <td>{'red': 35, 'green': 114, 'blue': 197, 'alpha'...</td>\n",
       "      <td>[35, 114, 197]</td>\n",
       "      <td>35</td>\n",
       "      <td>114</td>\n",
       "      <td>197</td>\n",
       "    </tr>\n",
       "    <tr>\n",
       "      <td>2029</td>\n",
       "      <td>[{'color': {'red': 27, 'green': 123, 'blue': 1...</td>\n",
       "      <td>45942</td>\n",
       "      <td>video_thumbnail</td>\n",
       "      <td>{'red': 27, 'green': 123, 'blue': 141, 'alpha'...</td>\n",
       "      <td>[27, 123, 141]</td>\n",
       "      <td>27</td>\n",
       "      <td>123</td>\n",
       "      <td>141</td>\n",
       "    </tr>\n",
       "  </tbody>\n",
       "</table>\n",
       "<p>2030 rows × 8 columns</p>\n",
       "</div>"
      ],
      "text/plain": [
       "                                                 colors  hymnal_id  \\\n",
       "0     [{'color': {'red': 233, 'green': 197, 'blue': ...      48720   \n",
       "1     [{'color': {'red': 183, 'green': 97, 'blue': 5...      48720   \n",
       "2     [{'color': {'red': 188, 'green': 84, 'blue': 7...      48720   \n",
       "3     [{'color': {'red': 247, 'green': 252, 'blue': ...      48546   \n",
       "4     [{'color': {'red': 248, 'green': 253, 'blue': ...      48546   \n",
       "...                                                 ...        ...   \n",
       "2025  [{'color': {'red': 27, 'green': 123, 'blue': 1...      45943   \n",
       "2026  [{'color': {'red': 194, 'green': 193, 'blue': ...      48604   \n",
       "2027  [{'color': {'red': 41, 'green': 113, 'blue': 1...      45942   \n",
       "2028  [{'color': {'red': 35, 'green': 114, 'blue': 1...      45942   \n",
       "2029  [{'color': {'red': 27, 'green': 123, 'blue': 1...      45942   \n",
       "\n",
       "                         image  \\\n",
       "0      mobile_background_image   \n",
       "1     desktop_background_image   \n",
       "2              video_thumbnail   \n",
       "3      mobile_background_image   \n",
       "4     desktop_background_image   \n",
       "...                        ...   \n",
       "2025           video_thumbnail   \n",
       "2026           video_thumbnail   \n",
       "2027   mobile_background_image   \n",
       "2028  desktop_background_image   \n",
       "2029           video_thumbnail   \n",
       "\n",
       "                                              top_color              rgb  red  \\\n",
       "0     {'red': 233, 'green': 197, 'blue': 146, 'alpha...  [233, 197, 146]  233   \n",
       "1     {'red': 183, 'green': 97, 'blue': 58, 'alpha':...    [183, 97, 58]  183   \n",
       "2     {'red': 188, 'green': 84, 'blue': 7, 'alpha': ...     [188, 84, 7]  188   \n",
       "3     {'red': 247, 'green': 252, 'blue': 254, 'alpha...  [247, 252, 254]  247   \n",
       "4     {'red': 248, 'green': 253, 'blue': 253, 'alpha...  [248, 253, 253]  248   \n",
       "...                                                 ...              ...  ...   \n",
       "2025  {'red': 27, 'green': 123, 'blue': 141, 'alpha'...   [27, 123, 141]   27   \n",
       "2026  {'red': 194, 'green': 193, 'blue': 198, 'alpha...  [194, 193, 198]  194   \n",
       "2027  {'red': 41, 'green': 113, 'blue': 197, 'alpha'...   [41, 113, 197]   41   \n",
       "2028  {'red': 35, 'green': 114, 'blue': 197, 'alpha'...   [35, 114, 197]   35   \n",
       "2029  {'red': 27, 'green': 123, 'blue': 141, 'alpha'...   [27, 123, 141]   27   \n",
       "\n",
       "      green  blue  \n",
       "0       197   146  \n",
       "1        97    58  \n",
       "2        84     7  \n",
       "3       252   254  \n",
       "4       253   253  \n",
       "...     ...   ...  \n",
       "2025    123   141  \n",
       "2026    193   198  \n",
       "2027    113   197  \n",
       "2028    114   197  \n",
       "2029    123   141  \n",
       "\n",
       "[2030 rows x 8 columns]"
      ]
     },
     "execution_count": 22,
     "metadata": {},
     "output_type": "execute_result"
    }
   ],
   "source": [
    "df_colors = pandas.read_csv(\"colors.csv\")\n",
    "\n",
    "df_colors['top_color'] = df_colors['top_color'].apply(ast.literal_eval)\n",
    "df_colors['rgb'] = df_colors.top_color.apply(lambda x: np.array([x['red'], x['green'], x['blue']]))\n",
    "df_colors['red'] = df_colors.top_color.apply(lambda x: x['red'])\n",
    "df_colors['green'] = df_colors.top_color.apply(lambda x: x['green'])\n",
    "df_colors['blue'] = df_colors.top_color.apply(lambda x: x['blue'])\n",
    "\n",
    "df_colors"
   ]
  },
  {
   "cell_type": "markdown",
   "metadata": {},
   "source": [
    "## visualize some colors "
   ]
  },
  {
   "cell_type": "code",
   "execution_count": 23,
   "metadata": {},
   "outputs": [
    {
     "data": {
      "text/plain": [
       "<matplotlib.axes._subplots.AxesSubplot at 0x7fb7bbb71790>"
      ]
     },
     "execution_count": 23,
     "metadata": {},
     "output_type": "execute_result"
    },
    {
     "data": {
      "image/png": "[encoded data removed]",
      "text/plain": [
       "<Figure size 432x288 with 1 Axes>"
      ]
     },
     "metadata": {
      "needs_background": "light"
     },
     "output_type": "display_data"
    }
   ],
   "source": [
    "# get first X colors\n",
    "n = 500\n",
    "colors = df_colors.rgb[:n]/256\n",
    "df_colors[:n].reset_index(drop=False).plot(x='red', y='green', kind='scatter', color=colors )\n"
   ]
  },
  {
   "cell_type": "markdown",
   "metadata": {},
   "source": [
    "## prepare dataset for sklearn"
   ]
  },
  {
   "cell_type": "code",
   "execution_count": 24,
   "metadata": {},
   "outputs": [
    {
     "data": {
      "text/plain": [
       "array([[233, 197, 146],\n",
       "       [183,  97,  58],\n",
       "       [188,  84,   7],\n",
       "       ...,\n",
       "       [ 41, 113, 197],\n",
       "       [ 35, 114, 197],\n",
       "       [ 27, 123, 141]])"
      ]
     },
     "execution_count": 24,
     "metadata": {},
     "output_type": "execute_result"
    }
   ],
   "source": [
    "use_cols = ['red', 'green', 'blue']\n",
    "X = np.array(df_colors[use_cols].values)\n",
    "X"
   ]
  },
  {
   "cell_type": "markdown",
   "metadata": {},
   "source": [
    "## use k-means for clustering"
   ]
  },
  {
   "cell_type": "code",
   "execution_count": 25,
   "metadata": {},
   "outputs": [],
   "source": [
    "n_clusters = 10\n",
    "random_state = 10"
   ]
  },
  {
   "cell_type": "code",
   "execution_count": 26,
   "metadata": {},
   "outputs": [],
   "source": [
    "## get instance of model\n",
    "model = KMeans(10, random_state=random_state)\n",
    "\n",
    "## fit model \n",
    "model.fit(X)\n",
    "\n",
    "## predict cluster\n",
    "df_colors['cluster'] = model.predict(X)\n",
    "\n"
   ]
  },
  {
   "cell_type": "markdown",
   "metadata": {},
   "source": [
    "## make a histogram of your color clusters to see the dsitribution of colors\n"
   ]
  },
  {
   "cell_type": "code",
   "execution_count": 27,
   "metadata": {},
   "outputs": [
    {
     "data": {
      "text/plain": [
       "<matplotlib.axes._subplots.AxesSubplot at 0x7fb7bc159ad0>"
      ]
     },
     "execution_count": 27,
     "metadata": {},
     "output_type": "execute_result"
    },
    {
     "data": {
      "image/png": "[encoded data removed]",
      "text/plain": [
       "<Figure size 432x288 with 1 Axes>"
      ]
     },
     "metadata": {
      "needs_background": "light"
     },
     "output_type": "display_data"
    }
   ],
   "source": [
    "# get distribution of clusters\n",
    "df_colors.cluster.hist()\n"
   ]
  },
  {
   "cell_type": "code",
   "execution_count": 28,
   "metadata": {},
   "outputs": [
    {
     "data": {
      "text/plain": [
       "<matplotlib.axes._subplots.AxesSubplot at 0x7fb7b8edd350>"
      ]
     },
     "execution_count": 28,
     "metadata": {},
     "output_type": "execute_result"
    },
    {
     "data": {
      "image/png": "[encoded data removed]",
      "text/plain": [
       "<Figure size 432x288 with 1 Axes>"
      ]
     },
     "metadata": {
      "needs_background": "light"
     },
     "output_type": "display_data"
    }
   ],
   "source": [
    "# take a look at distribution of colors\n",
    "colors = df_colors.rgb/256\n",
    "df_colors.reset_index(drop=False).plot(x='index', y='cluster', kind='scatter', color=colors)"
   ]
  },
  {
   "cell_type": "markdown",
   "metadata": {},
   "source": [
    "## establish some human-readable names for your clusters like red, blue, yellow, etc.\n"
   ]
  },
  {
   "cell_type": "code",
   "execution_count": 29,
   "metadata": {},
   "outputs": [],
   "source": [
    "# name your clusters\n",
    "color_dict = {\n",
    "    0:'black',    \n",
    "    1:'light blue',  \n",
    "    2:'off white', \n",
    "    3:'red', \n",
    "    4:'brown',\n",
    "    5:'yellow',\n",
    "    6:'gray',     \n",
    "    7:'blue', \n",
    "    8:'green', \n",
    "    9:'blue gray', \n",
    "}\n"
   ]
  },
  {
   "cell_type": "markdown",
   "metadata": {},
   "source": [
    "## determine the centroids of the clusters\n",
    "\n"
   ]
  },
  {
   "cell_type": "code",
   "execution_count": 56,
   "metadata": {},
   "outputs": [
    {
     "data": {
      "text/plain": [
       "array([[ 13.74260355,  12.25739645,  16.14201183],\n",
       "       [117.68181818, 203.02272727, 228.02272727],\n",
       "       [244.11278195, 246.61904762, 246.12531328],\n",
       "       [192.65562914,  29.58940397,  38.8013245 ],\n",
       "       [105.6961326 ,  88.13259669,  85.56353591],\n",
       "       [224.60504202, 181.31092437,  42.06722689],\n",
       "       [184.58606557, 176.51229508, 159.07377049],\n",
       "       [  5.40869565,  84.85217391, 195.19130435],\n",
       "       [ 47.96517413,  65.42288557,  46.38308458],\n",
       "       [ 58.28865979, 131.82989691, 179.89690722]])"
      ]
     },
     "execution_count": 56,
     "metadata": {},
     "output_type": "execute_result"
    }
   ],
   "source": [
    "# get the centroids\n",
    "model.cluster_centers_\n"
   ]
  },
  {
   "cell_type": "code",
   "execution_count": 55,
   "metadata": {},
   "outputs": [
    {
     "data": {
      "text/html": [
       "<div>\n",
       "<style scoped>\n",
       "    .dataframe tbody tr th:only-of-type {\n",
       "        vertical-align: middle;\n",
       "    }\n",
       "\n",
       "    .dataframe tbody tr th {\n",
       "        vertical-align: top;\n",
       "    }\n",
       "\n",
       "    .dataframe thead th {\n",
       "        text-align: right;\n",
       "    }\n",
       "</style>\n",
       "<table border=\"1\" class=\"dataframe\">\n",
       "  <thead>\n",
       "    <tr style=\"text-align: right;\">\n",
       "      <th></th>\n",
       "      <th>cluster</th>\n",
       "      <th>color</th>\n",
       "      <th>red</th>\n",
       "      <th>green</th>\n",
       "      <th>blue</th>\n",
       "    </tr>\n",
       "  </thead>\n",
       "  <tbody>\n",
       "    <tr>\n",
       "      <td>0</td>\n",
       "      <td>0</td>\n",
       "      <td>black</td>\n",
       "      <td>13.742604</td>\n",
       "      <td>12.257396</td>\n",
       "      <td>16.142012</td>\n",
       "    </tr>\n",
       "    <tr>\n",
       "      <td>1</td>\n",
       "      <td>1</td>\n",
       "      <td>light blue</td>\n",
       "      <td>117.681818</td>\n",
       "      <td>203.022727</td>\n",
       "      <td>228.022727</td>\n",
       "    </tr>\n",
       "    <tr>\n",
       "      <td>2</td>\n",
       "      <td>2</td>\n",
       "      <td>off white</td>\n",
       "      <td>244.112782</td>\n",
       "      <td>246.619048</td>\n",
       "      <td>246.125313</td>\n",
       "    </tr>\n",
       "    <tr>\n",
       "      <td>3</td>\n",
       "      <td>3</td>\n",
       "      <td>red</td>\n",
       "      <td>192.655629</td>\n",
       "      <td>29.589404</td>\n",
       "      <td>38.801325</td>\n",
       "    </tr>\n",
       "    <tr>\n",
       "      <td>4</td>\n",
       "      <td>4</td>\n",
       "      <td>brown</td>\n",
       "      <td>105.696133</td>\n",
       "      <td>88.132597</td>\n",
       "      <td>85.563536</td>\n",
       "    </tr>\n",
       "    <tr>\n",
       "      <td>5</td>\n",
       "      <td>5</td>\n",
       "      <td>yellow</td>\n",
       "      <td>224.605042</td>\n",
       "      <td>181.310924</td>\n",
       "      <td>42.067227</td>\n",
       "    </tr>\n",
       "    <tr>\n",
       "      <td>6</td>\n",
       "      <td>6</td>\n",
       "      <td>gray</td>\n",
       "      <td>184.586066</td>\n",
       "      <td>176.512295</td>\n",
       "      <td>159.073770</td>\n",
       "    </tr>\n",
       "    <tr>\n",
       "      <td>7</td>\n",
       "      <td>7</td>\n",
       "      <td>blue</td>\n",
       "      <td>5.408696</td>\n",
       "      <td>84.852174</td>\n",
       "      <td>195.191304</td>\n",
       "    </tr>\n",
       "    <tr>\n",
       "      <td>8</td>\n",
       "      <td>8</td>\n",
       "      <td>green</td>\n",
       "      <td>47.965174</td>\n",
       "      <td>65.422886</td>\n",
       "      <td>46.383085</td>\n",
       "    </tr>\n",
       "    <tr>\n",
       "      <td>9</td>\n",
       "      <td>9</td>\n",
       "      <td>blue gray</td>\n",
       "      <td>58.288660</td>\n",
       "      <td>131.829897</td>\n",
       "      <td>179.896907</td>\n",
       "    </tr>\n",
       "  </tbody>\n",
       "</table>\n",
       "</div>"
      ],
      "text/plain": [
       "   cluster       color         red       green        blue\n",
       "0        0       black   13.742604   12.257396   16.142012\n",
       "1        1  light blue  117.681818  203.022727  228.022727\n",
       "2        2   off white  244.112782  246.619048  246.125313\n",
       "3        3         red  192.655629   29.589404   38.801325\n",
       "4        4       brown  105.696133   88.132597   85.563536\n",
       "5        5      yellow  224.605042  181.310924   42.067227\n",
       "6        6        gray  184.586066  176.512295  159.073770\n",
       "7        7        blue    5.408696   84.852174  195.191304\n",
       "8        8       green   47.965174   65.422886   46.383085\n",
       "9        9   blue gray   58.288660  131.829897  179.896907"
      ]
     },
     "execution_count": 55,
     "metadata": {},
     "output_type": "execute_result"
    }
   ],
   "source": [
    "all_rows = list()\n",
    "for ii,cc in enumerate(model.cluster_centers_):\n",
    "\n",
    "    row_dict= {'cluster':ii, 'color':color_dict[ii], 'red':cc[0], 'green':cc[1], 'blue':cc[2]}\n",
    "    all_rows.append(row_dict)\n",
    "    \n",
    "    \n",
    "df_colors_clusters = pandas.DataFrame(all_rows)\n",
    "df_colors_clusters"
   ]
  },
  {
   "cell_type": "markdown",
   "metadata": {},
   "source": [
    "## write a function that makes the best guess of an RGB triple based on the centroids\n"
   ]
  },
  {
   "cell_type": "code",
   "execution_count": 37,
   "metadata": {},
   "outputs": [],
   "source": [
    "# determine color of individual RGB triple based on distance from centroid\n",
    "def closest_color(rgb, df):\n",
    "    red = rgb[0]\n",
    "    green = rgb[1]\n",
    "    blue = rgb[2]\n",
    "    \n",
    "    current_min = 1e10\n",
    "    current_color = None\n",
    "    for ii,rr in df.iterrows():\n",
    "        dist = np.sqrt( (red-rr['red'])**2 +  (green-rr['green'])**2 + (blue-rr['blue'])**2 )\n",
    "        if dist < current_min:\n",
    "            current_min = dist\n",
    "            current_color = rr['color']\n",
    "    \n",
    "    return current_color\n"
   ]
  },
  {
   "cell_type": "code",
   "execution_count": 46,
   "metadata": {},
   "outputs": [
    {
     "data": {
      "text/plain": [
       "'brown'"
      ]
     },
     "execution_count": 46,
     "metadata": {},
     "output_type": "execute_result"
    }
   ],
   "source": [
    "test_color = [100,60,60]\n",
    "\n",
    "# use function to predict color\n",
    "closest_color(test_color, df_colors_clusters)"
   ]
  },
  {
   "cell_type": "code",
   "execution_count": 49,
   "metadata": {},
   "outputs": [
    {
     "data": {
      "text/plain": [
       "['brown']"
      ]
     },
     "execution_count": 49,
     "metadata": {},
     "output_type": "execute_result"
    }
   ],
   "source": [
    "# use model to predict color\n",
    "\n",
    "predict = model.predict( [test_color])\n",
    "[ color_dict[cc] for cc in predict]"
   ]
  },
  {
   "cell_type": "markdown",
   "metadata": {},
   "source": [
    "## make some visual output to show that your guesses worked\n"
   ]
  },
  {
   "cell_type": "code",
   "execution_count": 54,
   "metadata": {},
   "outputs": [
    {
     "name": "stderr",
     "output_type": "stream",
     "text": [
      "'c' argument looks like a single numeric RGB or RGBA sequence, which should be avoided as value-mapping will have precedence in case its length matches with 'x' & 'y'.  Please use a 2-D array with a single row if you really want to specify the same RGB or RGBA value for all points.\n"
     ]
    },
    {
     "data": {
      "text/plain": [
       "<matplotlib.collections.PathCollection at 0x7fb7b95ac650>"
      ]
     },
     "execution_count": 54,
     "metadata": {},
     "output_type": "execute_result"
    },
    {
     "data": {
      "image/png": "[encoded data removed]",
      "text/plain": [
       "<Figure size 432x288 with 1 Axes>"
      ]
     },
     "metadata": {
      "needs_background": "light"
     },
     "output_type": "display_data"
    }
   ],
   "source": [
    "\n",
    "c = [ cc/255 for cc in test_color]  # normalize \n",
    "\n",
    "x=[1]\n",
    "y = [1]\n",
    "\n",
    "plt.scatter(x,y,c=c , s=5000)"
   ]
  },
  {
   "cell_type": "code",
   "execution_count": null,
   "metadata": {},
   "outputs": [],
   "source": []
  }
 ],
 "metadata": {
  "kernelspec": {
   "display_name": "Python 3",
   "language": "python",
   "name": "python3"
  },
  "language_info": {
   "codemirror_mode": {
    "name": "ipython",
    "version": 3
   },
   "file_extension": ".py",
   "mimetype": "text/x-python",
   "name": "python",
   "nbconvert_exporter": "python",
   "pygments_lexer": "ipython3",
   "version": "3.7.5"
  }
 },
 "nbformat": 4,
 "nbformat_minor": 2
}

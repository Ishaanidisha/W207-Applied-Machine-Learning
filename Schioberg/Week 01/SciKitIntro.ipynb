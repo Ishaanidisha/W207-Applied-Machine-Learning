{
  "nbformat": 4,
  "nbformat_minor": 0,
  "metadata": {
    "colab": {
      "name": "SciKitIntro.ipynb",
      "provenance": []
    },
    "kernelspec": {
      "name": "python3",
      "display_name": "Python 3"
    },
    "language_info": {
      "name": "python"
    }
  },
  "cells": [
    {
      "cell_type": "markdown",
      "metadata": {
        "id": "gEhTYBHEDDBt"
      },
      "source": [
        "# Getting started with SciKitLearn (and a NumPy refresher)"
      ]
    },
    {
      "cell_type": "markdown",
      "metadata": {
        "id": "4Oo6Z1q1mzY7"
      },
      "source": [
        "This notebook is a gentle introduction to working with SciKitLearn (sklearn) and finding your way around documentation. Please also have a look at the tutorial notebook in the git repo. Some of the following code and explanations is taken from the sklearn quickstart guide (https://scikit-learn.org/0.21/tutorial/basic/tutorial.html) and will be marked accordingly. Also, you will probably have to work with the numpy docu https://numpy.org/doc/stable/reference/arrays.ndarray.html. "
      ]
    },
    {
      "cell_type": "markdown",
      "metadata": {
        "id": "QIxAiawuDxyT"
      },
      "source": [
        "Let's get started by importing the first library we need. Usualy you would import all the things you need in one place, but for this intro we do it one lib at a time\n",
        "\n"
      ]
    },
    {
      "cell_type": "code",
      "metadata": {
        "id": "KAjcQDymEX51"
      },
      "source": [
        "import numpy as np"
      ],
      "execution_count": 1,
      "outputs": []
    },
    {
      "cell_type": "markdown",
      "metadata": {
        "id": "o98R9m3jIHQO"
      },
      "source": [
        "We need a radnomizer. Let's talk about that: https://docs.scipy.org/doc/numpy-1.3.x/reference/generated/numpy.random.seed.html\n",
        "\n"
      ]
    },
    {
      "cell_type": "code",
      "metadata": {
        "id": "DVDbsm1umzZC",
        "colab": {
          "base_uri": "https://localhost:8080/"
        },
        "outputId": "ef8ab0fe-6d05-4f3e-f885-b586b7cbef04"
      },
      "source": [
        "print(\"first \" + str(np.random.rand(4))) #print out 4 random numbers between 0 and 1\n",
        "print(\"second \" + str(np.random.rand(4))) #again\n",
        "print(\"third \"  + str(np.random.rand(4))) #and again\n",
        "np.random.seed(0) #now let's set the seed -> that will cause the random number to be generated from a spceific number (0)\n",
        "print(\"first with seed\" + str(np.random.rand(4))) #print 4 random numbers with the seed 0\n",
        "np.random.seed(0) #note we have to set the same seed again\n",
        "print(\"second with seed\" + str(np.random.rand(4))) #and try it again\n",
        "np.random.seed(0)\n",
        "print(\"third with seed\"  + str(np.random.rand(4))) #to see the numbers are repeated."
      ],
      "execution_count": 11,
      "outputs": [
        {
          "output_type": "stream",
          "text": [
            "first [0.56804456 0.92559664 0.07103606 0.0871293 ]\n",
            "second [0.0202184  0.83261985 0.77815675 0.87001215]\n",
            "third [0.97861834 0.79915856 0.46147936 0.78052918]\n",
            "first with seed[0.5488135  0.71518937 0.60276338 0.54488318]\n",
            "second with seed[0.5488135  0.71518937 0.60276338 0.54488318]\n",
            "third with seed[0.5488135  0.71518937 0.60276338 0.54488318]\n"
          ],
          "name": "stdout"
        }
      ]
    },
    {
      "cell_type": "markdown",
      "metadata": {
        "id": "W1NDvo3DK8lF"
      },
      "source": [
        "Play with this to see what happens. Why can it be helpful to use pseud random numbers? When should you not do that?\n",
        "\n",
        "Then we move on to creating data. We use ndarrays and the function linspace: https://numpy.org/doc/stable/reference/arrays.ndarray.html\n",
        "\n",
        "https://numpy.org/doc/stable/reference/generated/numpy.linspace.html\n",
        "\n",
        "\n",
        "\n",
        "\n",
        "\n"
      ]
    },
    {
      "cell_type": "code",
      "metadata": {
        "colab": {
          "base_uri": "https://localhost:8080/"
        },
        "id": "OvLct8crK5Yn",
        "outputId": "bbd11df4-4230-457c-f62b-d0f23303199c"
      },
      "source": [
        "np.random.seed(7) #our friend the seed again\n",
        "X = np.linspace(0, 1, 5) # creates a one dimensional ndarray of values between 0 and 1\n",
        "\n",
        "# Inspect X.\n",
        "print(X) #print the array we created and see it one row\n",
        "print (type(X)) #what is the type?\n",
        "print (X.shape) #what is the shape? Let's talk more about the shape! You'll need that later for the class projects"
      ],
      "execution_count": 16,
      "outputs": [
        {
          "output_type": "stream",
          "text": [
            "[0.   0.25 0.5  0.75 1.  ]\n",
            "<class 'numpy.ndarray'>\n",
            "(5,)\n"
          ],
          "name": "stdout"
        }
      ]
    },
    {
      "cell_type": "markdown",
      "metadata": {
        "id": "3GsWZp9hNF6_"
      },
      "source": [
        "The data we will work with will rarely be one-dimensional, so let's get a grip on matrices."
      ]
    },
    {
      "cell_type": "code",
      "metadata": {
        "colab": {
          "base_uri": "https://localhost:8080/"
        },
        "id": "FacilNbcNOWM",
        "outputId": "9dd64974-28c4-44f3-e510-72b4cf6c7e4a"
      },
      "source": [
        "a = np.random.random((2,3)) #creates a matrix with 2 rows and three columns\n",
        "print(a)\n",
        "print(\"\\n\")\n",
        "b = np.array([[1, 2, 3], [4, 5, 6]], np.int32) #dimensions (2x3) and data type\n",
        "print(b)\n",
        "print(type(b))\n",
        "print(b.shape)\n",
        "print(b.dtype)\n",
        "print(\"one element: 2nd row, 3rd column\")\n",
        "print(b[1,2])\n",
        "print(\"\\ntransppose that:\")\n",
        "c = b.transpose()\n",
        "print(c)\n",
        "print(\"\\ndimensions/shape:\")\n",
        "print(c.shape)"
      ],
      "execution_count": 25,
      "outputs": [
        {
          "output_type": "stream",
          "text": [
            "[[0.65739946 0.37035108 0.45909298]\n",
            " [0.71932412 0.41299183 0.90642327]]\n",
            "\n",
            "\n",
            "[[1 2 3]\n",
            " [4 5 6]]\n",
            "<class 'numpy.ndarray'>\n",
            "(2, 3)\n",
            "int32\n",
            "one element: 2nd row, 3rd column\n",
            "6\n",
            "\n",
            "transppose that:\n",
            "[[1 4]\n",
            " [2 5]\n",
            " [3 6]]\n",
            "\n",
            "dimensions/shape:\n",
            "(3, 2)\n"
          ],
          "name": "stdout"
        }
      ]
    },
    {
      "cell_type": "markdown",
      "metadata": {
        "id": "dR5V6OFDQute"
      },
      "source": [
        "From here, most code taken from https://scikit-learn.org/0.21/tutorial/basic/tutorial.html"
      ]
    },
    {
      "cell_type": "code",
      "metadata": {
        "id": "HlTwRr8HQ4jk"
      },
      "source": [
        "from sklearn import datasets #import more libs\n",
        "digits = datasets.load_digits() #load data set \"digits\"\n"
      ],
      "execution_count": 26,
      "outputs": []
    },
    {
      "cell_type": "markdown",
      "metadata": {
        "id": "s2pNSE8vVNoL"
      },
      "source": [
        "\"A dataset is a dictionary-like object that holds all the data and some metadata about the data. This data is stored in the .data member, which is a n_samples, n_features array. In the case of supervised problem, one or more response variables are stored in the .target member\" "
      ]
    },
    {
      "cell_type": "code",
      "metadata": {
        "colab": {
          "base_uri": "https://localhost:8080/"
        },
        "id": "PNzTO-1sVUfG",
        "outputId": "21c78535-c331-4191-ec24-48b52ed2462f"
      },
      "source": [
        "print(digits.data) "
      ],
      "execution_count": 27,
      "outputs": [
        {
          "output_type": "stream",
          "text": [
            "[[ 0.  0.  5. ...  0.  0.  0.]\n",
            " [ 0.  0.  0. ... 10.  0.  0.]\n",
            " [ 0.  0.  0. ... 16.  9.  0.]\n",
            " ...\n",
            " [ 0.  0.  1. ...  6.  0.  0.]\n",
            " [ 0.  0.  2. ... 12.  0.  0.]\n",
            " [ 0.  0. 10. ... 12.  1.  0.]]\n"
          ],
          "name": "stdout"
        }
      ]
    },
    {
      "cell_type": "code",
      "metadata": {
        "colab": {
          "base_uri": "https://localhost:8080/"
        },
        "id": "V08KeeF2VbjW",
        "outputId": "b9f5363d-35dd-4f9a-ac2e-3a14a9885def"
      },
      "source": [
        "digits.target"
      ],
      "execution_count": 28,
      "outputs": [
        {
          "output_type": "execute_result",
          "data": {
            "text/plain": [
              "array([0, 1, 2, ..., 8, 9, 8])"
            ]
          },
          "metadata": {
            "tags": []
          },
          "execution_count": 28
        }
      ]
    },
    {
      "cell_type": "markdown",
      "metadata": {
        "id": "Z8hj2-8lV1yp"
      },
      "source": [
        "What about the shape?"
      ]
    },
    {
      "cell_type": "code",
      "metadata": {
        "colab": {
          "base_uri": "https://localhost:8080/"
        },
        "id": "djd0Bf6zV3Wq",
        "outputId": "ef3f1b04-bcf8-4c40-b639-0e1c0e36ff85"
      },
      "source": [
        "print(digits.data.shape)"
      ],
      "execution_count": 31,
      "outputs": [
        {
          "output_type": "stream",
          "text": [
            "(1797, 64)\n"
          ],
          "name": "stdout"
        }
      ]
    },
    {
      "cell_type": "markdown",
      "metadata": {
        "id": "kBSfyfooWO_U"
      },
      "source": [
        "Can we print out one data sample?"
      ]
    },
    {
      "cell_type": "code",
      "metadata": {
        "colab": {
          "base_uri": "https://localhost:8080/"
        },
        "id": "HkhI23VBWR2d",
        "outputId": "014f1669-5ee3-44b7-fec5-577096393563"
      },
      "source": [
        "print(digits.images) #In the case of the digits, each original sample is an image of shape (8, 8)"
      ],
      "execution_count": 32,
      "outputs": [
        {
          "output_type": "stream",
          "text": [
            "[[[ 0.  0.  5. ...  1.  0.  0.]\n",
            "  [ 0.  0. 13. ... 15.  5.  0.]\n",
            "  [ 0.  3. 15. ... 11.  8.  0.]\n",
            "  ...\n",
            "  [ 0.  4. 11. ... 12.  7.  0.]\n",
            "  [ 0.  2. 14. ... 12.  0.  0.]\n",
            "  [ 0.  0.  6. ...  0.  0.  0.]]\n",
            "\n",
            " [[ 0.  0.  0. ...  5.  0.  0.]\n",
            "  [ 0.  0.  0. ...  9.  0.  0.]\n",
            "  [ 0.  0.  3. ...  6.  0.  0.]\n",
            "  ...\n",
            "  [ 0.  0.  1. ...  6.  0.  0.]\n",
            "  [ 0.  0.  1. ...  6.  0.  0.]\n",
            "  [ 0.  0.  0. ... 10.  0.  0.]]\n",
            "\n",
            " [[ 0.  0.  0. ... 12.  0.  0.]\n",
            "  [ 0.  0.  3. ... 14.  0.  0.]\n",
            "  [ 0.  0.  8. ... 16.  0.  0.]\n",
            "  ...\n",
            "  [ 0.  9. 16. ...  0.  0.  0.]\n",
            "  [ 0.  3. 13. ... 11.  5.  0.]\n",
            "  [ 0.  0.  0. ... 16.  9.  0.]]\n",
            "\n",
            " ...\n",
            "\n",
            " [[ 0.  0.  1. ...  1.  0.  0.]\n",
            "  [ 0.  0. 13. ...  2.  1.  0.]\n",
            "  [ 0.  0. 16. ... 16.  5.  0.]\n",
            "  ...\n",
            "  [ 0.  0. 16. ... 15.  0.  0.]\n",
            "  [ 0.  0. 15. ... 16.  0.  0.]\n",
            "  [ 0.  0.  2. ...  6.  0.  0.]]\n",
            "\n",
            " [[ 0.  0.  2. ...  0.  0.  0.]\n",
            "  [ 0.  0. 14. ... 15.  1.  0.]\n",
            "  [ 0.  4. 16. ... 16.  7.  0.]\n",
            "  ...\n",
            "  [ 0.  0.  0. ... 16.  2.  0.]\n",
            "  [ 0.  0.  4. ... 16.  2.  0.]\n",
            "  [ 0.  0.  5. ... 12.  0.  0.]]\n",
            "\n",
            " [[ 0.  0. 10. ...  1.  0.  0.]\n",
            "  [ 0.  2. 16. ...  1.  0.  0.]\n",
            "  [ 0.  0. 15. ... 15.  0.  0.]\n",
            "  ...\n",
            "  [ 0.  4. 16. ... 16.  6.  0.]\n",
            "  [ 0.  8. 16. ... 16.  8.  0.]\n",
            "  [ 0.  1.  8. ... 12.  1.  0.]]]\n"
          ],
          "name": "stdout"
        }
      ]
    },
    {
      "cell_type": "code",
      "metadata": {
        "colab": {
          "base_uri": "https://localhost:8080/"
        },
        "id": "_ZByfpNzWnyv",
        "outputId": "8ba743fb-b7f6-4a19-c639-598736f4a04e"
      },
      "source": [
        "print(digits.images[0])"
      ],
      "execution_count": 33,
      "outputs": [
        {
          "output_type": "stream",
          "text": [
            "[[ 0.  0.  5. 13.  9.  1.  0.  0.]\n",
            " [ 0.  0. 13. 15. 10. 15.  5.  0.]\n",
            " [ 0.  3. 15.  2.  0. 11.  8.  0.]\n",
            " [ 0.  4. 12.  0.  0.  8.  8.  0.]\n",
            " [ 0.  5.  8.  0.  0.  9.  8.  0.]\n",
            " [ 0.  4. 11.  0.  1. 12.  7.  0.]\n",
            " [ 0.  2. 14.  5. 10. 12.  0.  0.]\n",
            " [ 0.  0.  6. 13. 10.  0.  0.  0.]]\n"
          ],
          "name": "stdout"
        }
      ]
    },
    {
      "cell_type": "markdown",
      "metadata": {
        "id": "FLht2ChfW3I4"
      },
      "source": [
        "In the future we will need a test and train data set (see week 2 to learn why). So let's split the data. We have 1797 examples."
      ]
    },
    {
      "cell_type": "code",
      "metadata": {
        "colab": {
          "base_uri": "https://localhost:8080/"
        },
        "id": "X0Kna2SgXE1e",
        "outputId": "dc092f47-125e-4e77-d2e2-695175c48798"
      },
      "source": [
        "X,Y = digits.data, digits.target #machine learning standard\n",
        "print(X.shape)\n",
        "print(Y.shape)\n",
        "train_data, train_labels = X[:1700], Y[:1700]\n",
        "test_data, test_labels = X[1700:], Y[1700:]\n"
      ],
      "execution_count": 37,
      "outputs": [
        {
          "output_type": "stream",
          "text": [
            "(1797, 64)\n",
            "(1797,)\n"
          ],
          "name": "stdout"
        }
      ]
    },
    {
      "cell_type": "markdown",
      "metadata": {
        "id": "NSi-A11pYRKg"
      },
      "source": [
        "We can use this to train a simple model like KNN (see week 2) https://scikit-learn.org/stable/modules/generated/sklearn.neighbors.KNeighborsClassifier.html"
      ]
    },
    {
      "cell_type": "code",
      "metadata": {
        "colab": {
          "base_uri": "https://localhost:8080/"
        },
        "id": "nO34FITKYPKN",
        "outputId": "33145e12-5b0a-4768-bbd5-0620646c5df7"
      },
      "source": [
        "from sklearn.neighbors import KNeighborsClassifier #import the classifier we wnat to use\n",
        "knn = KNeighborsClassifier(n_neighbors=3) #create the classifier\n",
        "knn.fit(train_data, train_labels) #train on the training data\n",
        "pred = knn.predict(test_data) #make a prediction with the test data\n",
        "#how good is our prediction?\n",
        "print(knn.score(test_data, test_labels))"
      ],
      "execution_count": 40,
      "outputs": [
        {
          "output_type": "stream",
          "text": [
            "0.9896907216494846\n"
          ],
          "name": "stdout"
        }
      ]
    }
  ]
}
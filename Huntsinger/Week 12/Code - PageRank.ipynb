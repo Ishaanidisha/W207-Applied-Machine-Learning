{
 "cells": [
  {
   "cell_type": "code",
   "execution_count": 1,
   "metadata": {},
   "outputs": [
    {
     "data": {
      "text/plain": [
       "array([[0.25419178],\n",
       "       [0.13803151],\n",
       "       [0.13803151],\n",
       "       [0.20599017],\n",
       "       [0.26375504]])"
      ]
     },
     "execution_count": 1,
     "metadata": {},
     "output_type": "execute_result"
    }
   ],
   "source": [
    "\"\"\"Pagerank algorithm with explicit number of iterations.\n",
    "\n",
    "Returns\n",
    "-------\n",
    "ranking of nodes (pages) in the adjacency matrix\n",
    "\n",
    "\"\"\"\n",
    "\n",
    "import numpy as np\n",
    "\n",
    "def pagerank(M, num_iterations=100, d=0.85):\n",
    "    \"\"\"pagerank: The trillion dollar algorithm.\n",
    "\n",
    "    Parameters\n",
    "    ----------\n",
    "    M : numpy array\n",
    "        adjacency matrix where M_i,j represents the link from 'j' to 'i', such that for all 'j'\n",
    "        sum(i, M_i,j) = 1\n",
    "    num_iterations : int, optional\n",
    "        number of iterations, by default 100\n",
    "    d : float, optional\n",
    "        damping factor, by default 0.85\n",
    "\n",
    "    Returns\n",
    "    -------\n",
    "    numpy array\n",
    "        a vector of ranks such that v_i is the i-th rank from [0, 1],\n",
    "        v sums to 1\n",
    "\n",
    "    \"\"\"\n",
    "    N = M.shape[1]\n",
    "    v = np.random.rand(N, 1)\n",
    "    v = v / np.linalg.norm(v, 1)\n",
    "    for i in range(num_iterations):\n",
    "        v = d * M @ v + (1 - d) / N\n",
    "    return v\n",
    "\n",
    "\n",
    "M = np.array([[0, 0, 0, 0, 1],\n",
    "              [0.5, 0, 0, 0, 0],\n",
    "              [0.5, 0, 0, 0, 0],\n",
    "              [0, 1, 0.5, 0, 0],\n",
    "              [0, 0, 0.5, 1, 0]])\n",
    "v = pagerank(M, 100, 0.85)\n",
    "\n",
    "v"
   ]
  },
  {
   "cell_type": "code",
   "execution_count": 22,
   "metadata": {},
   "outputs": [
    {
     "name": "stdout",
     "output_type": "stream",
     "text": [
      "5\n",
      "[[0.72950127]\n",
      " [0.17419045]\n",
      " [0.57023936]\n",
      " [0.09764454]\n",
      " [0.54383159]]\n",
      "\n",
      "[[0.34485146]\n",
      " [0.0823437 ]\n",
      " [0.26956482]\n",
      " [0.04615874]\n",
      " [0.25708128]]\n",
      "\n",
      "START ITERATION\n",
      "\n",
      "[[0.25708128]\n",
      " [0.17242573]\n",
      " [0.17242573]\n",
      " [0.2171261 ]\n",
      " [0.18094115]]\n",
      "\n",
      "[[0.18094115]\n",
      " [0.12854064]\n",
      " [0.12854064]\n",
      " [0.2586386 ]\n",
      " [0.30333897]]\n",
      "\n",
      "[[0.30333897]\n",
      " [0.09047058]\n",
      " [0.09047058]\n",
      " [0.19281096]\n",
      " [0.32290892]]\n",
      "\n",
      "[[0.32290892]\n",
      " [0.15166949]\n",
      " [0.15166949]\n",
      " [0.13570586]\n",
      " [0.23804625]]\n",
      "\n",
      "[[0.23804625]\n",
      " [0.16145446]\n",
      " [0.16145446]\n",
      " [0.22750423]\n",
      " [0.21154061]]\n",
      "\n"
     ]
    },
    {
     "data": {
      "text/plain": [
       "array([[0.23804625],\n",
       "       [0.16145446],\n",
       "       [0.16145446],\n",
       "       [0.22750423],\n",
       "       [0.21154061]])"
      ]
     },
     "execution_count": 22,
     "metadata": {},
     "output_type": "execute_result"
    }
   ],
   "source": [
    "import numpy as np\n",
    "\n",
    "def pagerank(M, num_iterations=100, d=0.85):\n",
    "    N = M.shape[1]\n",
    "    print(N)\n",
    "    \n",
    "    v = np.random.rand(N, 1)\n",
    "    print(v)\n",
    "    print()\n",
    "    \n",
    "    v = v / np.linalg.norm(v, 1)\n",
    "    print(v)\n",
    "    print()\n",
    "    \n",
    "    print(\"START ITERATION\")\n",
    "    print()\n",
    "    for i in range(num_iterations):\n",
    "        v = d * M @ v + (1 - d) / N\n",
    "        print(v)\n",
    "        print()\n",
    "        \n",
    "    return v\n",
    "\n",
    "\n",
    "M = np.array([[0, 0, 0, 0, 1],\n",
    "              [0.5, 0, 0, 0, 0],\n",
    "              [0.5, 0, 0, 0, 0],\n",
    "              [0, 1, 0.5, 0, 0],\n",
    "              [0, 0, 0.5, 1, 0]])\n",
    "v = pagerank(M, 5, 1)\n",
    "\n",
    "v"
   ]
  }
 ],
 "metadata": {
  "kernelspec": {
   "display_name": "Python 3",
   "language": "python",
   "name": "python3"
  },
  "language_info": {
   "codemirror_mode": {
    "name": "ipython",
    "version": 3
   },
   "file_extension": ".py",
   "mimetype": "text/x-python",
   "name": "python",
   "nbconvert_exporter": "python",
   "pygments_lexer": "ipython3",
   "version": "3.7.4"
  },
  "toc": {
   "base_numbering": 1,
   "nav_menu": {},
   "number_sections": false,
   "sideBar": true,
   "skip_h1_title": true,
   "title_cell": "Table of Contents",
   "title_sidebar": "Contents",
   "toc_cell": false,
   "toc_position": {},
   "toc_section_display": true,
   "toc_window_display": true
  }
 },
 "nbformat": 4,
 "nbformat_minor": 2
}

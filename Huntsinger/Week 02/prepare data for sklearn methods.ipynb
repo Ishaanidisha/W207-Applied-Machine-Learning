{
 "cells": [
  {
   "cell_type": "code",
   "execution_count": null,
   "metadata": {},
   "outputs": [],
   "source": [
    "import numpy as np"
   ]
  },
  {
   "cell_type": "code",
   "execution_count": null,
   "metadata": {},
   "outputs": [],
   "source": [
    "x = [100, 200, 400] # some predictor feature values\n",
    "y = [0.1, 0.2, 0.3] # some outcome feature values\n",
    "\n",
    "print(type(x)) # a list of 3 numbers\n",
    "print(x)\n",
    "print()\n",
    "\n",
    "print(type(np.array(x))) # an array of 3 numbers\n",
    "print(np.array(x))\n",
    "print()\n",
    "\n",
    "print(type([x])) # a list of 1 list \n",
    "print([x])\n",
    "print()\n",
    "\n",
    "print(type(np.array([x]))) # an array of 1 list\n",
    "print(np.array([x]))       # this is NOT what sklearn methods accept as predictor feature values\n",
    "print()\n",
    "\n",
    "print(type(np.array(x)[:, np.newaxis])) # an array of 3 lists\n",
    "print(np.array(x)[:, np.newaxis])       # this is what sklearn methods accept as predictor feature values\n",
    "print()\n",
    "\n",
    "\n",
    "print(type(y)) # a list of 3 numbers\n",
    "print(y)\n",
    "print()\n",
    "\n",
    "print(type(np.array(y))) # an array of 3 numbers\n",
    "print(np.array(y))       # this is what sklearn methods accept as outcome feature values\n",
    "print()\n",
    "\n",
    "print(type(np.array([y]))) # an array of 1 list\n",
    "print(np.array([y]))       # this is NOT what sklearn methods accept as outcome feature values\n",
    "print()"
   ]
  }
 ],
 "metadata": {
  "kernelspec": {
   "display_name": "Python 3",
   "language": "python",
   "name": "python3"
  },
  "language_info": {
   "codemirror_mode": {
    "name": "ipython",
    "version": 3
   },
   "file_extension": ".py",
   "mimetype": "text/x-python",
   "name": "python",
   "nbconvert_exporter": "python",
   "pygments_lexer": "ipython3",
   "version": "3.7.3"
  },
  "toc": {
   "base_numbering": 1,
   "nav_menu": {},
   "number_sections": false,
   "sideBar": true,
   "skip_h1_title": true,
   "title_cell": "Table of Contents",
   "title_sidebar": "Contents",
   "toc_cell": false,
   "toc_position": {},
   "toc_section_display": true,
   "toc_window_display": false
  }
 },
 "nbformat": 4,
 "nbformat_minor": 1
}

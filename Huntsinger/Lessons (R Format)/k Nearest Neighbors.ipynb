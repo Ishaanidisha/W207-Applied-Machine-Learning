{
 "cells": [
  {
   "cell_type": "markdown",
   "metadata": {
    "hideCode": false,
    "hidePrompt": false
   },
   "source": [
    "# Classification by k Nearest Neighbors\n",
    "![](banner_knn.jpg)"
   ]
  },
  {
   "cell_type": "code",
   "execution_count": 1,
   "metadata": {
    "hide_input": true
   },
   "outputs": [
    {
     "data": {
      "text/html": [
       "== document setup =="
      ]
     },
     "metadata": {},
     "output_type": "display_data"
    }
   ],
   "source": [
    "f = \"setup.R\"; for (i in 1:10) { if (file.exists(f)) break else f = paste0(\"../\", f) }; source(f)"
   ]
  },
  {
   "cell_type": "markdown",
   "metadata": {},
   "source": [
    "## Introduction\n",
    "\n",
    "Motivation, context, history, related topics ..."
   ]
  },
  {
   "cell_type": "markdown",
   "metadata": {},
   "source": [
    "## Synopsis"
   ]
  },
  {
   "cell_type": "markdown",
   "metadata": {},
   "source": [
    "**Terms**"
   ]
  },
  {
   "cell_type": "markdown",
   "metadata": {},
   "source": [
    "## Exposition"
   ]
  },
  {
   "cell_type": "markdown",
   "metadata": {},
   "source": [
    "Predict the class of a new observation based on how similar its variable values are to those of already classified observations.  Note, the data _is_ the model."
   ]
  },
  {
   "cell_type": "markdown",
   "metadata": {},
   "source": [
    "## Code"
   ]
  },
  {
   "cell_type": "markdown",
   "metadata": {},
   "source": [
    "### Useful Functions"
   ]
  },
  {
   "cell_type": "code",
   "execution_count": 2,
   "metadata": {},
   "outputs": [],
   "source": [
    "# help(kknn,package=\"kknn\")"
   ]
  },
  {
   "cell_type": "markdown",
   "metadata": {},
   "source": [
    "### Templates"
   ]
  },
  {
   "cell_type": "code",
   "execution_count": 4,
   "metadata": {
    "scrolled": false
   },
   "outputs": [
    {
     "data": {
      "text/html": [
       "<table>\n",
       "<caption><center><font color=\"black\"><b>prob</b></font></center></caption>\n",
       " <thead>\n",
       "  <tr>\n",
       "   <th style=\"text-align:right;\"> A </th>\n",
       "   <th style=\"text-align:right;\"> B </th>\n",
       "  </tr>\n",
       " </thead>\n",
       "<tbody>\n",
       "  <tr>\n",
       "   <td style=\"text-align:right;\"> 0.3105654 </td>\n",
       "   <td style=\"text-align:right;\"> 0.6894346 </td>\n",
       "  </tr>\n",
       "  <tr>\n",
       "   <td style=\"text-align:right;\"> 0.9035238 </td>\n",
       "   <td style=\"text-align:right;\"> 0.0964762 </td>\n",
       "  </tr>\n",
       "  <tr>\n",
       "   <td style=\"text-align:right;\"> 0.3105654 </td>\n",
       "   <td style=\"text-align:right;\"> 0.6894346 </td>\n",
       "  </tr>\n",
       "  <tr>\n",
       "   <td style=\"text-align:right;\"> 0.5929584 </td>\n",
       "   <td style=\"text-align:right;\"> 0.4070416 </td>\n",
       "  </tr>\n",
       "</tbody>\n",
       "</table>"
      ]
     },
     "metadata": {},
     "output_type": "display_data"
    },
    {
     "data": {
      "text/html": [
       "<table>\n",
       "<thead><tr><th scope=col>prediction</th></tr></thead>\n",
       "<tbody>\n",
       "\t<tr><td>B</td></tr>\n",
       "\t<tr><td>A</td></tr>\n",
       "\t<tr><td>B</td></tr>\n",
       "\t<tr><td>B</td></tr>\n",
       "</tbody>\n",
       "</table>\n"
      ],
      "text/latex": [
       "\\begin{tabular}{r|l}\n",
       " prediction\\\\\n",
       "\\hline\n",
       "\t B\\\\\n",
       "\t A\\\\\n",
       "\t B\\\\\n",
       "\t B\\\\\n",
       "\\end{tabular}\n"
      ],
      "text/markdown": [
       "\n",
       "| prediction |\n",
       "|---|\n",
       "| B |\n",
       "| A |\n",
       "| B |\n",
       "| B |\n",
       "\n"
      ],
      "text/plain": [
       "  prediction\n",
       "1 B         \n",
       "2 A         \n",
       "3 B         \n",
       "4 B         "
      ]
     },
     "metadata": {},
     "output_type": "display_data"
    },
    {
     "data": {
      "text/html": [
       "<table>\n",
       "<thead><tr><th scope=col>x1</th><th scope=col>x2</th><th scope=col>x3</th><th scope=col>prediction</th></tr></thead>\n",
       "<tbody>\n",
       "\t<tr><td>5</td><td>8</td><td>1</td><td>B</td></tr>\n",
       "\t<tr><td>6</td><td>7</td><td>5</td><td>A</td></tr>\n",
       "\t<tr><td>7</td><td>6</td><td>2</td><td>B</td></tr>\n",
       "\t<tr><td>8</td><td>5</td><td>6</td><td>B</td></tr>\n",
       "</tbody>\n",
       "</table>\n"
      ],
      "text/latex": [
       "\\begin{tabular}{r|llll}\n",
       " x1 & x2 & x3 & prediction\\\\\n",
       "\\hline\n",
       "\t 5 & 8 & 1 & B\\\\\n",
       "\t 6 & 7 & 5 & A\\\\\n",
       "\t 7 & 6 & 2 & B\\\\\n",
       "\t 8 & 5 & 6 & B\\\\\n",
       "\\end{tabular}\n"
      ],
      "text/markdown": [
       "\n",
       "| x1 | x2 | x3 | prediction |\n",
       "|---|---|---|---|\n",
       "| 5 | 8 | 1 | B |\n",
       "| 6 | 7 | 5 | A |\n",
       "| 7 | 6 | 2 | B |\n",
       "| 8 | 5 | 6 | B |\n",
       "\n"
      ],
      "text/plain": [
       "  x1 x2 x3 prediction\n",
       "1 5  8  1  B         \n",
       "2 6  7  5  A         \n",
       "3 7  6  2  B         \n",
       "4 8  5  6  B         "
      ]
     },
     "metadata": {},
     "output_type": "display_data"
    }
   ],
   "source": [
    "data.train = data.frame(x1=c(1,2,3,4,5,6,7,8), x2=c(9,7,6,5,4,3,2,1), x3=c(1,1,2,2,3,3,4,4), class=c(\"A\", \"B\", \"A\", \"B\", \"A\", \"B\", \"A\", \"B\"))\n",
    "data.new = data.frame(x1=c(5,6,7,8), x2=c(8,7,6,5), x3=c(1,5,2,6))\n",
    "cutoff = 0.6\n",
    "\n",
    "prob = kknn(class ~ x1+x2+x3, data.train, data.new, k=3)$prob\n",
    "prediction = as.class(prob, class=\"A\", cutoff) # based on probability that exceeds cutoff\n",
    "\n",
    "prob %>% caption\n",
    "prediction %>% fmt\n",
    "cbind(data.new, prediction)"
   ]
  },
  {
   "cell_type": "markdown",
   "metadata": {},
   "source": [
    "## Expectations\n",
    "\n",
    "Know about this:\n",
    "* how to build a k nearest neighbor model based on classified data, and use it to predict the classes of new observations, using R's `kknn` function"
   ]
  },
  {
   "cell_type": "markdown",
   "metadata": {},
   "source": [
    "### Further Reading\n",
    "\n",
    "* https://www.rdocumentation.org/packages/rpart/versions/4.1-12/topics/rpart\n",
    "* https://cran.r-project.org/web/packages/ggdendro/vignettes/ggdendro.html\n",
    "* https://www.rdocumentation.org/packages/kknn/versions/1.3.1/topics/kknn\n",
    "* https://www.statmethods.net/advstats/cart.html\n",
    "* https://www.statmethods.net/advstats/glm.html"
   ]
  },
  {
   "cell_type": "markdown",
   "metadata": {},
   "source": [
    "<p style=\"text-align:left; font-size:10px;\">\n",
    "Copyright (c) Berkeley Data Analytics Group, LLC\n",
    "<span style=\"float:right;\">\n",
    "Document revised August 29, 2019\n",
    "</span>\n",
    "</p>"
   ]
  }
 ],
 "metadata": {
  "hide_code_all_hidden": false,
  "hide_input": false,
  "kernelspec": {
   "display_name": "R",
   "language": "R",
   "name": "ir"
  },
  "language_info": {
   "codemirror_mode": "r",
   "file_extension": ".r",
   "mimetype": "text/x-r-source",
   "name": "R",
   "pygments_lexer": "r",
   "version": "3.6.1"
  },
  "toc": {
   "base_numbering": 1,
   "nav_menu": {},
   "number_sections": true,
   "sideBar": true,
   "skip_h1_title": true,
   "title_cell": "Table of Contents",
   "title_sidebar": "Contents",
   "toc_cell": false,
   "toc_position": {
    "height": "calc(100% - 180px)",
    "left": "10px",
    "top": "150px",
    "width": "307.2px"
   },
   "toc_section_display": true,
   "toc_window_display": true
  }
 },
 "nbformat": 4,
 "nbformat_minor": 2
}

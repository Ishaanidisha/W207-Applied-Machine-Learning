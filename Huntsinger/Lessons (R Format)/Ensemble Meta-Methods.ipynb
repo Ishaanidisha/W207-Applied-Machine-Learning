{
 "cells": [
  {
   "cell_type": "markdown",
   "metadata": {
    "hideCode": false,
    "hidePrompt": false
   },
   "source": [
    "# Ensemble Meta-Methods\n",
    "\n",
    "![](banner_ensemble.jpg)"
   ]
  },
  {
   "cell_type": "code",
   "execution_count": 1,
   "metadata": {
    "hide_input": true
   },
   "outputs": [
    {
     "data": {
      "text/html": [
       "== document setup =="
      ]
     },
     "metadata": {},
     "output_type": "display_data"
    }
   ],
   "source": [
    "f = \"setup.R\"; for (i in 1:10) { if (file.exists(f)) break else f = paste0(\"../\", f) }; source(f)\n",
    "update_geom_defaults(\"segment\",    list(size=0.5, colour=\"black\"))"
   ]
  },
  {
   "cell_type": "markdown",
   "metadata": {},
   "source": [
    "## Introduction\n",
    "\n",
    "Motivation, context, history, related topics ..."
   ]
  },
  {
   "cell_type": "markdown",
   "metadata": {},
   "source": [
    "## Synopsis\n",
    "\n",
    "An ensemble meta-method is a data analytic method that combines several models to build a new classification or regression model.  Three popular ensemble meta-methods include bootstrap aggregating (bagging), boosting, and stacking.  The random forest meta-method is a variant of bootstrap aggregating.\n",
    "\n",
    "Bootstrap aggregating combines models built using a single data analytic method, a single set of hyper-parameter values, but different data samples.\n",
    "\n",
    "Boosting combines models built using a single data analytic method, a single set of hyper-parameter values, but different data samples biased by model performance.\n",
    "\n",
    "Stacking combines models built using different data analytic methods and/or hyper-parameter values, but a single dataset to transform the data representation, and then builds a new model using a different data analytic method and/or hyper-parameter values, and transformed data.\n",
    "\n",
    "Random forest combines models built using the decision tree method, a single set of hyper-parameter values, different variable samples, and different data samples."
   ]
  },
  {
   "cell_type": "markdown",
   "metadata": {},
   "source": [
    "**Terms**\n",
    "\n",
    "* Bootstrap Aggregating or Bagging\n",
    "* Random Forest\n",
    "* Boosting\n",
    "* Stacking"
   ]
  },
  {
   "cell_type": "markdown",
   "metadata": {},
   "source": [
    "## Exposition"
   ]
  },
  {
   "cell_type": "markdown",
   "metadata": {},
   "source": [
    "### Data\n",
    "\n",
    "Consider this dataset and new observation.  The scatterplot shows the observations jittered to expose those with identical x1, x2 values."
   ]
  },
  {
   "cell_type": "code",
   "execution_count": 2,
   "metadata": {
    "hideCode": false,
    "hidePrompt": false,
    "hide_input": true,
    "run_control": {
     "marked": false
    },
    "scrolled": false
   },
   "outputs": [
    {
     "data": {
      "text/html": [
       "<table>\n",
       "<thead><tr><th scope=col>observations</th><th scope=col>variables</th></tr></thead>\n",
       "<tbody>\n",
       "\t<tr><td>72</td><td>3 </td></tr>\n",
       "</tbody>\n",
       "</table>\n"
      ],
      "text/latex": [
       "\\begin{tabular}{r|ll}\n",
       " observations & variables\\\\\n",
       "\\hline\n",
       "\t 72 & 3 \\\\\n",
       "\\end{tabular}\n"
      ],
      "text/markdown": [
       "\n",
       "| observations | variables |\n",
       "|---|---|\n",
       "| 72 | 3  |\n",
       "\n"
      ],
      "text/plain": [
       "  observations variables\n",
       "1 72           3        "
      ]
     },
     "metadata": {},
     "output_type": "display_data"
    },
    {
     "data": {
      "image/png": "[encoded data removed]",
      "text/plain": [
       "plot without title"
      ]
     },
     "metadata": {},
     "output_type": "display_data"
    }
   ],
   "source": [
    "data = data.frame(x1=c(1,2,3,4,3,2,5,4,3,2,5,3,3,2,3,1,1,5,4,1,5,1,0,0,1,2,2,5,1,3,1,2,3,4,5,6,3,2,6,5,4,5,3,8,9,0,0,9,7,4,5,5,4,5,6,6,9,8,7,7,8,8,9,9,7,7,5,5,8,8,9,8),\n",
    "                  x2=c(3,2,6,5,4,5,3,8,9,0,0,9,7,4,5,5,4,5,6,3,2,4,3,5,4,6,5,1,2,3,4,5,4,3,4,8,1,2,3,4,3,2,5,4,3,6,5,3,3,2,3,6,7,5,4,6,5,7,8,9,8,7,6,5,7,3,1,2,3,4,5,6),\n",
    "                  class=c(\"A\",\"A\",\"A\",\"A\",\"A\",\"A\",\"A\",\"A\",\"A\",\"A\",\"A\",\"A\",\"A\",\"A\",\"A\",\"A\",\"A\",\"A\",\"A\",\"A\",\"A\",\"A\",\"A\",\"A\",\"A\",\"A\",\"A\",\"A\",\"A\",\"A\",\"A\",\"A\",\"A\",\"A\",\"A\",\"A\",\"B\",\"B\",\"B\",\"B\",\"B\",\"B\",\"B\",\"B\",\"B\",\"B\",\"B\",\"B\",\"B\",\"B\",\"B\",\"B\",\"B\",\"B\",\"B\",\"B\",\"B\",\"B\",\"B\",\"B\",\"B\",\"B\",\"B\",\"B\",\"B\",\"B\",\"B\",\"B\",\"B\",\"B\",\"B\",\"B\"))\n",
    "new = data.frame(x1=5.2, x2=4)\n",
    "\n",
    "size(data)\n",
    "ggplot(data) +\n",
    "geom_jitter(aes(x=x1, y=x2, color=class), position = position_jitter(height=0.3, width=0.03)) +\n",
    "geom_point(aes(x=x1, y=x2), data=new, color=NEW_COLOR) + \n",
    "scale_color_manual(values=PALETTE)"
   ]
  },
  {
   "cell_type": "markdown",
   "metadata": {},
   "source": [
    "### Model Based on Original Data\n",
    "\n",
    "Here is a decision tree model built using the original data.  We can use the model to predict the class of the new observation."
   ]
  },
  {
   "cell_type": "code",
   "execution_count": 3,
   "metadata": {
    "hide_input": true,
    "scrolled": false
   },
   "outputs": [
    {
     "data": {
      "text/html": [
       "<table><tr><td style=\"background-color:white; vertical-align:top; padding-right:40px;\"><table>\n",
       "<caption><center><font color=\"black\"><b>probability</b></font></center></caption>\n",
       " <thead>\n",
       "  <tr>\n",
       "   <th style=\"text-align:right;\"> A </th>\n",
       "   <th style=\"text-align:right;\"> B </th>\n",
       "  </tr>\n",
       " </thead>\n",
       "<tbody>\n",
       "  <tr>\n",
       "   <td style=\"text-align:right;\"> 0.4615385 </td>\n",
       "   <td style=\"text-align:right;\"> 0.5384615 </td>\n",
       "  </tr>\n",
       "</tbody>\n",
       "</table></td><td style=\"background-color:white; vertical-align:top;\"><table>\n",
       "<caption><center><font color=\"black\"><b>new</b></font></center></caption>\n",
       " <thead>\n",
       "  <tr>\n",
       "   <th style=\"text-align:right;\"> x1 </th>\n",
       "   <th style=\"text-align:right;\"> x2 </th>\n",
       "   <th style=\"text-align:right;\"> class.predicted </th>\n",
       "  </tr>\n",
       " </thead>\n",
       "<tbody>\n",
       "  <tr>\n",
       "   <td style=\"text-align:right;\"> 5.2 </td>\n",
       "   <td style=\"text-align:right;\"> 4 </td>\n",
       "   <td style=\"text-align:right;\"> B </td>\n",
       "  </tr>\n",
       "</tbody>\n",
       "</table></td></tr></table>"
      ]
     },
     "metadata": {},
     "output_type": "display_data"
    },
    {
     "data": {
      "image/png": "[encoded data removed]",
      "text/plain": [
       "plot without title"
      ]
     },
     "metadata": {},
     "output_type": "display_data"
    }
   ],
   "source": [
    "model = rpart(class ~ x1+x2, data, method=\"class\")\n",
    "prob = predict(model, new, type=\"prob\")\n",
    "class.predicted = as.class(prob, \"A\", cutoff=0.5)\n",
    "\n",
    "row.arrange(prob %>% captionx(\"probability\"), data.frame(new, class.predicted) %>% captionx(\"new\"))\n",
    "\n",
    "ggtree(model) + scale_fill_manual(values=PALETTE)"
   ]
  },
  {
   "cell_type": "markdown",
   "metadata": {},
   "source": [
    "### Bootstrap Aggregating (Bagging)\n",
    "\n",
    "\n",
    "Build a model comprising other constituent models, which are all built using a single data analytic method and set of hyper-parameter values, but based on different bootstrap samples of the data.  The resulting combination of models makes predictions based on the most popular of the constituent models' predictions.\n",
    "\n",
    "You can think of a bootstrap aggregated model as a committee of experts.  Each expert has studied a particular field of knowledge, different from (but possibly overlapping with) those that the other experts have studied. \n",
    "\n",
    "Bootstrap aggregating is also known as \"bagging\".  "
   ]
  },
  {
   "cell_type": "markdown",
   "metadata": {},
   "source": [
    "#### Bootstrap Samples\n",
    "\n",
    "A bootstrap sample of data is a set of randomly selected observations from that data, with replacement allowed.  The number of observations in the bootstrap sample should be the same as the number of observations in the data.  Usually, many of the observations in the bootstrap sample are duplicates of each other.\n",
    "\n",
    "Here we take 3 different bootstrap samples of the data."
   ]
  },
  {
   "cell_type": "code",
   "execution_count": 4,
   "metadata": {
    "hide_input": true
   },
   "outputs": [],
   "source": [
    "set.seed(12345)\n",
    "data.1 = sample_n(data, nrow(data), replace=TRUE)\n",
    "data.2 = sample_n(data, nrow(data), replace=TRUE)\n",
    "data.3 = sample_n(data, nrow(data), replace=TRUE)"
   ]
  },
  {
   "cell_type": "code",
   "execution_count": 5,
   "metadata": {
    "hide_input": true,
    "scrolled": false
   },
   "outputs": [
    {
     "data": {
      "image/png": "[encoded data removed]",
      "text/plain": [
       "plot without title"
      ]
     },
     "metadata": {},
     "output_type": "display_data"
    }
   ],
   "source": [
    "ggplot(data.1) + ggtitle(\"Dataset #1\") +\n",
    "geom_jitter(aes(x=x1, y=x2, color=class), position = position_jitter(height=0.3, width=0.03))"
   ]
  },
  {
   "cell_type": "code",
   "execution_count": 6,
   "metadata": {
    "hide_input": true
   },
   "outputs": [
    {
     "data": {
      "image/png": "[encoded data removed]",
      "text/plain": [
       "plot without title"
      ]
     },
     "metadata": {},
     "output_type": "display_data"
    }
   ],
   "source": [
    "ggplot(data.2) + ggtitle(\"Dataset #2\") +\n",
    "geom_jitter(aes(x=x1, y=x2, color=class), position = position_jitter(height=0.3, width=0.03))"
   ]
  },
  {
   "cell_type": "code",
   "execution_count": 7,
   "metadata": {
    "hide_input": true
   },
   "outputs": [
    {
     "data": {
      "image/png": "[encoded data removed]",
      "text/plain": [
       "plot without title"
      ]
     },
     "metadata": {},
     "output_type": "display_data"
    }
   ],
   "source": [
    "ggplot(data.3) + ggtitle(\"Dataset #3\") +\n",
    "geom_jitter(aes(x=x1, y=x2, color=class), position = position_jitter(height=0.3, width=0.03))"
   ]
  },
  {
   "cell_type": "markdown",
   "metadata": {},
   "source": [
    "#### Models Based on Bootstrap Samples\n",
    "\n",
    "We can build several models, using the same method and hyper-parameter values, but based on the different bootstrap samples of data.  Each model is an \"expert\" on the particular subset of data represented in the bootstrap sample on which it is based.\n",
    "\n",
    "Here we build 3 such models."
   ]
  },
  {
   "cell_type": "code",
   "execution_count": 8,
   "metadata": {
    "hide_input": true
   },
   "outputs": [
    {
     "data": {
      "image/png": "[encoded data removed]",
      "text/plain": [
       "plot without title"
      ]
     },
     "metadata": {},
     "output_type": "display_data"
    }
   ],
   "source": [
    "model.1 = rpart(class ~ x1+x2, data.1, method=\"class\")\n",
    "ggtree(model.1) + ggtitle(\"Model #1\")"
   ]
  },
  {
   "cell_type": "code",
   "execution_count": 9,
   "metadata": {
    "hide_input": true
   },
   "outputs": [
    {
     "data": {
      "image/png": "[encoded data removed]",
      "text/plain": [
       "plot without title"
      ]
     },
     "metadata": {},
     "output_type": "display_data"
    }
   ],
   "source": [
    "model.2 = rpart(class ~ x1+x2, data.2, method=\"class\")\n",
    "ggtree(model.2) + ggtitle(\"Model #2\")"
   ]
  },
  {
   "cell_type": "code",
   "execution_count": 10,
   "metadata": {
    "hide_input": true
   },
   "outputs": [
    {
     "data": {
      "image/png": "[encoded data removed]",
      "text/plain": [
       "plot without title"
      ]
     },
     "metadata": {},
     "output_type": "display_data"
    }
   ],
   "source": [
    "model.3 = rpart(class ~ x1+x2, data.3, method=\"class\")\n",
    "ggtree(model.3) + ggtitle(\"Model #3\")"
   ]
  },
  {
   "cell_type": "markdown",
   "metadata": {},
   "source": [
    "#### Predictions\n",
    "\n",
    " We use the 3 models to make 3 different predictions of the new observation's class."
   ]
  },
  {
   "cell_type": "markdown",
   "metadata": {},
   "source": [
    "New observation's class predicted by Model 1: "
   ]
  },
  {
   "cell_type": "code",
   "execution_count": 11,
   "metadata": {
    "hide_input": true
   },
   "outputs": [
    {
     "data": {
      "text/html": [
       "<table><tr><td style=\"background-color:white; vertical-align:top; padding-right:40px;\"><table>\n",
       "<caption><center><font color=\"black\"><b>prob.1</b></font></center></caption>\n",
       " <thead>\n",
       "  <tr>\n",
       "   <th style=\"text-align:right;\"> A </th>\n",
       "   <th style=\"text-align:right;\"> B </th>\n",
       "  </tr>\n",
       " </thead>\n",
       "<tbody>\n",
       "  <tr>\n",
       "   <td style=\"text-align:right;\"> 0.2058824 </td>\n",
       "   <td style=\"text-align:right;\"> 0.7941176 </td>\n",
       "  </tr>\n",
       "</tbody>\n",
       "</table></td><td style=\"background-color:white; vertical-align:top;\"><table>\n",
       "<caption><center><font color=\"black\"><b>new</b></font></center></caption>\n",
       " <thead>\n",
       "  <tr>\n",
       "   <th style=\"text-align:right;\"> x1 </th>\n",
       "   <th style=\"text-align:right;\"> x2 </th>\n",
       "   <th style=\"text-align:right;\"> class.predicted.1 </th>\n",
       "  </tr>\n",
       " </thead>\n",
       "<tbody>\n",
       "  <tr>\n",
       "   <td style=\"text-align:right;\"> 5.2 </td>\n",
       "   <td style=\"text-align:right;\"> 4 </td>\n",
       "   <td style=\"text-align:right;\"> B </td>\n",
       "  </tr>\n",
       "</tbody>\n",
       "</table></td></tr></table>"
      ]
     },
     "metadata": {},
     "output_type": "display_data"
    }
   ],
   "source": [
    "prob.1 = predict(model.1, new, type=\"prob\")\n",
    "class.predicted.1 = as.class(prob.1, \"A\", cutoff=0.5)\n",
    "\n",
    "row.arrange(prob.1 %>% captionx(\"prob.1\"), data.frame(new, class.predicted.1) %>% captionx(\"new\"))"
   ]
  },
  {
   "cell_type": "markdown",
   "metadata": {},
   "source": [
    "New observation's class predicted by Model 2: "
   ]
  },
  {
   "cell_type": "code",
   "execution_count": 12,
   "metadata": {
    "hide_input": true
   },
   "outputs": [
    {
     "data": {
      "text/html": [
       "<table><tr><td style=\"background-color:white; vertical-align:top; padding-right:40px;\"><table>\n",
       "<caption><center><font color=\"black\"><b>prob.2</b></font></center></caption>\n",
       " <thead>\n",
       "  <tr>\n",
       "   <th style=\"text-align:right;\"> A </th>\n",
       "   <th style=\"text-align:right;\"> B </th>\n",
       "  </tr>\n",
       " </thead>\n",
       "<tbody>\n",
       "  <tr>\n",
       "   <td style=\"text-align:right;\"> 0.9166667 </td>\n",
       "   <td style=\"text-align:right;\"> 0.0833333 </td>\n",
       "  </tr>\n",
       "</tbody>\n",
       "</table></td><td style=\"background-color:white; vertical-align:top;\"><table>\n",
       "<caption><center><font color=\"black\"><b>new</b></font></center></caption>\n",
       " <thead>\n",
       "  <tr>\n",
       "   <th style=\"text-align:right;\"> x1 </th>\n",
       "   <th style=\"text-align:right;\"> x2 </th>\n",
       "   <th style=\"text-align:right;\"> class.predicted.2 </th>\n",
       "  </tr>\n",
       " </thead>\n",
       "<tbody>\n",
       "  <tr>\n",
       "   <td style=\"text-align:right;\"> 5.2 </td>\n",
       "   <td style=\"text-align:right;\"> 4 </td>\n",
       "   <td style=\"text-align:right;\"> A </td>\n",
       "  </tr>\n",
       "</tbody>\n",
       "</table></td></tr></table>"
      ]
     },
     "metadata": {},
     "output_type": "display_data"
    }
   ],
   "source": [
    "prob.2 = predict(model.2, new, type=\"prob\")\n",
    "class.predicted.2 = as.class(prob.2, \"A\", cutoff=0.5)\n",
    "\n",
    "row.arrange(prob.2 %>% captionx(\"prob.2\"), data.frame(new, class.predicted.2) %>% captionx(\"new\"))"
   ]
  },
  {
   "cell_type": "markdown",
   "metadata": {},
   "source": [
    "New observation's class predicted by Model 3: "
   ]
  },
  {
   "cell_type": "code",
   "execution_count": 13,
   "metadata": {
    "hide_input": true
   },
   "outputs": [
    {
     "data": {
      "text/html": [
       "<table><tr><td style=\"background-color:white; vertical-align:top; padding-right:40px;\"><table>\n",
       "<caption><center><font color=\"black\"><b>prob.3</b></font></center></caption>\n",
       " <thead>\n",
       "  <tr>\n",
       "   <th style=\"text-align:right;\"> A </th>\n",
       "   <th style=\"text-align:right;\"> B </th>\n",
       "  </tr>\n",
       " </thead>\n",
       "<tbody>\n",
       "  <tr>\n",
       "   <td style=\"text-align:right;\"> 0.75 </td>\n",
       "   <td style=\"text-align:right;\"> 0.25 </td>\n",
       "  </tr>\n",
       "</tbody>\n",
       "</table></td><td style=\"background-color:white; vertical-align:top;\"><table>\n",
       "<caption><center><font color=\"black\"><b>new</b></font></center></caption>\n",
       " <thead>\n",
       "  <tr>\n",
       "   <th style=\"text-align:right;\"> x1 </th>\n",
       "   <th style=\"text-align:right;\"> x2 </th>\n",
       "   <th style=\"text-align:right;\"> class.predicted.3 </th>\n",
       "  </tr>\n",
       " </thead>\n",
       "<tbody>\n",
       "  <tr>\n",
       "   <td style=\"text-align:right;\"> 5.2 </td>\n",
       "   <td style=\"text-align:right;\"> 4 </td>\n",
       "   <td style=\"text-align:right;\"> A </td>\n",
       "  </tr>\n",
       "</tbody>\n",
       "</table></td></tr></table>"
      ]
     },
     "metadata": {},
     "output_type": "display_data"
    }
   ],
   "source": [
    "prob.3 = predict(model.3, new, type=\"prob\")\n",
    "class.predicted.3 = as.class(prob.3, \"A\", cutoff=0.5)\n",
    "\n",
    "row.arrange(prob.3 %>% captionx(\"prob.3\"), data.frame(new, class.predicted.3) %>% captionx(\"new\"))"
   ]
  },
  {
   "cell_type": "markdown",
   "metadata": {},
   "source": [
    "#### Vote\n",
    "\n",
    "We compare the predictions of models and vote for the most popular prediction.  Models #1 and #2 predict that the new observation's class is A, and model #3 predicts B.  The vote is 2 to 1 in favor of A, so the bootstrap aggregated model predicts A."
   ]
  },
  {
   "cell_type": "code",
   "execution_count": 14,
   "metadata": {
    "hide_input": true
   },
   "outputs": [
    {
     "data": {
      "text/html": [
       "<table>\n",
       "<caption><center><font color=\"black\"><b>new</b></font></center></caption>\n",
       " <thead>\n",
       "  <tr>\n",
       "   <th style=\"text-align:right;\"> x1 </th>\n",
       "   <th style=\"text-align:right;\"> x2 </th>\n",
       "   <th style=\"text-align:right;\"> class.predicted.1 </th>\n",
       "   <th style=\"text-align:right;\"> class.predicted.2 </th>\n",
       "   <th style=\"text-align:right;\"> class.predicted.3 </th>\n",
       "   <th style=\"text-align:right;\"> class.predicted </th>\n",
       "  </tr>\n",
       " </thead>\n",
       "<tbody>\n",
       "  <tr>\n",
       "   <td style=\"text-align:right;\"> 5.2 </td>\n",
       "   <td style=\"text-align:right;\"> 4 </td>\n",
       "   <td style=\"text-align:right;\"> B </td>\n",
       "   <td style=\"text-align:right;\"> A </td>\n",
       "   <td style=\"text-align:right;\"> A </td>\n",
       "   <td style=\"text-align:right;\"> A </td>\n",
       "  </tr>\n",
       "</tbody>\n",
       "</table>"
      ]
     },
     "metadata": {},
     "output_type": "display_data"
    }
   ],
   "source": [
    "cbind(new, class.predicted.1, class.predicted.2, class.predicted.3,\n",
    "      class.predicted=vote(class.predicted.1, class.predicted.2, class.predicted.3)) %>% caption(\"new\")"
   ]
  },
  {
   "cell_type": "markdown",
   "metadata": {},
   "source": [
    "### Boosting\n",
    "\n",
    "Build a model, make predictions, and note the prediction errors.  Then build another model, using the same data analytic method and hyper-parameter values, but based on a resample of the data that emphasizes the observations associated with the prediction errors.  Continue in this way to build more models.  The resulting combination of models makes predictions based on the most popular of the models' predictions.\n",
    "\n",
    "You can think of a boosted model as a committee of experts.  Each expert (except the first one) has studied a specialized sub-field of knowledge that focuses on the aspects least understood by another expert."
   ]
  },
  {
   "cell_type": "markdown",
   "metadata": {},
   "source": [
    "#### Models"
   ]
  },
  {
   "cell_type": "markdown",
   "metadata": {},
   "source": [
    "**Model #1**\n",
    "\n",
    "Build Model \\#1 based on the original data.  Here we use the decision tree method tlo build the model."
   ]
  },
  {
   "cell_type": "code",
   "execution_count": 15,
   "metadata": {
    "hide_input": true
   },
   "outputs": [
    {
     "data": {
      "image/png": "[encoded data removed]",
      "text/plain": [
       "plot without title"
      ]
     },
     "metadata": {},
     "output_type": "display_data"
    }
   ],
   "source": [
    "ggplot(data) + ggtitle(\"Original Data\") +\n",
    "geom_jitter(aes(x=x1, y=x2, color=class), position = position_jitter(height=0.3, width=0.03))"
   ]
  },
  {
   "cell_type": "code",
   "execution_count": 16,
   "metadata": {
    "hide_input": true
   },
   "outputs": [
    {
     "data": {
      "image/png": "[encoded data removed]",
      "text/plain": [
       "plot without title"
      ]
     },
     "metadata": {},
     "output_type": "display_data"
    }
   ],
   "source": [
    "model.1 = rpart(class ~ x1+x2, data, method=\"class\")\n",
    "ggtree(model.1) + ggtitle(\"Model #1\")"
   ]
  },
  {
   "cell_type": "markdown",
   "metadata": {},
   "source": [
    "**Model #2**"
   ]
  },
  {
   "cell_type": "markdown",
   "metadata": {
    "hide_input": true
   },
   "source": [
    "Assess Model #1's ability to predict the original data's classes."
   ]
  },
  {
   "cell_type": "code",
   "execution_count": 17,
   "metadata": {
    "hide_input": true,
    "scrolled": false
   },
   "outputs": [
    {
     "data": {
      "text/html": [
       "<table>\n",
       "<caption><center><font color=\"black\"><b>first few observations of data</b></font></center></caption>\n",
       " <thead>\n",
       "  <tr>\n",
       "   <th style=\"text-align:right;\"> x1 </th>\n",
       "   <th style=\"text-align:right;\"> x2 </th>\n",
       "   <th style=\"text-align:right;\"> class </th>\n",
       "   <th style=\"text-align:right;\"> class.predicted.1 </th>\n",
       "   <th style=\"text-align:right;\"> hit.1 </th>\n",
       "  </tr>\n",
       " </thead>\n",
       "<tbody>\n",
       "  <tr>\n",
       "   <td style=\"text-align:right;\"> 1 </td>\n",
       "   <td style=\"text-align:right;\"> 3 </td>\n",
       "   <td style=\"text-align:right;\"> A </td>\n",
       "   <td style=\"text-align:right;\"> A </td>\n",
       "   <td style=\"text-align:right;\"> TRUE </td>\n",
       "  </tr>\n",
       "  <tr>\n",
       "   <td style=\"text-align:right;\"> 2 </td>\n",
       "   <td style=\"text-align:right;\"> 2 </td>\n",
       "   <td style=\"text-align:right;\"> A </td>\n",
       "   <td style=\"text-align:right;\"> A </td>\n",
       "   <td style=\"text-align:right;\"> TRUE </td>\n",
       "  </tr>\n",
       "  <tr>\n",
       "   <td style=\"text-align:right;\"> 3 </td>\n",
       "   <td style=\"text-align:right;\"> 6 </td>\n",
       "   <td style=\"text-align:right;\"> A </td>\n",
       "   <td style=\"text-align:right;\"> A </td>\n",
       "   <td style=\"text-align:right;\"> TRUE </td>\n",
       "  </tr>\n",
       "  <tr>\n",
       "   <td style=\"text-align:right;\"> 4 </td>\n",
       "   <td style=\"text-align:right;\"> 5 </td>\n",
       "   <td style=\"text-align:right;\"> A </td>\n",
       "   <td style=\"text-align:right;\"> A </td>\n",
       "   <td style=\"text-align:right;\"> TRUE </td>\n",
       "  </tr>\n",
       "  <tr>\n",
       "   <td style=\"text-align:right;\"> 3 </td>\n",
       "   <td style=\"text-align:right;\"> 4 </td>\n",
       "   <td style=\"text-align:right;\"> A </td>\n",
       "   <td style=\"text-align:right;\"> A </td>\n",
       "   <td style=\"text-align:right;\"> TRUE </td>\n",
       "  </tr>\n",
       "  <tr>\n",
       "   <td style=\"text-align:right;\"> 2 </td>\n",
       "   <td style=\"text-align:right;\"> 5 </td>\n",
       "   <td style=\"text-align:right;\"> A </td>\n",
       "   <td style=\"text-align:right;\"> A </td>\n",
       "   <td style=\"text-align:right;\"> TRUE </td>\n",
       "  </tr>\n",
       "  <tr>\n",
       "   <td style=\"text-align:right;\"> 5 </td>\n",
       "   <td style=\"text-align:right;\"> 3 </td>\n",
       "   <td style=\"text-align:right;\"> A </td>\n",
       "   <td style=\"text-align:right;\"> B </td>\n",
       "   <td style=\"text-align:right;\"> FALSE </td>\n",
       "  </tr>\n",
       "  <tr>\n",
       "   <td style=\"text-align:right;\"> 4 </td>\n",
       "   <td style=\"text-align:right;\"> 8 </td>\n",
       "   <td style=\"text-align:right;\"> A </td>\n",
       "   <td style=\"text-align:right;\"> A </td>\n",
       "   <td style=\"text-align:right;\"> TRUE </td>\n",
       "  </tr>\n",
       "  <tr>\n",
       "   <td style=\"text-align:right;\"> 3 </td>\n",
       "   <td style=\"text-align:right;\"> 9 </td>\n",
       "   <td style=\"text-align:right;\"> A </td>\n",
       "   <td style=\"text-align:right;\"> A </td>\n",
       "   <td style=\"text-align:right;\"> TRUE </td>\n",
       "  </tr>\n",
       "  <tr>\n",
       "   <td style=\"text-align:right;\"> 2 </td>\n",
       "   <td style=\"text-align:right;\"> 0 </td>\n",
       "   <td style=\"text-align:right;\"> A </td>\n",
       "   <td style=\"text-align:right;\"> A </td>\n",
       "   <td style=\"text-align:right;\"> TRUE </td>\n",
       "  </tr>\n",
       "</tbody>\n",
       "</table>"
      ]
     },
     "metadata": {},
     "output_type": "display_data"
    }
   ],
   "source": [
    "prob.1 = predict(model.1, data, type=\"prob\")\n",
    "class.predicted.1 = as.class(prob.1, \"A\", cutoff=0.5)\n",
    "hit.1 = class.predicted.1 == data$class\n",
    "\n",
    "result.1 = data.frame(data, class.predicted.1, hit.1)\n",
    "head(result.1, 10) %>% caption(\"first few observations of data\")"
   ]
  },
  {
   "cell_type": "markdown",
   "metadata": {
    "hide_input": true
   },
   "source": [
    "Resample the original dataset, choose observations predicted incorrectly by Model \\#1 with high probability.  This becomes Dataset \\#2.\n",
    "\n",
    "Here we choose the incorrectly predicted observations with 10 times greater chance than the correctly predicted observations.  Note that observation [ x1=5, x2=3, class=A ] (which appears 7th in the original dataset)  was predicted incorrectly by Model #1 and so it is not surprising that it appears in Dataset #2."
   ]
  },
  {
   "cell_type": "code",
   "execution_count": 18,
   "metadata": {
    "hide_input": true,
    "scrolled": false
   },
   "outputs": [
    {
     "data": {
      "text/html": [
       "<table>\n",
       "<caption><center><font color=\"black\"><b>first few observations of data.2</b></font></center></caption>\n",
       " <thead>\n",
       "  <tr>\n",
       "   <th style=\"text-align:left;\">   </th>\n",
       "   <th style=\"text-align:right;\"> x1 </th>\n",
       "   <th style=\"text-align:right;\"> x2 </th>\n",
       "   <th style=\"text-align:right;\"> class </th>\n",
       "  </tr>\n",
       " </thead>\n",
       "<tbody>\n",
       "  <tr>\n",
       "   <td style=\"text-align:left;\"> 36 </td>\n",
       "   <td style=\"text-align:right;\"> 6 </td>\n",
       "   <td style=\"text-align:right;\"> 8 </td>\n",
       "   <td style=\"text-align:right;\"> A </td>\n",
       "  </tr>\n",
       "  <tr>\n",
       "   <td style=\"text-align:left;\"> 48 </td>\n",
       "   <td style=\"text-align:right;\"> 9 </td>\n",
       "   <td style=\"text-align:right;\"> 3 </td>\n",
       "   <td style=\"text-align:right;\"> B </td>\n",
       "  </tr>\n",
       "  <tr>\n",
       "   <td style=\"text-align:left;\"> 24 </td>\n",
       "   <td style=\"text-align:right;\"> 0 </td>\n",
       "   <td style=\"text-align:right;\"> 5 </td>\n",
       "   <td style=\"text-align:right;\"> A </td>\n",
       "  </tr>\n",
       "  <tr>\n",
       "   <td style=\"text-align:left;\"> 50 </td>\n",
       "   <td style=\"text-align:right;\"> 4 </td>\n",
       "   <td style=\"text-align:right;\"> 2 </td>\n",
       "   <td style=\"text-align:right;\"> B </td>\n",
       "  </tr>\n",
       "  <tr>\n",
       "   <td style=\"text-align:left;\"> 7 </td>\n",
       "   <td style=\"text-align:right;\"> 5 </td>\n",
       "   <td style=\"text-align:right;\"> 3 </td>\n",
       "   <td style=\"text-align:right;\"> A </td>\n",
       "  </tr>\n",
       "  <tr>\n",
       "   <td style=\"text-align:left;\"> 35 </td>\n",
       "   <td style=\"text-align:right;\"> 5 </td>\n",
       "   <td style=\"text-align:right;\"> 4 </td>\n",
       "   <td style=\"text-align:right;\"> A </td>\n",
       "  </tr>\n",
       "  <tr>\n",
       "   <td style=\"text-align:left;\"> 53 </td>\n",
       "   <td style=\"text-align:right;\"> 4 </td>\n",
       "   <td style=\"text-align:right;\"> 7 </td>\n",
       "   <td style=\"text-align:right;\"> B </td>\n",
       "  </tr>\n",
       "  <tr>\n",
       "   <td style=\"text-align:left;\"> 28 </td>\n",
       "   <td style=\"text-align:right;\"> 5 </td>\n",
       "   <td style=\"text-align:right;\"> 1 </td>\n",
       "   <td style=\"text-align:right;\"> A </td>\n",
       "  </tr>\n",
       "  <tr>\n",
       "   <td style=\"text-align:left;\"> 15 </td>\n",
       "   <td style=\"text-align:right;\"> 3 </td>\n",
       "   <td style=\"text-align:right;\"> 5 </td>\n",
       "   <td style=\"text-align:right;\"> A </td>\n",
       "  </tr>\n",
       "  <tr>\n",
       "   <td style=\"text-align:left;\"> 71 </td>\n",
       "   <td style=\"text-align:right;\"> 9 </td>\n",
       "   <td style=\"text-align:right;\"> 5 </td>\n",
       "   <td style=\"text-align:right;\"> B </td>\n",
       "  </tr>\n",
       "</tbody>\n",
       "</table>"
      ]
     },
     "metadata": {},
     "output_type": "display_data"
    }
   ],
   "source": [
    "set.seed(12345)\n",
    "data.2 = focus_data(data, hit.1, emphasis=10)\n",
    "head(data.2,10) %>% caption(\"first few observations of data.2\", row.names=TRUE)"
   ]
  },
  {
   "cell_type": "code",
   "execution_count": 19,
   "metadata": {
    "hide_input": true
   },
   "outputs": [
    {
     "data": {
      "image/png": "[encoded data removed]",
      "text/plain": [
       "plot without title"
      ]
     },
     "metadata": {},
     "output_type": "display_data"
    }
   ],
   "source": [
    "ggplot(data.2) + ggtitle(\"Dataset #2\") +\n",
    "geom_jitter(aes(x=x1, y=x2, color=class), position = position_jitter(height=0.3, width=0.03)) +\n",
    "scale_color_manual(values=PALETTE)"
   ]
  },
  {
   "cell_type": "markdown",
   "metadata": {},
   "source": [
    "Build Model \\#2 based on Dataset \\#2.  We expect this model to better predict the classes of those observations that Model \\#1 predicted incorrectly."
   ]
  },
  {
   "cell_type": "code",
   "execution_count": 20,
   "metadata": {
    "hide_input": true
   },
   "outputs": [
    {
     "data": {
      "image/png": "[encoded data removed]",
      "text/plain": [
       "plot without title"
      ]
     },
     "metadata": {},
     "output_type": "display_data"
    }
   ],
   "source": [
    "model.2 = rpart(class ~ x1+x2, data.2, method=\"class\")\n",
    "ggtree(model.2) + ggtitle(\"Model #2\")"
   ]
  },
  {
   "cell_type": "markdown",
   "metadata": {},
   "source": [
    "**Model #3**\n",
    "\n",
    "Assess Model #2's ability to predict Dataset #2's classes."
   ]
  },
  {
   "cell_type": "code",
   "execution_count": 21,
   "metadata": {
    "hide_input": true,
    "scrolled": false
   },
   "outputs": [
    {
     "data": {
      "text/html": [
       "<table>\n",
       "<caption><center><font color=\"black\"><b>first few observations of data.2</b></font></center></caption>\n",
       " <thead>\n",
       "  <tr>\n",
       "   <th style=\"text-align:left;\">   </th>\n",
       "   <th style=\"text-align:right;\"> x1 </th>\n",
       "   <th style=\"text-align:right;\"> x2 </th>\n",
       "   <th style=\"text-align:right;\"> class </th>\n",
       "   <th style=\"text-align:right;\"> class.predicted.2 </th>\n",
       "   <th style=\"text-align:right;\"> hit.2 </th>\n",
       "  </tr>\n",
       " </thead>\n",
       "<tbody>\n",
       "  <tr>\n",
       "   <td style=\"text-align:left;\"> 36 </td>\n",
       "   <td style=\"text-align:right;\"> 6 </td>\n",
       "   <td style=\"text-align:right;\"> 8 </td>\n",
       "   <td style=\"text-align:right;\"> A </td>\n",
       "   <td style=\"text-align:right;\"> B </td>\n",
       "   <td style=\"text-align:right;\"> FALSE </td>\n",
       "  </tr>\n",
       "  <tr>\n",
       "   <td style=\"text-align:left;\"> 48 </td>\n",
       "   <td style=\"text-align:right;\"> 9 </td>\n",
       "   <td style=\"text-align:right;\"> 3 </td>\n",
       "   <td style=\"text-align:right;\"> B </td>\n",
       "   <td style=\"text-align:right;\"> B </td>\n",
       "   <td style=\"text-align:right;\"> TRUE </td>\n",
       "  </tr>\n",
       "  <tr>\n",
       "   <td style=\"text-align:left;\"> 24 </td>\n",
       "   <td style=\"text-align:right;\"> 0 </td>\n",
       "   <td style=\"text-align:right;\"> 5 </td>\n",
       "   <td style=\"text-align:right;\"> A </td>\n",
       "   <td style=\"text-align:right;\"> B </td>\n",
       "   <td style=\"text-align:right;\"> FALSE </td>\n",
       "  </tr>\n",
       "  <tr>\n",
       "   <td style=\"text-align:left;\"> 50 </td>\n",
       "   <td style=\"text-align:right;\"> 4 </td>\n",
       "   <td style=\"text-align:right;\"> 2 </td>\n",
       "   <td style=\"text-align:right;\"> B </td>\n",
       "   <td style=\"text-align:right;\"> B </td>\n",
       "   <td style=\"text-align:right;\"> TRUE </td>\n",
       "  </tr>\n",
       "  <tr>\n",
       "   <td style=\"text-align:left;\"> 7 </td>\n",
       "   <td style=\"text-align:right;\"> 5 </td>\n",
       "   <td style=\"text-align:right;\"> 3 </td>\n",
       "   <td style=\"text-align:right;\"> A </td>\n",
       "   <td style=\"text-align:right;\"> A </td>\n",
       "   <td style=\"text-align:right;\"> TRUE </td>\n",
       "  </tr>\n",
       "  <tr>\n",
       "   <td style=\"text-align:left;\"> 35 </td>\n",
       "   <td style=\"text-align:right;\"> 5 </td>\n",
       "   <td style=\"text-align:right;\"> 4 </td>\n",
       "   <td style=\"text-align:right;\"> A </td>\n",
       "   <td style=\"text-align:right;\"> A </td>\n",
       "   <td style=\"text-align:right;\"> TRUE </td>\n",
       "  </tr>\n",
       "  <tr>\n",
       "   <td style=\"text-align:left;\"> 53 </td>\n",
       "   <td style=\"text-align:right;\"> 4 </td>\n",
       "   <td style=\"text-align:right;\"> 7 </td>\n",
       "   <td style=\"text-align:right;\"> B </td>\n",
       "   <td style=\"text-align:right;\"> B </td>\n",
       "   <td style=\"text-align:right;\"> TRUE </td>\n",
       "  </tr>\n",
       "  <tr>\n",
       "   <td style=\"text-align:left;\"> 28 </td>\n",
       "   <td style=\"text-align:right;\"> 5 </td>\n",
       "   <td style=\"text-align:right;\"> 1 </td>\n",
       "   <td style=\"text-align:right;\"> A </td>\n",
       "   <td style=\"text-align:right;\"> A </td>\n",
       "   <td style=\"text-align:right;\"> TRUE </td>\n",
       "  </tr>\n",
       "  <tr>\n",
       "   <td style=\"text-align:left;\"> 15 </td>\n",
       "   <td style=\"text-align:right;\"> 3 </td>\n",
       "   <td style=\"text-align:right;\"> 5 </td>\n",
       "   <td style=\"text-align:right;\"> A </td>\n",
       "   <td style=\"text-align:right;\"> B </td>\n",
       "   <td style=\"text-align:right;\"> FALSE </td>\n",
       "  </tr>\n",
       "  <tr>\n",
       "   <td style=\"text-align:left;\"> 71 </td>\n",
       "   <td style=\"text-align:right;\"> 9 </td>\n",
       "   <td style=\"text-align:right;\"> 5 </td>\n",
       "   <td style=\"text-align:right;\"> B </td>\n",
       "   <td style=\"text-align:right;\"> B </td>\n",
       "   <td style=\"text-align:right;\"> TRUE </td>\n",
       "  </tr>\n",
       "</tbody>\n",
       "</table>"
      ]
     },
     "metadata": {},
     "output_type": "display_data"
    }
   ],
   "source": [
    "prob.2 = predict(model.2, data.2, type=\"prob\")\n",
    "class.predicted.2 = as.class(prob.2, \"A\", cutoff=0.5)\n",
    "hit.2 = class.predicted.2 == data.2$class\n",
    "\n",
    "result.2 = data.frame(data.2, class.predicted.2, hit.2)\n",
    "head(result.2, 10) %>% caption(\"first few observations of data.2\", row.names=TRUE)"
   ]
  },
  {
   "cell_type": "markdown",
   "metadata": {},
   "source": [
    "Resample Dataset \\#2, choose observations predicted incorrectly by Model \\#2 with high probability.  This becomes Dataset \\#3.\n",
    "\n",
    "Here we choose the incorrectly predicted observations with 10 times greater chance than the correctly predicted observations."
   ]
  },
  {
   "cell_type": "code",
   "execution_count": 22,
   "metadata": {
    "hide_input": true,
    "scrolled": false
   },
   "outputs": [
    {
     "data": {
      "text/html": [
       "<table>\n",
       "<caption><center><font color=\"black\"><b>first few observations of data.3</b></font></center></caption>\n",
       " <thead>\n",
       "  <tr>\n",
       "   <th style=\"text-align:left;\">   </th>\n",
       "   <th style=\"text-align:right;\"> x1 </th>\n",
       "   <th style=\"text-align:right;\"> x2 </th>\n",
       "   <th style=\"text-align:right;\"> class </th>\n",
       "  </tr>\n",
       " </thead>\n",
       "<tbody>\n",
       "  <tr>\n",
       "   <td style=\"text-align:left;\"> 52 </td>\n",
       "   <td style=\"text-align:right;\"> 5 </td>\n",
       "   <td style=\"text-align:right;\"> 6 </td>\n",
       "   <td style=\"text-align:right;\"> B </td>\n",
       "  </tr>\n",
       "  <tr>\n",
       "   <td style=\"text-align:left;\"> 53.3 </td>\n",
       "   <td style=\"text-align:right;\"> 4 </td>\n",
       "   <td style=\"text-align:right;\"> 7 </td>\n",
       "   <td style=\"text-align:right;\"> B </td>\n",
       "  </tr>\n",
       "  <tr>\n",
       "   <td style=\"text-align:left;\"> 28.3 </td>\n",
       "   <td style=\"text-align:right;\"> 5 </td>\n",
       "   <td style=\"text-align:right;\"> 1 </td>\n",
       "   <td style=\"text-align:right;\"> A </td>\n",
       "  </tr>\n",
       "  <tr>\n",
       "   <td style=\"text-align:left;\"> 56 </td>\n",
       "   <td style=\"text-align:right;\"> 6 </td>\n",
       "   <td style=\"text-align:right;\"> 6 </td>\n",
       "   <td style=\"text-align:right;\"> B </td>\n",
       "  </tr>\n",
       "  <tr>\n",
       "   <td style=\"text-align:left;\"> 36.1 </td>\n",
       "   <td style=\"text-align:right;\"> 6 </td>\n",
       "   <td style=\"text-align:right;\"> 8 </td>\n",
       "   <td style=\"text-align:right;\"> A </td>\n",
       "  </tr>\n",
       "  <tr>\n",
       "   <td style=\"text-align:left;\"> 3 </td>\n",
       "   <td style=\"text-align:right;\"> 3 </td>\n",
       "   <td style=\"text-align:right;\"> 6 </td>\n",
       "   <td style=\"text-align:right;\"> A </td>\n",
       "  </tr>\n",
       "  <tr>\n",
       "   <td style=\"text-align:left;\"> 36.2 </td>\n",
       "   <td style=\"text-align:right;\"> 6 </td>\n",
       "   <td style=\"text-align:right;\"> 8 </td>\n",
       "   <td style=\"text-align:right;\"> A </td>\n",
       "  </tr>\n",
       "  <tr>\n",
       "   <td style=\"text-align:left;\"> 15 </td>\n",
       "   <td style=\"text-align:right;\"> 3 </td>\n",
       "   <td style=\"text-align:right;\"> 5 </td>\n",
       "   <td style=\"text-align:right;\"> A </td>\n",
       "  </tr>\n",
       "  <tr>\n",
       "   <td style=\"text-align:left;\"> 38 </td>\n",
       "   <td style=\"text-align:right;\"> 2 </td>\n",
       "   <td style=\"text-align:right;\"> 2 </td>\n",
       "   <td style=\"text-align:right;\"> B </td>\n",
       "  </tr>\n",
       "  <tr>\n",
       "   <td style=\"text-align:left;\"> 50 </td>\n",
       "   <td style=\"text-align:right;\"> 4 </td>\n",
       "   <td style=\"text-align:right;\"> 2 </td>\n",
       "   <td style=\"text-align:right;\"> B </td>\n",
       "  </tr>\n",
       "</tbody>\n",
       "</table>"
      ]
     },
     "metadata": {},
     "output_type": "display_data"
    }
   ],
   "source": [
    "set.seed(12345)\n",
    "data.3 = focus_data(data.2, hit.2, emphasis=10)\n",
    "head(data.3, 10) %>% caption(\"first few observations of data.3\", row.names=TRUE)"
   ]
  },
  {
   "cell_type": "code",
   "execution_count": 23,
   "metadata": {
    "hide_input": true
   },
   "outputs": [
    {
     "data": {
      "image/png": "[encoded data removed]",
      "text/plain": [
       "plot without title"
      ]
     },
     "metadata": {},
     "output_type": "display_data"
    }
   ],
   "source": [
    "ggplot(data.3) + ggtitle(\"Dataset #3\") +\n",
    "geom_jitter(aes(x=x1, y=x2, color=class), position = position_jitter(height=0.3, width=0.03))"
   ]
  },
  {
   "cell_type": "markdown",
   "metadata": {},
   "source": [
    "Build Model \\#3 based on Dataset \\#3.  We expect this model to better predict the classes of those observations that Model \\#2 predicted incorrectly."
   ]
  },
  {
   "cell_type": "code",
   "execution_count": 24,
   "metadata": {
    "hide_input": true
   },
   "outputs": [
    {
     "data": {
      "image/png": "[encoded data removed]",
      "text/plain": [
       "plot without title"
      ]
     },
     "metadata": {},
     "output_type": "display_data"
    }
   ],
   "source": [
    "model.3 = rpart(class ~ x1+x2, data.3, method=\"class\")\n",
    "ggtree(model.3) + ggtitle(\"Model #3\")"
   ]
  },
  {
   "cell_type": "markdown",
   "metadata": {},
   "source": [
    "#### Predictions\n",
    "\n",
    " We use the 3 models to make 3 different predictions of the new observation's class."
   ]
  },
  {
   "cell_type": "markdown",
   "metadata": {},
   "source": [
    "New observation's class predicted by Model 1: "
   ]
  },
  {
   "cell_type": "code",
   "execution_count": 25,
   "metadata": {
    "hide_input": true
   },
   "outputs": [
    {
     "data": {
      "text/html": [
       "<table><tr><td style=\"background-color:white; vertical-align:top; padding-right:40px;\"><table>\n",
       "<caption><center><font color=\"black\"><b>prob.1</b></font></center></caption>\n",
       " <thead>\n",
       "  <tr>\n",
       "   <th style=\"text-align:right;\"> A </th>\n",
       "   <th style=\"text-align:right;\"> B </th>\n",
       "  </tr>\n",
       " </thead>\n",
       "<tbody>\n",
       "  <tr>\n",
       "   <td style=\"text-align:right;\"> 0.4615385 </td>\n",
       "   <td style=\"text-align:right;\"> 0.5384615 </td>\n",
       "  </tr>\n",
       "</tbody>\n",
       "</table></td><td style=\"background-color:white; vertical-align:top;\"><table>\n",
       "<caption><center><font color=\"black\"><b>new</b></font></center></caption>\n",
       " <thead>\n",
       "  <tr>\n",
       "   <th style=\"text-align:right;\"> x1 </th>\n",
       "   <th style=\"text-align:right;\"> x2 </th>\n",
       "   <th style=\"text-align:right;\"> class.predicted.1 </th>\n",
       "  </tr>\n",
       " </thead>\n",
       "<tbody>\n",
       "  <tr>\n",
       "   <td style=\"text-align:right;\"> 5.2 </td>\n",
       "   <td style=\"text-align:right;\"> 4 </td>\n",
       "   <td style=\"text-align:right;\"> B </td>\n",
       "  </tr>\n",
       "</tbody>\n",
       "</table></td></tr></table>"
      ]
     },
     "metadata": {},
     "output_type": "display_data"
    }
   ],
   "source": [
    "prob.1 = predict(model.1, new, type=\"prob\")\n",
    "class.predicted.1 = as.class(prob.1, \"A\", cutoff=0.5)\n",
    "\n",
    "row.arrange(prob.1 %>% captionx(\"prob.1\"), data.frame(new, class.predicted.1) %>% captionx(\"new\"))"
   ]
  },
  {
   "cell_type": "markdown",
   "metadata": {},
   "source": [
    "New observation's class predicted by Model 2: "
   ]
  },
  {
   "cell_type": "code",
   "execution_count": 26,
   "metadata": {
    "hide_input": true
   },
   "outputs": [
    {
     "data": {
      "text/html": [
       "<table><tr><td style=\"background-color:white; vertical-align:top; padding-right:40px;\"><table>\n",
       "<caption><center><font color=\"black\"><b>prob.2</b></font></center></caption>\n",
       " <thead>\n",
       "  <tr>\n",
       "   <th style=\"text-align:right;\"> A </th>\n",
       "   <th style=\"text-align:right;\"> B </th>\n",
       "  </tr>\n",
       " </thead>\n",
       "<tbody>\n",
       "  <tr>\n",
       "   <td style=\"text-align:right;\"> 1 </td>\n",
       "   <td style=\"text-align:right;\"> 0 </td>\n",
       "  </tr>\n",
       "</tbody>\n",
       "</table></td><td style=\"background-color:white; vertical-align:top;\"><table>\n",
       "<caption><center><font color=\"black\"><b>new</b></font></center></caption>\n",
       " <thead>\n",
       "  <tr>\n",
       "   <th style=\"text-align:right;\"> x1 </th>\n",
       "   <th style=\"text-align:right;\"> x2 </th>\n",
       "   <th style=\"text-align:right;\"> class.predicted.2 </th>\n",
       "  </tr>\n",
       " </thead>\n",
       "<tbody>\n",
       "  <tr>\n",
       "   <td style=\"text-align:right;\"> 5.2 </td>\n",
       "   <td style=\"text-align:right;\"> 4 </td>\n",
       "   <td style=\"text-align:right;\"> A </td>\n",
       "  </tr>\n",
       "</tbody>\n",
       "</table></td></tr></table>"
      ]
     },
     "metadata": {},
     "output_type": "display_data"
    }
   ],
   "source": [
    "prob.2 = predict(model.2, new, type=\"prob\")\n",
    "class.predicted.2 = as.class(prob.2, \"A\", cutoff=0.5)\n",
    "\n",
    "row.arrange(prob.2 %>% captionx(\"prob.2\"), data.frame(new, class.predicted.2) %>% captionx(\"new\"))"
   ]
  },
  {
   "cell_type": "markdown",
   "metadata": {},
   "source": [
    "New observation's class predicted by Model 3: "
   ]
  },
  {
   "cell_type": "code",
   "execution_count": 27,
   "metadata": {
    "hide_input": true
   },
   "outputs": [
    {
     "data": {
      "text/html": [
       "<table><tr><td style=\"background-color:white; vertical-align:top; padding-right:40px;\"><table>\n",
       "<caption><center><font color=\"black\"><b>prob.3</b></font></center></caption>\n",
       " <thead>\n",
       "  <tr>\n",
       "   <th style=\"text-align:right;\"> A </th>\n",
       "   <th style=\"text-align:right;\"> B </th>\n",
       "  </tr>\n",
       " </thead>\n",
       "<tbody>\n",
       "  <tr>\n",
       "   <td style=\"text-align:right;\"> 0.7714286 </td>\n",
       "   <td style=\"text-align:right;\"> 0.2285714 </td>\n",
       "  </tr>\n",
       "</tbody>\n",
       "</table></td><td style=\"background-color:white; vertical-align:top;\"><table>\n",
       "<caption><center><font color=\"black\"><b>new</b></font></center></caption>\n",
       " <thead>\n",
       "  <tr>\n",
       "   <th style=\"text-align:right;\"> x1 </th>\n",
       "   <th style=\"text-align:right;\"> x2 </th>\n",
       "   <th style=\"text-align:right;\"> class.predicted.3 </th>\n",
       "  </tr>\n",
       " </thead>\n",
       "<tbody>\n",
       "  <tr>\n",
       "   <td style=\"text-align:right;\"> 5.2 </td>\n",
       "   <td style=\"text-align:right;\"> 4 </td>\n",
       "   <td style=\"text-align:right;\"> A </td>\n",
       "  </tr>\n",
       "</tbody>\n",
       "</table></td></tr></table>"
      ]
     },
     "metadata": {},
     "output_type": "display_data"
    }
   ],
   "source": [
    "prob.3 = predict(model.3, new, type=\"prob\")\n",
    "class.predicted.3 = as.class(prob.3, \"A\", cutoff=0.5)\n",
    "\n",
    "row.arrange(prob.3 %>% captionx(\"prob.3\"), data.frame(new, class.predicted.3) %>% captionx(\"new\"))"
   ]
  },
  {
   "cell_type": "markdown",
   "metadata": {},
   "source": [
    "#### Vote\n",
    "\n",
    "We compare the predictions of the models and vote for the most popular prediction.  \n",
    "\n",
    "Here model #1 predicts that the new observation's class is B, and models #2 and #3 predict A.  The vote is 2 to 1 in favor of A, so the boosted model predicts A."
   ]
  },
  {
   "cell_type": "code",
   "execution_count": 28,
   "metadata": {
    "hide_input": true,
    "scrolled": true
   },
   "outputs": [
    {
     "data": {
      "text/html": [
       "<table>\n",
       "<caption><center><font color=\"black\"><b>new</b></font></center></caption>\n",
       " <thead>\n",
       "  <tr>\n",
       "   <th style=\"text-align:right;\"> x1 </th>\n",
       "   <th style=\"text-align:right;\"> x2 </th>\n",
       "   <th style=\"text-align:right;\"> class.predicted.1 </th>\n",
       "   <th style=\"text-align:right;\"> class.predicted.2 </th>\n",
       "   <th style=\"text-align:right;\"> class.predicted.3 </th>\n",
       "   <th style=\"text-align:right;\"> class.predicted </th>\n",
       "  </tr>\n",
       " </thead>\n",
       "<tbody>\n",
       "  <tr>\n",
       "   <td style=\"text-align:right;\"> 5.2 </td>\n",
       "   <td style=\"text-align:right;\"> 4 </td>\n",
       "   <td style=\"text-align:right;\"> B </td>\n",
       "   <td style=\"text-align:right;\"> A </td>\n",
       "   <td style=\"text-align:right;\"> A </td>\n",
       "   <td style=\"text-align:right;\"> A </td>\n",
       "  </tr>\n",
       "</tbody>\n",
       "</table>"
      ]
     },
     "metadata": {},
     "output_type": "display_data"
    }
   ],
   "source": [
    "cbind(new, class.predicted.1, class.predicted.2, class.predicted.3,\n",
    "      class.predicted=vote(class.predicted.1, class.predicted.2, class.predicted.3)) %>% caption(\"new\")"
   ]
  },
  {
   "cell_type": "markdown",
   "metadata": {},
   "source": [
    "### Stacking\n",
    "\n",
    "Build several models and make predictions.  Then build a new model based on the predictions that the other models would make about the original data.\n",
    "\n",
    "You can think of a stacked model as an expert on a committee of other experts. "
   ]
  },
  {
   "cell_type": "markdown",
   "metadata": {},
   "source": [
    "####  Models Based on Original Data\n",
    "\n",
    "Build several models, using different methods and/or different hyper-parameter values, but based on the same data."
   ]
  },
  {
   "cell_type": "markdown",
   "metadata": {},
   "source": [
    "**Model #1**\n",
    "\n",
    "Here we build a decision tree model (with maximum depth 1):"
   ]
  },
  {
   "cell_type": "code",
   "execution_count": 29,
   "metadata": {
    "hide_input": true
   },
   "outputs": [
    {
     "data": {
      "image/png": "[encoded data removed]",
      "text/plain": [
       "plot without title"
      ]
     },
     "metadata": {},
     "output_type": "display_data"
    }
   ],
   "source": [
    "model.1 = rpart(class ~ x1+x2, data, method=\"class\", cp=0.2)\n",
    "ggtree(model.1)"
   ]
  },
  {
   "cell_type": "markdown",
   "metadata": {},
   "source": [
    "**Model #2**\n",
    "\n",
    "Here we build a naive Bayes model:"
   ]
  },
  {
   "cell_type": "code",
   "execution_count": 30,
   "metadata": {
    "hide_input": true
   },
   "outputs": [
    {
     "data": {
      "text/plain": [
       "\n",
       "Naive Bayes Classifier for Discrete Predictors\n",
       "\n",
       "Call:\n",
       "naiveBayes.default(x = X, y = Y, laplace = laplace)\n",
       "\n",
       "A-priori probabilities:\n",
       "Y\n",
       "  A   B \n",
       "0.5 0.5 \n",
       "\n",
       "Conditional probabilities:\n",
       "   x1\n",
       "Y       [,1]     [,2]\n",
       "  A 2.722222 1.614419\n",
       "  B 6.055556 2.460481\n",
       "\n",
       "   x2\n",
       "Y       [,1]     [,2]\n",
       "  A 4.333333 2.177810\n",
       "  B 4.527778 2.076895\n"
      ]
     },
     "metadata": {},
     "output_type": "display_data"
    }
   ],
   "source": [
    "model.2 = naiveBayes(class ~ x1+x2, data)\n",
    "model.2"
   ]
  },
  {
   "cell_type": "markdown",
   "metadata": {},
   "source": [
    "**Model #3**\n",
    "\n",
    "Here we build a support vector machine model:"
   ]
  },
  {
   "cell_type": "code",
   "execution_count": 31,
   "metadata": {
    "hide_input": true
   },
   "outputs": [
    {
     "data": {
      "text/plain": [
       "\n",
       "Call:\n",
       "svm(formula = class ~ x1 + x2, data = data, kernel = \"polynomial\", \n",
       "    cost = 0.1, probability = TRUE, scale = TRUE)\n",
       "\n",
       "\n",
       "Parameters:\n",
       "   SVM-Type:  C-classification \n",
       " SVM-Kernel:  polynomial \n",
       "       cost:  0.1 \n",
       "     degree:  3 \n",
       "     coef.0:  0 \n",
       "\n",
       "Number of Support Vectors:  56\n"
      ]
     },
     "metadata": {},
     "output_type": "display_data"
    }
   ],
   "source": [
    "set.seed(12345)\n",
    "model.3 = svm(class ~ x1+x2, data, kernel=\"polynomial\", cost=0.1, scale=TRUE, probability=TRUE)\n",
    "model.3"
   ]
  },
  {
   "cell_type": "markdown",
   "metadata": {
    "hide_input": true
   },
   "source": [
    "#### Transformed Data\n",
    "\n",
    "The models make these predictions about the original data's classes: "
   ]
  },
  {
   "cell_type": "code",
   "execution_count": 32,
   "metadata": {
    "hide_input": true,
    "scrolled": true
   },
   "outputs": [
    {
     "data": {
      "text/html": [
       "<table>\n",
       "<caption><center><font color=\"black\"><b>first few observations of data</b></font></center></caption>\n",
       " <thead>\n",
       "  <tr>\n",
       "   <th style=\"text-align:right;\"> x1 </th>\n",
       "   <th style=\"text-align:right;\"> x2 </th>\n",
       "   <th style=\"text-align:right;\"> class </th>\n",
       "   <th style=\"text-align:right;\"> class.predicted.1 </th>\n",
       "   <th style=\"text-align:right;\"> class.predicted.2 </th>\n",
       "   <th style=\"text-align:right;\"> class.predicted.3 </th>\n",
       "  </tr>\n",
       " </thead>\n",
       "<tbody>\n",
       "  <tr>\n",
       "   <td style=\"text-align:right;\"> 1 </td>\n",
       "   <td style=\"text-align:right;\"> 3 </td>\n",
       "   <td style=\"text-align:right;\"> A </td>\n",
       "   <td style=\"text-align:right;\"> A </td>\n",
       "   <td style=\"text-align:right;\"> A </td>\n",
       "   <td style=\"text-align:right;\"> A </td>\n",
       "  </tr>\n",
       "  <tr>\n",
       "   <td style=\"text-align:right;\"> 2 </td>\n",
       "   <td style=\"text-align:right;\"> 2 </td>\n",
       "   <td style=\"text-align:right;\"> A </td>\n",
       "   <td style=\"text-align:right;\"> A </td>\n",
       "   <td style=\"text-align:right;\"> A </td>\n",
       "   <td style=\"text-align:right;\"> A </td>\n",
       "  </tr>\n",
       "  <tr>\n",
       "   <td style=\"text-align:right;\"> 3 </td>\n",
       "   <td style=\"text-align:right;\"> 6 </td>\n",
       "   <td style=\"text-align:right;\"> A </td>\n",
       "   <td style=\"text-align:right;\"> A </td>\n",
       "   <td style=\"text-align:right;\"> A </td>\n",
       "   <td style=\"text-align:right;\"> A </td>\n",
       "  </tr>\n",
       "  <tr>\n",
       "   <td style=\"text-align:right;\"> 4 </td>\n",
       "   <td style=\"text-align:right;\"> 5 </td>\n",
       "   <td style=\"text-align:right;\"> A </td>\n",
       "   <td style=\"text-align:right;\"> A </td>\n",
       "   <td style=\"text-align:right;\"> A </td>\n",
       "   <td style=\"text-align:right;\"> A </td>\n",
       "  </tr>\n",
       "  <tr>\n",
       "   <td style=\"text-align:right;\"> 3 </td>\n",
       "   <td style=\"text-align:right;\"> 4 </td>\n",
       "   <td style=\"text-align:right;\"> A </td>\n",
       "   <td style=\"text-align:right;\"> A </td>\n",
       "   <td style=\"text-align:right;\"> A </td>\n",
       "   <td style=\"text-align:right;\"> A </td>\n",
       "  </tr>\n",
       "  <tr>\n",
       "   <td style=\"text-align:right;\"> 2 </td>\n",
       "   <td style=\"text-align:right;\"> 5 </td>\n",
       "   <td style=\"text-align:right;\"> A </td>\n",
       "   <td style=\"text-align:right;\"> A </td>\n",
       "   <td style=\"text-align:right;\"> A </td>\n",
       "   <td style=\"text-align:right;\"> A </td>\n",
       "  </tr>\n",
       "  <tr>\n",
       "   <td style=\"text-align:right;\"> 5 </td>\n",
       "   <td style=\"text-align:right;\"> 3 </td>\n",
       "   <td style=\"text-align:right;\"> A </td>\n",
       "   <td style=\"text-align:right;\"> A </td>\n",
       "   <td style=\"text-align:right;\"> B </td>\n",
       "   <td style=\"text-align:right;\"> A </td>\n",
       "  </tr>\n",
       "  <tr>\n",
       "   <td style=\"text-align:right;\"> 4 </td>\n",
       "   <td style=\"text-align:right;\"> 8 </td>\n",
       "   <td style=\"text-align:right;\"> A </td>\n",
       "   <td style=\"text-align:right;\"> A </td>\n",
       "   <td style=\"text-align:right;\"> A </td>\n",
       "   <td style=\"text-align:right;\"> A </td>\n",
       "  </tr>\n",
       "  <tr>\n",
       "   <td style=\"text-align:right;\"> 3 </td>\n",
       "   <td style=\"text-align:right;\"> 9 </td>\n",
       "   <td style=\"text-align:right;\"> A </td>\n",
       "   <td style=\"text-align:right;\"> A </td>\n",
       "   <td style=\"text-align:right;\"> A </td>\n",
       "   <td style=\"text-align:right;\"> A </td>\n",
       "  </tr>\n",
       "  <tr>\n",
       "   <td style=\"text-align:right;\"> 2 </td>\n",
       "   <td style=\"text-align:right;\"> 0 </td>\n",
       "   <td style=\"text-align:right;\"> A </td>\n",
       "   <td style=\"text-align:right;\"> A </td>\n",
       "   <td style=\"text-align:right;\"> A </td>\n",
       "   <td style=\"text-align:right;\"> A </td>\n",
       "  </tr>\n",
       "</tbody>\n",
       "</table>"
      ]
     },
     "metadata": {},
     "output_type": "display_data"
    }
   ],
   "source": [
    "prob.1 = predict(model.1, data, type=\"prob\")\n",
    "class.predicted.1 = as.class(prob.1, \"A\", cutoff=0.5)\n",
    "\n",
    "\n",
    "# prob.1 = kknn(class ~ x1+x2, data, data, k=1)$prob\n",
    "# class.predicted.1 = as.class(prob.1, \"A\", cutoff=0.5)\n",
    "\n",
    "\n",
    "prob.2 = predict(model.2, data, type=\"raw\")\n",
    "class.predicted.2 = as.class(prob.2, \"A\", cutoff=0.5)\n",
    "\n",
    "prob.3 = attr(predict(model.3, data, probability=TRUE), \"probabilities\")\n",
    "class.predicted.3 = as.class(prob.3, \"A\", cutoff=0.5) # 3)\n",
    "\n",
    "head(data.frame(data, class.predicted.1, class.predicted.2, class.predicted.3), 10) %>% caption(\"first few observations of data\")"
   ]
  },
  {
   "cell_type": "markdown",
   "metadata": {},
   "source": [
    "So, the transformed data looks like this, based on the models' predictions about the original data's classes."
   ]
  },
  {
   "cell_type": "code",
   "execution_count": 33,
   "metadata": {
    "hide_input": true,
    "scrolled": true
   },
   "outputs": [
    {
     "data": {
      "text/html": [
       "<table>\n",
       "<caption><center><font color=\"black\"><b>first few observations of transformed data</b></font></center></caption>\n",
       " <thead>\n",
       "  <tr>\n",
       "   <th style=\"text-align:right;\"> class.predicted.1 </th>\n",
       "   <th style=\"text-align:right;\"> class.predicted.2 </th>\n",
       "   <th style=\"text-align:right;\"> class.predicted.3 </th>\n",
       "   <th style=\"text-align:right;\"> class </th>\n",
       "  </tr>\n",
       " </thead>\n",
       "<tbody>\n",
       "  <tr>\n",
       "   <td style=\"text-align:right;\"> A </td>\n",
       "   <td style=\"text-align:right;\"> A </td>\n",
       "   <td style=\"text-align:right;\"> A </td>\n",
       "   <td style=\"text-align:right;\"> A </td>\n",
       "  </tr>\n",
       "  <tr>\n",
       "   <td style=\"text-align:right;\"> A </td>\n",
       "   <td style=\"text-align:right;\"> A </td>\n",
       "   <td style=\"text-align:right;\"> A </td>\n",
       "   <td style=\"text-align:right;\"> A </td>\n",
       "  </tr>\n",
       "  <tr>\n",
       "   <td style=\"text-align:right;\"> A </td>\n",
       "   <td style=\"text-align:right;\"> A </td>\n",
       "   <td style=\"text-align:right;\"> A </td>\n",
       "   <td style=\"text-align:right;\"> A </td>\n",
       "  </tr>\n",
       "  <tr>\n",
       "   <td style=\"text-align:right;\"> A </td>\n",
       "   <td style=\"text-align:right;\"> A </td>\n",
       "   <td style=\"text-align:right;\"> A </td>\n",
       "   <td style=\"text-align:right;\"> A </td>\n",
       "  </tr>\n",
       "  <tr>\n",
       "   <td style=\"text-align:right;\"> A </td>\n",
       "   <td style=\"text-align:right;\"> A </td>\n",
       "   <td style=\"text-align:right;\"> A </td>\n",
       "   <td style=\"text-align:right;\"> A </td>\n",
       "  </tr>\n",
       "  <tr>\n",
       "   <td style=\"text-align:right;\"> A </td>\n",
       "   <td style=\"text-align:right;\"> A </td>\n",
       "   <td style=\"text-align:right;\"> A </td>\n",
       "   <td style=\"text-align:right;\"> A </td>\n",
       "  </tr>\n",
       "  <tr>\n",
       "   <td style=\"text-align:right;\"> A </td>\n",
       "   <td style=\"text-align:right;\"> B </td>\n",
       "   <td style=\"text-align:right;\"> A </td>\n",
       "   <td style=\"text-align:right;\"> A </td>\n",
       "  </tr>\n",
       "  <tr>\n",
       "   <td style=\"text-align:right;\"> A </td>\n",
       "   <td style=\"text-align:right;\"> A </td>\n",
       "   <td style=\"text-align:right;\"> A </td>\n",
       "   <td style=\"text-align:right;\"> A </td>\n",
       "  </tr>\n",
       "  <tr>\n",
       "   <td style=\"text-align:right;\"> A </td>\n",
       "   <td style=\"text-align:right;\"> A </td>\n",
       "   <td style=\"text-align:right;\"> A </td>\n",
       "   <td style=\"text-align:right;\"> A </td>\n",
       "  </tr>\n",
       "  <tr>\n",
       "   <td style=\"text-align:right;\"> A </td>\n",
       "   <td style=\"text-align:right;\"> A </td>\n",
       "   <td style=\"text-align:right;\"> A </td>\n",
       "   <td style=\"text-align:right;\"> A </td>\n",
       "  </tr>\n",
       "</tbody>\n",
       "</table>"
      ]
     },
     "metadata": {},
     "output_type": "display_data"
    }
   ],
   "source": [
    "data.stack = data.frame(class.predicted.1, class.predicted.2, class.predicted.3,\n",
    "                        class=data$class)\n",
    "head(data.stack, 10) %>% caption(\"first few observations of transformed data\")"
   ]
  },
  {
   "cell_type": "markdown",
   "metadata": {},
   "source": [
    "#### Model Based on Other Model Results\n",
    "\n",
    "Build a model using the transformed data."
   ]
  },
  {
   "cell_type": "markdown",
   "metadata": {},
   "source": [
    "**Stacked Model**\n",
    "\n",
    "Here we build a logistic regression model:"
   ]
  },
  {
   "cell_type": "code",
   "execution_count": 34,
   "metadata": {
    "hide_input": true,
    "scrolled": false
   },
   "outputs": [
    {
     "data": {
      "text/html": [
       "<dl class=dl-horizontal>\n",
       "\t<dt>(Intercept)</dt>\n",
       "\t\t<dd>-1.28785428830664</dd>\n",
       "\t<dt>class.predicted.1B</dt>\n",
       "\t\t<dd>18.8482641889243</dd>\n",
       "\t<dt>class.predicted.2B</dt>\n",
       "\t\t<dd>1.62432652492785</dd>\n",
       "\t<dt>class.predicted.3B</dt>\n",
       "\t\t<dd>-16.2943646676494</dd>\n",
       "</dl>\n"
      ],
      "text/latex": [
       "\\begin{description*}\n",
       "\\item[(Intercept)] -1.28785428830664\n",
       "\\item[class.predicted.1B] 18.8482641889243\n",
       "\\item[class.predicted.2B] 1.62432652492785\n",
       "\\item[class.predicted.3B] -16.2943646676494\n",
       "\\end{description*}\n"
      ],
      "text/markdown": [
       "(Intercept)\n",
       ":   -1.28785428830664class.predicted.1B\n",
       ":   18.8482641889243class.predicted.2B\n",
       ":   1.62432652492785class.predicted.3B\n",
       ":   -16.2943646676494\n",
       "\n"
      ],
      "text/plain": [
       "       (Intercept) class.predicted.1B class.predicted.2B class.predicted.3B \n",
       "         -1.287854          18.848264           1.624327         -16.294365 "
      ]
     },
     "metadata": {},
     "output_type": "display_data"
    }
   ],
   "source": [
    "model.stack = glm(class ~ class.predicted.1+class.predicted.2+class.predicted.3, binomial(link=\"logit\"), data.stack)\n",
    "model.stack$coefficients"
   ]
  },
  {
   "cell_type": "markdown",
   "metadata": {},
   "source": [
    "#### Prediction "
   ]
  },
  {
   "cell_type": "markdown",
   "metadata": {},
   "source": [
    "Express the new observation in terms of how its class is predicted by the constituent models.\n",
    "\n",
    "The new observation [ x1=5.2, x2=4 ] can be expressed as [ class.predicted.1=A, class.predicted.2=B, class.predicted.3=A ] because model #1 predicts the class of [ x1=5.2, x2=4 ] to be A, model #2 predicts the class of [ x1=5.2, x2=4 ] to be B, and model #3 predicts the class of [ x1=5.2, x2=4 ] to be A. "
   ]
  },
  {
   "cell_type": "code",
   "execution_count": 35,
   "metadata": {
    "hide_input": true
   },
   "outputs": [
    {
     "data": {
      "text/html": [
       "<table><tr><td style=\"background-color:white; vertical-align:top; padding-right:40px;\"><table>\n",
       "<caption><center><font color=\"black\"><b>prob.1</b></font></center></caption>\n",
       " <thead>\n",
       "  <tr>\n",
       "   <th style=\"text-align:right;\"> A </th>\n",
       "   <th style=\"text-align:right;\"> B </th>\n",
       "  </tr>\n",
       " </thead>\n",
       "<tbody>\n",
       "  <tr>\n",
       "   <td style=\"text-align:right;\"> 0.7 </td>\n",
       "   <td style=\"text-align:right;\"> 0.3 </td>\n",
       "  </tr>\n",
       "</tbody>\n",
       "</table></td><td style=\"background-color:white; vertical-align:top;\"><table>\n",
       "<caption><center><font color=\"black\"><b>new</b></font></center></caption>\n",
       " <thead>\n",
       "  <tr>\n",
       "   <th style=\"text-align:right;\"> x1 </th>\n",
       "   <th style=\"text-align:right;\"> x2 </th>\n",
       "   <th style=\"text-align:right;\"> class.predicted.1 </th>\n",
       "  </tr>\n",
       " </thead>\n",
       "<tbody>\n",
       "  <tr>\n",
       "   <td style=\"text-align:right;\"> 5.2 </td>\n",
       "   <td style=\"text-align:right;\"> 4 </td>\n",
       "   <td style=\"text-align:right;\"> A </td>\n",
       "  </tr>\n",
       "</tbody>\n",
       "</table></td></tr></table>"
      ]
     },
     "metadata": {},
     "output_type": "display_data"
    },
    {
     "data": {
      "text/html": [
       "<table><tr><td style=\"background-color:white; vertical-align:top; padding-right:40px;\"><table>\n",
       "<caption><center><font color=\"black\"><b>prob.2</b></font></center></caption>\n",
       " <thead>\n",
       "  <tr>\n",
       "   <th style=\"text-align:right;\"> A </th>\n",
       "   <th style=\"text-align:right;\"> B </th>\n",
       "  </tr>\n",
       " </thead>\n",
       "<tbody>\n",
       "  <tr>\n",
       "   <td style=\"text-align:right;\"> 0.3267745 </td>\n",
       "   <td style=\"text-align:right;\"> 0.6732255 </td>\n",
       "  </tr>\n",
       "</tbody>\n",
       "</table></td><td style=\"background-color:white; vertical-align:top;\"><table>\n",
       "<caption><center><font color=\"black\"><b>new</b></font></center></caption>\n",
       " <thead>\n",
       "  <tr>\n",
       "   <th style=\"text-align:right;\"> x1 </th>\n",
       "   <th style=\"text-align:right;\"> x2 </th>\n",
       "   <th style=\"text-align:right;\"> class.predicted.2 </th>\n",
       "  </tr>\n",
       " </thead>\n",
       "<tbody>\n",
       "  <tr>\n",
       "   <td style=\"text-align:right;\"> 5.2 </td>\n",
       "   <td style=\"text-align:right;\"> 4 </td>\n",
       "   <td style=\"text-align:right;\"> B </td>\n",
       "  </tr>\n",
       "</tbody>\n",
       "</table></td></tr></table>"
      ]
     },
     "metadata": {},
     "output_type": "display_data"
    },
    {
     "data": {
      "text/html": [
       "<table><tr><td style=\"background-color:white; vertical-align:top; padding-right:40px;\"><table>\n",
       "<caption><center><font color=\"black\"><b>prob.3</b></font></center></caption>\n",
       " <thead>\n",
       "  <tr>\n",
       "   <th style=\"text-align:right;\"> A </th>\n",
       "   <th style=\"text-align:right;\"> B </th>\n",
       "  </tr>\n",
       " </thead>\n",
       "<tbody>\n",
       "  <tr>\n",
       "   <td style=\"text-align:right;\"> 0.5698572 </td>\n",
       "   <td style=\"text-align:right;\"> 0.4301428 </td>\n",
       "  </tr>\n",
       "</tbody>\n",
       "</table></td><td style=\"background-color:white; vertical-align:top;\"><table>\n",
       "<caption><center><font color=\"black\"><b>new</b></font></center></caption>\n",
       " <thead>\n",
       "  <tr>\n",
       "   <th style=\"text-align:right;\"> x1 </th>\n",
       "   <th style=\"text-align:right;\"> x2 </th>\n",
       "   <th style=\"text-align:right;\"> class.predicted.3 </th>\n",
       "  </tr>\n",
       " </thead>\n",
       "<tbody>\n",
       "  <tr>\n",
       "   <td style=\"text-align:right;\"> 5.2 </td>\n",
       "   <td style=\"text-align:right;\"> 4 </td>\n",
       "   <td style=\"text-align:right;\"> A </td>\n",
       "  </tr>\n",
       "</tbody>\n",
       "</table></td></tr></table>"
      ]
     },
     "metadata": {},
     "output_type": "display_data"
    }
   ],
   "source": [
    "prob.1 = predict(model.1, new, type=\"prob\")\n",
    "class.predicted.1 = as.class(prob.1, \"A\", cutoff=0.5)\n",
    "row.arrange(prob.1 %>% captionx(\"prob.1\"), cbind(new, class.predicted.1) %>% captionx(\"new\"))\n",
    "\n",
    "prob.2 = predict(model.2, new, type=\"raw\")\n",
    "class.predicted.2 = as.class(prob.2, \"A\", cutoff=0.5)\n",
    "row.arrange(prob.2 %>% captionx(\"prob.2\"), cbind(new, class.predicted.2) %>% captionx(\"new\"))\n",
    "\n",
    "prob.3 = attr(predict(model.3, new, probability=TRUE), \"probabilities\")\n",
    "class.predicted.3 = as.class(prob.3, \"A\", cutoff=0.5)\n",
    "row.arrange(prob.3 %>% captionx(\"prob.3\"), cbind(new, class.predicted.3) %>% captionx(\"new\"))"
   ]
  },
  {
   "cell_type": "code",
   "execution_count": 36,
   "metadata": {
    "hide_input": true
   },
   "outputs": [
    {
     "data": {
      "text/html": [
       "<table>\n",
       "<caption><center><font color=\"black\"><b>new (transformed)</b></font></center></caption>\n",
       " <thead>\n",
       "  <tr>\n",
       "   <th style=\"text-align:right;\"> class.predicted.1 </th>\n",
       "   <th style=\"text-align:right;\"> class.predicted.2 </th>\n",
       "   <th style=\"text-align:right;\"> class.predicted.3 </th>\n",
       "  </tr>\n",
       " </thead>\n",
       "<tbody>\n",
       "  <tr>\n",
       "   <td style=\"text-align:right;\"> A </td>\n",
       "   <td style=\"text-align:right;\"> B </td>\n",
       "   <td style=\"text-align:right;\"> A </td>\n",
       "  </tr>\n",
       "</tbody>\n",
       "</table>"
      ]
     },
     "metadata": {},
     "output_type": "display_data"
    }
   ],
   "source": [
    "new.stack = data.frame(class.predicted.1, class.predicted.2, class.predicted.3)\n",
    "new.stack %>% caption(\"new (transformed)\")"
   ]
  },
  {
   "cell_type": "markdown",
   "metadata": {},
   "source": [
    "Use the stacked model to predict the class of a new observation.\n",
    "\n",
    "Here the stacked model predicts the class of the transformed new observation [ class.predicted.1=A, class.predicted.2=B, class.predicted.3=A ] to be B, which means its predicts the class of new observation [ x1=5.2, x2=4 ] to be B.\n",
    "\n",
    "Note that the stacked model predicts this new observation's class to be B, even though 2 of the 3 constituent models would predict it to be A."
   ]
  },
  {
   "cell_type": "code",
   "execution_count": 37,
   "metadata": {
    "hide_input": true
   },
   "outputs": [
    {
     "data": {
      "text/html": [
       "<table><tr><td style=\"background-color:white; vertical-align:top; padding-right:40px;\"><table>\n",
       "<caption><center><font color=\"black\"><b>prob.stack</b></font></center></caption>\n",
       " <thead>\n",
       "  <tr>\n",
       "   <th style=\"text-align:right;\"> B </th>\n",
       "   <th style=\"text-align:right;\"> A </th>\n",
       "  </tr>\n",
       " </thead>\n",
       "<tbody>\n",
       "  <tr>\n",
       "   <td style=\"text-align:right;\"> 0.5833333 </td>\n",
       "   <td style=\"text-align:right;\"> 0.4166667 </td>\n",
       "  </tr>\n",
       "</tbody>\n",
       "</table></td><td style=\"background-color:white; vertical-align:top;\"><table>\n",
       "<caption><center><font color=\"black\"><b>new (transformed)</b></font></center></caption>\n",
       " <thead>\n",
       "  <tr>\n",
       "   <th style=\"text-align:right;\"> class.predicted.1 </th>\n",
       "   <th style=\"text-align:right;\"> class.predicted.2 </th>\n",
       "   <th style=\"text-align:right;\"> class.predicted.3 </th>\n",
       "   <th style=\"text-align:right;\"> class.predicted </th>\n",
       "  </tr>\n",
       " </thead>\n",
       "<tbody>\n",
       "  <tr>\n",
       "   <td style=\"text-align:right;\"> A </td>\n",
       "   <td style=\"text-align:right;\"> B </td>\n",
       "   <td style=\"text-align:right;\"> A </td>\n",
       "   <td style=\"text-align:right;\"> B </td>\n",
       "  </tr>\n",
       "</tbody>\n",
       "</table></td></tr></table>"
      ]
     },
     "metadata": {},
     "output_type": "display_data"
    },
    {
     "data": {
      "text/html": [
       "<table><tr><td style=\"background-color:white; vertical-align:top; padding-right:40px;\"><table>\n",
       "<caption><center><font color=\"black\"><b>prob.stack</b></font></center></caption>\n",
       " <thead>\n",
       "  <tr>\n",
       "   <th style=\"text-align:right;\"> B </th>\n",
       "   <th style=\"text-align:right;\"> A </th>\n",
       "  </tr>\n",
       " </thead>\n",
       "<tbody>\n",
       "  <tr>\n",
       "   <td style=\"text-align:right;\"> 0.5833333 </td>\n",
       "   <td style=\"text-align:right;\"> 0.4166667 </td>\n",
       "  </tr>\n",
       "</tbody>\n",
       "</table></td><td style=\"background-color:white; vertical-align:top;\"><table>\n",
       "<caption><center><font color=\"black\"><b>new</b></font></center></caption>\n",
       " <thead>\n",
       "  <tr>\n",
       "   <th style=\"text-align:right;\"> x1 </th>\n",
       "   <th style=\"text-align:right;\"> x2 </th>\n",
       "   <th style=\"text-align:right;\"> class.predicted </th>\n",
       "  </tr>\n",
       " </thead>\n",
       "<tbody>\n",
       "  <tr>\n",
       "   <td style=\"text-align:right;\"> 5.2 </td>\n",
       "   <td style=\"text-align:right;\"> 4 </td>\n",
       "   <td style=\"text-align:right;\"> B </td>\n",
       "  </tr>\n",
       "</tbody>\n",
       "</table></td></tr></table>"
      ]
     },
     "metadata": {},
     "output_type": "display_data"
    }
   ],
   "source": [
    "output = predict(model.stack, new, type=\"response\")\n",
    "prob.stack = data.frame(\"B\"=output, \"A\"=1-output)\n",
    "class.predicted = as.class(prob.stack, class=\"B\", cutoff=0.5)\n",
    "\n",
    "row.arrange(prob.stack %>% captionx, \n",
    "            data.frame(class.predicted.1, class.predicted.2, class.predicted.3, class.predicted) %>% captionx(\"new (transformed)\"))\n",
    "\n",
    "row.arrange(prob.stack %>% captionx, \n",
    "            cbind(new, class.predicted) %>% captionx(\"new\"))"
   ]
  },
  {
   "cell_type": "markdown",
   "metadata": {},
   "source": [
    "### Random Forest"
   ]
  },
  {
   "cell_type": "markdown",
   "metadata": {},
   "source": [
    "The **random forest** method is bootstrap aggregation applied to a modified decision tree classification method.  The modification is to use different randomly selected subsets of the predictor variables at various stages of tree construction, rather than use all predictor variables at all stages of tree construction.   "
   ]
  },
  {
   "cell_type": "markdown",
   "metadata": {},
   "source": [
    "## Code"
   ]
  },
  {
   "cell_type": "markdown",
   "metadata": {},
   "source": [
    "### Useful Functions"
   ]
  },
  {
   "cell_type": "code",
   "execution_count": 38,
   "metadata": {},
   "outputs": [],
   "source": [
    "# vote # provided in apparatus code cell above\n",
    "# focus_data # provided in apparatus code cell above"
   ]
  },
  {
   "cell_type": "markdown",
   "metadata": {},
   "source": [
    "## Expectations\n",
    "\n",
    "Know about this:\n",
    "* How to bootstrap aggregate a classification method, conceptually and using R.\n",
    "* How to boost a classification method, conceptually and using R.\n",
    "* How to stack classification methods, conceptually and using R."
   ]
  },
  {
   "cell_type": "markdown",
   "metadata": {},
   "source": [
    "## Further Reading\n",
    "\n",
    "* http://ciml.info/dl/v0_99/ciml-v0_99-ch13.pdf\n",
    "* https://www.analyticsvidhya.com/blog/2015/11/quick-introduction-boosting-algorithms-machine-learning/\n",
    "* https://en.wikipedia.org/wiki/Ensemble_learning"
   ]
  },
  {
   "cell_type": "markdown",
   "metadata": {},
   "source": [
    "<p style=\"text-align:left; font-size:10px;\">\n",
    "Copyright (c) Berkeley Data Analytics Group, LLC\n",
    "<span style=\"float:right;\">\n",
    "Document revised Sep 20, 2019\n",
    "</span>\n",
    "</p>"
   ]
  }
 ],
 "metadata": {
  "hide_code_all_hidden": false,
  "hide_input": false,
  "kernelspec": {
   "display_name": "R",
   "language": "R",
   "name": "ir"
  },
  "language_info": {
   "codemirror_mode": "r",
   "file_extension": ".r",
   "mimetype": "text/x-r-source",
   "name": "R",
   "pygments_lexer": "r",
   "version": "3.6.1"
  },
  "toc": {
   "base_numbering": 1,
   "nav_menu": {},
   "number_sections": true,
   "sideBar": true,
   "skip_h1_title": true,
   "title_cell": "Table of Contents",
   "title_sidebar": "Contents",
   "toc_cell": false,
   "toc_position": {
    "height": "calc(100% - 180px)",
    "left": "10px",
    "top": "150px",
    "width": "256.396px"
   },
   "toc_section_display": true,
   "toc_window_display": true
  }
 },
 "nbformat": 4,
 "nbformat_minor": 2
}

{
 "cells": [
  {
   "cell_type": "markdown",
   "metadata": {
    "hideCode": false,
    "hidePrompt": false
   },
   "source": [
    "# k-Means\n",
    "![](banner_kmeans.jpg)\n",
    "_<p style=\"text-align: center;\"> Where is the gravitational center? </p>_"
   ]
  },
  {
   "cell_type": "code",
   "execution_count": 1,
   "metadata": {
    "hide_input": true
   },
   "outputs": [
    {
     "data": {
      "text/html": [
       "== document setup =="
      ]
     },
     "metadata": {},
     "output_type": "display_data"
    }
   ],
   "source": [
    "f = \"setup.R\"; for (i in 1:10) { if (file.exists(f)) break else f = paste0(\"../\", f) }; source(f)\n",
    "                                \n",
    "update_geom_defaults(\"point\", list(size=6, colour=\"grey40\"))\n",
    "update_geom_defaults(\"text\", list(hjust=0.4, vjust=0.4, colour=\"white\"))"
   ]
  },
  {
   "cell_type": "markdown",
   "metadata": {},
   "source": [
    "## Introduction\n",
    "\n",
    "Motivation, context, history, related topics ..."
   ]
  },
  {
   "cell_type": "markdown",
   "metadata": {},
   "source": [
    "## Synopsis"
   ]
  },
  {
   "cell_type": "markdown",
   "metadata": {},
   "source": [
    "**Terms**\n",
    "\n",
    "* Centroid\n",
    "* Dissimilarity measure"
   ]
  },
  {
   "cell_type": "markdown",
   "metadata": {},
   "source": [
    "## Exposition"
   ]
  },
  {
   "cell_type": "markdown",
   "metadata": {},
   "source": [
    "### Data"
   ]
  },
  {
   "cell_type": "code",
   "execution_count": 2,
   "metadata": {
    "hide_input": true
   },
   "outputs": [
    {
     "data": {
      "text/html": [
       "<table>\n",
       "<caption><center><font color=\"black\"><b>data</b></font></center></caption>\n",
       " <thead>\n",
       "  <tr>\n",
       "   <th style=\"text-align:right;\"> x1 </th>\n",
       "   <th style=\"text-align:right;\"> x2 </th>\n",
       "  </tr>\n",
       " </thead>\n",
       "<tbody>\n",
       "  <tr>\n",
       "   <td style=\"text-align:right;\"> 2 </td>\n",
       "   <td style=\"text-align:right;\"> 1 </td>\n",
       "  </tr>\n",
       "  <tr>\n",
       "   <td style=\"text-align:right;\"> 2 </td>\n",
       "   <td style=\"text-align:right;\"> 4 </td>\n",
       "  </tr>\n",
       "  <tr>\n",
       "   <td style=\"text-align:right;\"> 3 </td>\n",
       "   <td style=\"text-align:right;\"> 4 </td>\n",
       "  </tr>\n",
       "  <tr>\n",
       "   <td style=\"text-align:right;\"> 5 </td>\n",
       "   <td style=\"text-align:right;\"> 4 </td>\n",
       "  </tr>\n",
       "  <tr>\n",
       "   <td style=\"text-align:right;\"> 10 </td>\n",
       "   <td style=\"text-align:right;\"> 4 </td>\n",
       "  </tr>\n",
       "  <tr>\n",
       "   <td style=\"text-align:right;\"> 12 </td>\n",
       "   <td style=\"text-align:right;\"> 4 </td>\n",
       "  </tr>\n",
       "</tbody>\n",
       "</table>"
      ]
     },
     "metadata": {},
     "output_type": "display_data"
    }
   ],
   "source": [
    "data = data.frame(x1=c(2, 2, 3, 5, 10, 12), x2=c(1, 4, 4, 4, 4, 4))\n",
    "data %>% caption"
   ]
  },
  {
   "cell_type": "markdown",
   "metadata": {},
   "source": [
    "### Initialize\n",
    "\n",
    "Randomly locate cluster centroids."
   ]
  },
  {
   "cell_type": "code",
   "execution_count": 3,
   "metadata": {
    "hide_input": true,
    "scrolled": false
   },
   "outputs": [
    {
     "data": {
      "image/png": "[encoded data removed]",
      "text/plain": [
       "plot without title"
      ]
     },
     "metadata": {},
     "output_type": "display_data"
    }
   ],
   "source": [
    "centroid = data.frame(x1=c(1,4), x2=c(3,4))\n",
    "row.names(centroid) = c(\"A\",\"B\")\n",
    "\n",
    "output_size(6,2.5)\n",
    "ggplot() + xlim(0,13) + ylim(0, 5) +\n",
    "geom_point(aes(x=x1, y=x2), data=data) +\n",
    "geom_text(aes(x=x1, y=x2, label=seq(1,6)), data=data) +\n",
    "geom_point(aes(x=x1, y=x2, color=row.names(centroid)), data=centroid) +\n",
    "labs(color=\"centroid\") + theme.legend_title"
   ]
  },
  {
   "cell_type": "code",
   "execution_count": 4,
   "metadata": {
    "hide_input": true,
    "scrolled": true
   },
   "outputs": [
    {
     "data": {
      "text/html": [
       "<table><tr><td style=\"background-color:white; vertical-align:top; padding-right:40px;\"><table>\n",
       "<caption><center><font color=\"black\"><b>data</b></font></center></caption>\n",
       " <thead>\n",
       "  <tr>\n",
       "   <th style=\"text-align:left;\">   </th>\n",
       "   <th style=\"text-align:right;\"> x1 </th>\n",
       "   <th style=\"text-align:right;\"> x2 </th>\n",
       "  </tr>\n",
       " </thead>\n",
       "<tbody>\n",
       "  <tr>\n",
       "   <td style=\"text-align:left;\"> 1 </td>\n",
       "   <td style=\"text-align:right;\"> 2 </td>\n",
       "   <td style=\"text-align:right;\"> 1 </td>\n",
       "  </tr>\n",
       "  <tr>\n",
       "   <td style=\"text-align:left;\"> 2 </td>\n",
       "   <td style=\"text-align:right;\"> 2 </td>\n",
       "   <td style=\"text-align:right;\"> 4 </td>\n",
       "  </tr>\n",
       "  <tr>\n",
       "   <td style=\"text-align:left;\"> 3 </td>\n",
       "   <td style=\"text-align:right;\"> 3 </td>\n",
       "   <td style=\"text-align:right;\"> 4 </td>\n",
       "  </tr>\n",
       "  <tr>\n",
       "   <td style=\"text-align:left;\"> 4 </td>\n",
       "   <td style=\"text-align:right;\"> 5 </td>\n",
       "   <td style=\"text-align:right;\"> 4 </td>\n",
       "  </tr>\n",
       "  <tr>\n",
       "   <td style=\"text-align:left;\"> 5 </td>\n",
       "   <td style=\"text-align:right;\"> 10 </td>\n",
       "   <td style=\"text-align:right;\"> 4 </td>\n",
       "  </tr>\n",
       "  <tr>\n",
       "   <td style=\"text-align:left;\"> 6 </td>\n",
       "   <td style=\"text-align:right;\"> 12 </td>\n",
       "   <td style=\"text-align:right;\"> 4 </td>\n",
       "  </tr>\n",
       "</tbody>\n",
       "</table></td><td style=\"background-color:white; vertical-align:top;\"><table>\n",
       "<caption><center><font color=\"black\"><b>centroid</b></font></center></caption>\n",
       " <thead>\n",
       "  <tr>\n",
       "   <th style=\"text-align:left;\">   </th>\n",
       "   <th style=\"text-align:right;\"> x1 </th>\n",
       "   <th style=\"text-align:right;\"> x2 </th>\n",
       "  </tr>\n",
       " </thead>\n",
       "<tbody>\n",
       "  <tr>\n",
       "   <td style=\"text-align:left;\"> A </td>\n",
       "   <td style=\"text-align:right;\"> 1 </td>\n",
       "   <td style=\"text-align:right;\"> 3 </td>\n",
       "  </tr>\n",
       "  <tr>\n",
       "   <td style=\"text-align:left;\"> B </td>\n",
       "   <td style=\"text-align:right;\"> 4 </td>\n",
       "   <td style=\"text-align:right;\"> 4 </td>\n",
       "  </tr>\n",
       "</tbody>\n",
       "</table></td></tr></table>"
      ]
     },
     "metadata": {},
     "output_type": "display_data"
    }
   ],
   "source": [
    "row.arrange(data %>% captionx(row.names=TRUE), centroid %>% captionx(row.names=TRUE))"
   ]
  },
  {
   "cell_type": "markdown",
   "metadata": {},
   "source": [
    "### Re-Locate Centroids"
   ]
  },
  {
   "cell_type": "markdown",
   "metadata": {},
   "source": [
    "**Step 1**"
   ]
  },
  {
   "cell_type": "markdown",
   "metadata": {},
   "source": [
    "Calculate distances from the observations to the centroids.  Assign each observation to the cluster associated with its nearest centroid."
   ]
  },
  {
   "cell_type": "code",
   "execution_count": 5,
   "metadata": {
    "hide_input": true,
    "scrolled": true
   },
   "outputs": [
    {
     "data": {
      "image/png": "[encoded data removed]",
      "text/plain": [
       "plot without title"
      ]
     },
     "metadata": {},
     "output_type": "display_data"
    }
   ],
   "source": [
    "output_size(6,2.5)\n",
    "ggplot(data) + xlim(0,13) + ylim(0, 5) +\n",
    "geom_rect(xmin=0.5, xmax=2.5, ymin=0.5, ymax=4.5, color=\"black\", fill=PALETTE[1], alpha=0.05) +\n",
    "geom_rect(xmin=2.5, xmax=12.5, ymin=3.5, ymax=4.5, color=\"black\", fill=PALETTE[2], alpha=0.05) +\n",
    "geom_point(aes(x=x1, y=x2), data=data) +\n",
    "geom_text(aes(x=x1, y=x2, label=seq(1,6)), data=data) +\n",
    "geom_point(aes(x=x1, y=x2, color=row.names(centroid)), data=centroid) +\n",
    "labs(color=\"centroid\") + theme.legend_title"
   ]
  },
  {
   "cell_type": "code",
   "execution_count": 6,
   "metadata": {
    "hide_input": true
   },
   "outputs": [
    {
     "data": {
      "text/html": [
       "<table><tr><td style=\"background-color:white; vertical-align:top; padding-right:40px;\"><table>\n",
       "<caption><center><font color=\"black\"><b>data</b></font></center></caption>\n",
       " <thead>\n",
       "  <tr>\n",
       "   <th style=\"text-align:left;\">   </th>\n",
       "   <th style=\"text-align:right;\"> x1 </th>\n",
       "   <th style=\"text-align:right;\"> x2 </th>\n",
       "   <th style=\"text-align:right;\"> cluster </th>\n",
       "  </tr>\n",
       " </thead>\n",
       "<tbody>\n",
       "  <tr>\n",
       "   <td style=\"text-align:left;\"> 1 </td>\n",
       "   <td style=\"text-align:right;\"> 2 </td>\n",
       "   <td style=\"text-align:right;\"> 1 </td>\n",
       "   <td style=\"text-align:right;\"> A </td>\n",
       "  </tr>\n",
       "  <tr>\n",
       "   <td style=\"text-align:left;\"> 2 </td>\n",
       "   <td style=\"text-align:right;\"> 2 </td>\n",
       "   <td style=\"text-align:right;\"> 4 </td>\n",
       "   <td style=\"text-align:right;\"> A </td>\n",
       "  </tr>\n",
       "  <tr>\n",
       "   <td style=\"text-align:left;\"> 3 </td>\n",
       "   <td style=\"text-align:right;\"> 3 </td>\n",
       "   <td style=\"text-align:right;\"> 4 </td>\n",
       "   <td style=\"text-align:right;\"> B </td>\n",
       "  </tr>\n",
       "  <tr>\n",
       "   <td style=\"text-align:left;\"> 4 </td>\n",
       "   <td style=\"text-align:right;\"> 5 </td>\n",
       "   <td style=\"text-align:right;\"> 4 </td>\n",
       "   <td style=\"text-align:right;\"> B </td>\n",
       "  </tr>\n",
       "  <tr>\n",
       "   <td style=\"text-align:left;\"> 5 </td>\n",
       "   <td style=\"text-align:right;\"> 10 </td>\n",
       "   <td style=\"text-align:right;\"> 4 </td>\n",
       "   <td style=\"text-align:right;\"> B </td>\n",
       "  </tr>\n",
       "  <tr>\n",
       "   <td style=\"text-align:left;\"> 6 </td>\n",
       "   <td style=\"text-align:right;\"> 12 </td>\n",
       "   <td style=\"text-align:right;\"> 4 </td>\n",
       "   <td style=\"text-align:right;\"> B </td>\n",
       "  </tr>\n",
       "</tbody>\n",
       "</table></td><td style=\"background-color:white; vertical-align:top; padding-right:40px;\"><table>\n",
       "<caption><center><font color=\"black\"><b>centroid</b></font></center></caption>\n",
       " <thead>\n",
       "  <tr>\n",
       "   <th style=\"text-align:left;\">   </th>\n",
       "   <th style=\"text-align:right;\"> x1 </th>\n",
       "   <th style=\"text-align:right;\"> x2 </th>\n",
       "  </tr>\n",
       " </thead>\n",
       "<tbody>\n",
       "  <tr>\n",
       "   <td style=\"text-align:left;\"> A </td>\n",
       "   <td style=\"text-align:right;\"> 1 </td>\n",
       "   <td style=\"text-align:right;\"> 3 </td>\n",
       "  </tr>\n",
       "  <tr>\n",
       "   <td style=\"text-align:left;\"> B </td>\n",
       "   <td style=\"text-align:right;\"> 4 </td>\n",
       "   <td style=\"text-align:right;\"> 4 </td>\n",
       "  </tr>\n",
       "</tbody>\n",
       "</table></td><td style=\"background-color:white; vertical-align:top;\"><table>\n",
       "<caption><center><font color=\"black\"><b>distance to centroid</b></font></center></caption>\n",
       " <thead>\n",
       "  <tr>\n",
       "   <th style=\"text-align:left;\">   </th>\n",
       "   <th style=\"text-align:right;\"> A </th>\n",
       "   <th style=\"text-align:right;\"> B </th>\n",
       "  </tr>\n",
       " </thead>\n",
       "<tbody>\n",
       "  <tr>\n",
       "   <td style=\"text-align:left;\"> 1 </td>\n",
       "   <td style=\"text-align:right;\"> 2.236068 </td>\n",
       "   <td style=\"text-align:right;\"> 3.605551 </td>\n",
       "  </tr>\n",
       "  <tr>\n",
       "   <td style=\"text-align:left;\"> 2 </td>\n",
       "   <td style=\"text-align:right;\"> 1.414214 </td>\n",
       "   <td style=\"text-align:right;\"> 2.000000 </td>\n",
       "  </tr>\n",
       "  <tr>\n",
       "   <td style=\"text-align:left;\"> 3 </td>\n",
       "   <td style=\"text-align:right;\"> 2.236068 </td>\n",
       "   <td style=\"text-align:right;\"> 1.000000 </td>\n",
       "  </tr>\n",
       "  <tr>\n",
       "   <td style=\"text-align:left;\"> 4 </td>\n",
       "   <td style=\"text-align:right;\"> 4.123106 </td>\n",
       "   <td style=\"text-align:right;\"> 1.000000 </td>\n",
       "  </tr>\n",
       "  <tr>\n",
       "   <td style=\"text-align:left;\"> 5 </td>\n",
       "   <td style=\"text-align:right;\"> 9.055385 </td>\n",
       "   <td style=\"text-align:right;\"> 6.000000 </td>\n",
       "  </tr>\n",
       "  <tr>\n",
       "   <td style=\"text-align:left;\"> 6 </td>\n",
       "   <td style=\"text-align:right;\"> 11.045361 </td>\n",
       "   <td style=\"text-align:right;\"> 8.000000 </td>\n",
       "  </tr>\n",
       "</tbody>\n",
       "</table></td></tr></table>"
      ]
     },
     "metadata": {},
     "output_type": "display_data"
    }
   ],
   "source": [
    "data$cluster = c(\"A\",\"A\",\"B\",\"B\",\"B\",\"B\")\n",
    "\n",
    "distance = data.frame(A=aaply(1:nrow(data), 1, function(i) as.numeric(dist(rbind(centroid[1,], data[i,1:2]), \"euclidean\"))),\n",
    "                      B=aaply(1:nrow(data), 1, function(i) as.numeric(dist(rbind(centroid[2,], data[i,1:2]), \"euclidean\"))))\n",
    "          \n",
    "row.arrange(data %>% captionx(row.names=TRUE),\n",
    "            centroid %>% captionx(row.names=TRUE),\n",
    "            distance %>% captionx(\"distance to centroid\", row.names=TRUE))"
   ]
  },
  {
   "cell_type": "markdown",
   "metadata": {},
   "source": [
    "Calculate a new centroid for each cluster of observations. "
   ]
  },
  {
   "cell_type": "code",
   "execution_count": 7,
   "metadata": {
    "hide_input": true,
    "scrolled": true
   },
   "outputs": [
    {
     "data": {
      "image/png": "[encoded data removed]",
      "text/plain": [
       "plot without title"
      ]
     },
     "metadata": {},
     "output_type": "display_data"
    }
   ],
   "source": [
    "centroid$x1 = c(mean(data$x1[data$cluster==\"A\"]), mean(data$x1[data$cluster==\"B\"]))\n",
    "centroid$x2 = c(mean(data$x2[data$cluster==\"A\"]), mean(data$x2[data$cluster==\"B\"]))\n",
    "\n",
    "output_size(6,2.5)\n",
    "ggplot(data) + xlim(0,13) + ylim(0, 5) +\n",
    "geom_rect(xmin=0.5, xmax=2.5, ymin=0.5, ymax=4.5, color=\"black\", fill=PALETTE[1], alpha=0.05) +\n",
    "geom_rect(xmin=2.5, xmax=12.5, ymin=3.5, ymax=4.5, color=\"black\", fill=PALETTE[2], alpha=0.05) +\n",
    "geom_point(aes(x=x1, y=x2), data=data) +\n",
    "geom_text(aes(x=x1, y=x2, label=seq(1,6)), data=data) +\n",
    "geom_point(aes(x=x1, y=x2, color=row.names(centroid)), data=centroid) +\n",
    "labs(color=\"centroid\") + theme.legend_title"
   ]
  },
  {
   "cell_type": "code",
   "execution_count": 8,
   "metadata": {
    "hide_input": true
   },
   "outputs": [
    {
     "data": {
      "text/html": [
       "<table><tr><td style=\"background-color:white; vertical-align:top; padding-right:40px;\"><table>\n",
       "<caption><center><font color=\"black\"><b>data</b></font></center></caption>\n",
       " <thead>\n",
       "  <tr>\n",
       "   <th style=\"text-align:left;\">   </th>\n",
       "   <th style=\"text-align:right;\"> x1 </th>\n",
       "   <th style=\"text-align:right;\"> x2 </th>\n",
       "   <th style=\"text-align:right;\"> cluster </th>\n",
       "  </tr>\n",
       " </thead>\n",
       "<tbody>\n",
       "  <tr>\n",
       "   <td style=\"text-align:left;\"> 1 </td>\n",
       "   <td style=\"text-align:right;\"> 2 </td>\n",
       "   <td style=\"text-align:right;\"> 1 </td>\n",
       "   <td style=\"text-align:right;\"> A </td>\n",
       "  </tr>\n",
       "  <tr>\n",
       "   <td style=\"text-align:left;\"> 2 </td>\n",
       "   <td style=\"text-align:right;\"> 2 </td>\n",
       "   <td style=\"text-align:right;\"> 4 </td>\n",
       "   <td style=\"text-align:right;\"> A </td>\n",
       "  </tr>\n",
       "  <tr>\n",
       "   <td style=\"text-align:left;\"> 3 </td>\n",
       "   <td style=\"text-align:right;\"> 3 </td>\n",
       "   <td style=\"text-align:right;\"> 4 </td>\n",
       "   <td style=\"text-align:right;\"> B </td>\n",
       "  </tr>\n",
       "  <tr>\n",
       "   <td style=\"text-align:left;\"> 4 </td>\n",
       "   <td style=\"text-align:right;\"> 5 </td>\n",
       "   <td style=\"text-align:right;\"> 4 </td>\n",
       "   <td style=\"text-align:right;\"> B </td>\n",
       "  </tr>\n",
       "  <tr>\n",
       "   <td style=\"text-align:left;\"> 5 </td>\n",
       "   <td style=\"text-align:right;\"> 10 </td>\n",
       "   <td style=\"text-align:right;\"> 4 </td>\n",
       "   <td style=\"text-align:right;\"> B </td>\n",
       "  </tr>\n",
       "  <tr>\n",
       "   <td style=\"text-align:left;\"> 6 </td>\n",
       "   <td style=\"text-align:right;\"> 12 </td>\n",
       "   <td style=\"text-align:right;\"> 4 </td>\n",
       "   <td style=\"text-align:right;\"> B </td>\n",
       "  </tr>\n",
       "</tbody>\n",
       "</table></td><td style=\"background-color:white; vertical-align:top;\"><table>\n",
       "<caption><center><font color=\"black\"><b>centroid</b></font></center></caption>\n",
       " <thead>\n",
       "  <tr>\n",
       "   <th style=\"text-align:left;\">   </th>\n",
       "   <th style=\"text-align:right;\"> x1 </th>\n",
       "   <th style=\"text-align:right;\"> x2 </th>\n",
       "  </tr>\n",
       " </thead>\n",
       "<tbody>\n",
       "  <tr>\n",
       "   <td style=\"text-align:left;\"> A </td>\n",
       "   <td style=\"text-align:right;\"> 2.0 </td>\n",
       "   <td style=\"text-align:right;\"> 2.5 </td>\n",
       "  </tr>\n",
       "  <tr>\n",
       "   <td style=\"text-align:left;\"> B </td>\n",
       "   <td style=\"text-align:right;\"> 7.5 </td>\n",
       "   <td style=\"text-align:right;\"> 4.0 </td>\n",
       "  </tr>\n",
       "</tbody>\n",
       "</table></td></tr></table>"
      ]
     },
     "metadata": {},
     "output_type": "display_data"
    }
   ],
   "source": [
    "distance = data.frame(A=aaply(1:nrow(data), 1, function(i) as.numeric(dist(rbind(centroid[1,], data[i,1:2]), \"euclidean\"))),\n",
    "                      B=aaply(1:nrow(data), 1, function(i) as.numeric(dist(rbind(centroid[2,], data[i,1:2]), \"euclidean\"))))\n",
    "          \n",
    "row.arrange(data %>% captionx(row.names=TRUE),\n",
    "            centroid %>% captionx(row.names=TRUE))"
   ]
  },
  {
   "cell_type": "markdown",
   "metadata": {},
   "source": [
    "**Step 2**"
   ]
  },
  {
   "cell_type": "markdown",
   "metadata": {},
   "source": [
    "Calculate distances from the observations to the centroids.  Assign each observation to the cluster associated with its nearest centroid."
   ]
  },
  {
   "cell_type": "code",
   "execution_count": 9,
   "metadata": {
    "hide_input": true,
    "scrolled": true
   },
   "outputs": [
    {
     "data": {
      "image/png": "[encoded data removed]",
      "text/plain": [
       "plot without title"
      ]
     },
     "metadata": {},
     "output_type": "display_data"
    }
   ],
   "source": [
    "output_size(6,2.5)\n",
    "ggplot(data) + xlim(0,13) + ylim(0, 5) +\n",
    "geom_rect(xmin=1.5, xmax=3.5, ymin=0.5, ymax=4.5, color=\"black\", fill=PALETTE[1], alpha=0.05) +\n",
    "geom_rect(xmin=4.5, xmax=12.5, ymin=3.5, ymax=4.5, color=\"black\", fill=PALETTE[2], alpha=0.05) +\n",
    "geom_point(aes(x=x1, y=x2), data=data) +\n",
    "geom_text(aes(x=x1, y=x2, label=seq(1,6)), data=data) +\n",
    "geom_point(aes(x=x1, y=x2, color=row.names(centroid)), data=centroid) +\n",
    "labs(color=\"centroid\") + theme.legend_title"
   ]
  },
  {
   "cell_type": "code",
   "execution_count": 10,
   "metadata": {
    "hide_input": true
   },
   "outputs": [
    {
     "data": {
      "text/html": [
       "<table><tr><td style=\"background-color:white; vertical-align:top; padding-right:40px;\"><table>\n",
       "<caption><center><font color=\"black\"><b>data</b></font></center></caption>\n",
       " <thead>\n",
       "  <tr>\n",
       "   <th style=\"text-align:left;\">   </th>\n",
       "   <th style=\"text-align:right;\"> x1 </th>\n",
       "   <th style=\"text-align:right;\"> x2 </th>\n",
       "   <th style=\"text-align:right;\"> cluster </th>\n",
       "  </tr>\n",
       " </thead>\n",
       "<tbody>\n",
       "  <tr>\n",
       "   <td style=\"text-align:left;\"> 1 </td>\n",
       "   <td style=\"text-align:right;\"> 2 </td>\n",
       "   <td style=\"text-align:right;\"> 1 </td>\n",
       "   <td style=\"text-align:right;\"> A </td>\n",
       "  </tr>\n",
       "  <tr>\n",
       "   <td style=\"text-align:left;\"> 2 </td>\n",
       "   <td style=\"text-align:right;\"> 2 </td>\n",
       "   <td style=\"text-align:right;\"> 4 </td>\n",
       "   <td style=\"text-align:right;\"> A </td>\n",
       "  </tr>\n",
       "  <tr>\n",
       "   <td style=\"text-align:left;\"> 3 </td>\n",
       "   <td style=\"text-align:right;\"> 3 </td>\n",
       "   <td style=\"text-align:right;\"> 4 </td>\n",
       "   <td style=\"text-align:right;\"> A </td>\n",
       "  </tr>\n",
       "  <tr>\n",
       "   <td style=\"text-align:left;\"> 4 </td>\n",
       "   <td style=\"text-align:right;\"> 5 </td>\n",
       "   <td style=\"text-align:right;\"> 4 </td>\n",
       "   <td style=\"text-align:right;\"> B </td>\n",
       "  </tr>\n",
       "  <tr>\n",
       "   <td style=\"text-align:left;\"> 5 </td>\n",
       "   <td style=\"text-align:right;\"> 10 </td>\n",
       "   <td style=\"text-align:right;\"> 4 </td>\n",
       "   <td style=\"text-align:right;\"> B </td>\n",
       "  </tr>\n",
       "  <tr>\n",
       "   <td style=\"text-align:left;\"> 6 </td>\n",
       "   <td style=\"text-align:right;\"> 12 </td>\n",
       "   <td style=\"text-align:right;\"> 4 </td>\n",
       "   <td style=\"text-align:right;\"> B </td>\n",
       "  </tr>\n",
       "</tbody>\n",
       "</table></td><td style=\"background-color:white; vertical-align:top; padding-right:40px;\"><table>\n",
       "<caption><center><font color=\"black\"><b>centroid</b></font></center></caption>\n",
       " <thead>\n",
       "  <tr>\n",
       "   <th style=\"text-align:left;\">   </th>\n",
       "   <th style=\"text-align:right;\"> x1 </th>\n",
       "   <th style=\"text-align:right;\"> x2 </th>\n",
       "  </tr>\n",
       " </thead>\n",
       "<tbody>\n",
       "  <tr>\n",
       "   <td style=\"text-align:left;\"> A </td>\n",
       "   <td style=\"text-align:right;\"> 2.0 </td>\n",
       "   <td style=\"text-align:right;\"> 2.5 </td>\n",
       "  </tr>\n",
       "  <tr>\n",
       "   <td style=\"text-align:left;\"> B </td>\n",
       "   <td style=\"text-align:right;\"> 7.5 </td>\n",
       "   <td style=\"text-align:right;\"> 4.0 </td>\n",
       "  </tr>\n",
       "</tbody>\n",
       "</table></td><td style=\"background-color:white; vertical-align:top;\"><table>\n",
       "<caption><center><font color=\"black\"><b>distance to centroid</b></font></center></caption>\n",
       " <thead>\n",
       "  <tr>\n",
       "   <th style=\"text-align:left;\">   </th>\n",
       "   <th style=\"text-align:right;\"> A </th>\n",
       "   <th style=\"text-align:right;\"> B </th>\n",
       "  </tr>\n",
       " </thead>\n",
       "<tbody>\n",
       "  <tr>\n",
       "   <td style=\"text-align:left;\"> 1 </td>\n",
       "   <td style=\"text-align:right;\"> 1.500000 </td>\n",
       "   <td style=\"text-align:right;\"> 6.264982 </td>\n",
       "  </tr>\n",
       "  <tr>\n",
       "   <td style=\"text-align:left;\"> 2 </td>\n",
       "   <td style=\"text-align:right;\"> 1.500000 </td>\n",
       "   <td style=\"text-align:right;\"> 5.500000 </td>\n",
       "  </tr>\n",
       "  <tr>\n",
       "   <td style=\"text-align:left;\"> 3 </td>\n",
       "   <td style=\"text-align:right;\"> 1.802776 </td>\n",
       "   <td style=\"text-align:right;\"> 4.500000 </td>\n",
       "  </tr>\n",
       "  <tr>\n",
       "   <td style=\"text-align:left;\"> 4 </td>\n",
       "   <td style=\"text-align:right;\"> 3.354102 </td>\n",
       "   <td style=\"text-align:right;\"> 2.500000 </td>\n",
       "  </tr>\n",
       "  <tr>\n",
       "   <td style=\"text-align:left;\"> 5 </td>\n",
       "   <td style=\"text-align:right;\"> 8.139410 </td>\n",
       "   <td style=\"text-align:right;\"> 2.500000 </td>\n",
       "  </tr>\n",
       "  <tr>\n",
       "   <td style=\"text-align:left;\"> 6 </td>\n",
       "   <td style=\"text-align:right;\"> 10.111874 </td>\n",
       "   <td style=\"text-align:right;\"> 4.500000 </td>\n",
       "  </tr>\n",
       "</tbody>\n",
       "</table></td></tr></table>"
      ]
     },
     "metadata": {},
     "output_type": "display_data"
    }
   ],
   "source": [
    "data$cluster = c(\"A\",\"A\",\"A\",\"B\",\"B\",\"B\")\n",
    "\n",
    "distance = data.frame(A=aaply(1:nrow(data), 1, function(i) as.numeric(dist(rbind(centroid[1,], data[i,1:2]), \"euclidean\"))),\n",
    "                      B=aaply(1:nrow(data), 1, function(i) as.numeric(dist(rbind(centroid[2,], data[i,1:2]), \"euclidean\"))))\n",
    "          \n",
    "row.arrange(data %>% captionx(row.names=TRUE),\n",
    "            centroid %>% captionx(row.names=TRUE),\n",
    "            distance %>% captionx(\"distance to centroid\", row.names=TRUE))"
   ]
  },
  {
   "cell_type": "markdown",
   "metadata": {},
   "source": [
    "Calculate a new centroid for each cluster of observations. "
   ]
  },
  {
   "cell_type": "code",
   "execution_count": 11,
   "metadata": {
    "hide_input": true,
    "scrolled": true
   },
   "outputs": [
    {
     "data": {
      "image/png": "[encoded data removed]",
      "text/plain": [
       "plot without title"
      ]
     },
     "metadata": {},
     "output_type": "display_data"
    }
   ],
   "source": [
    "centroid$x1 = c(mean(data$x1[data$cluster==\"A\"]), mean(data$x1[data$cluster==\"B\"]))\n",
    "centroid$x2 = c(mean(data$x2[data$cluster==\"A\"]), mean(data$x2[data$cluster==\"B\"]))\n",
    "\n",
    "output_size(6,2.5)\n",
    "ggplot(data) + xlim(0,13) + ylim(0, 5) +\n",
    "geom_rect(xmin=1.5, xmax=3.5, ymin=0.5, ymax=4.5, color=\"black\", fill=PALETTE[1], alpha=0.05) +\n",
    "geom_rect(xmin=4.5, xmax=12.5, ymin=3.5, ymax=4.5, color=\"black\", fill=PALETTE[2], alpha=0.05) +\n",
    "geom_point(aes(x=x1, y=x2), data=data) +\n",
    "geom_text(aes(x=x1, y=x2, label=seq(1,6)), data=data) +\n",
    "geom_point(aes(x=x1, y=x2, color=row.names(centroid)), data=centroid) +\n",
    "labs(color=\"centroid\") + theme.legend_title"
   ]
  },
  {
   "cell_type": "code",
   "execution_count": 12,
   "metadata": {
    "hide_input": true
   },
   "outputs": [
    {
     "data": {
      "text/html": [
       "<table><tr><td style=\"background-color:white; vertical-align:top; padding-right:40px;\"><table>\n",
       "<caption><center><font color=\"black\"><b>data</b></font></center></caption>\n",
       " <thead>\n",
       "  <tr>\n",
       "   <th style=\"text-align:left;\">   </th>\n",
       "   <th style=\"text-align:right;\"> x1 </th>\n",
       "   <th style=\"text-align:right;\"> x2 </th>\n",
       "   <th style=\"text-align:right;\"> cluster </th>\n",
       "  </tr>\n",
       " </thead>\n",
       "<tbody>\n",
       "  <tr>\n",
       "   <td style=\"text-align:left;\"> 1 </td>\n",
       "   <td style=\"text-align:right;\"> 2 </td>\n",
       "   <td style=\"text-align:right;\"> 1 </td>\n",
       "   <td style=\"text-align:right;\"> A </td>\n",
       "  </tr>\n",
       "  <tr>\n",
       "   <td style=\"text-align:left;\"> 2 </td>\n",
       "   <td style=\"text-align:right;\"> 2 </td>\n",
       "   <td style=\"text-align:right;\"> 4 </td>\n",
       "   <td style=\"text-align:right;\"> A </td>\n",
       "  </tr>\n",
       "  <tr>\n",
       "   <td style=\"text-align:left;\"> 3 </td>\n",
       "   <td style=\"text-align:right;\"> 3 </td>\n",
       "   <td style=\"text-align:right;\"> 4 </td>\n",
       "   <td style=\"text-align:right;\"> A </td>\n",
       "  </tr>\n",
       "  <tr>\n",
       "   <td style=\"text-align:left;\"> 4 </td>\n",
       "   <td style=\"text-align:right;\"> 5 </td>\n",
       "   <td style=\"text-align:right;\"> 4 </td>\n",
       "   <td style=\"text-align:right;\"> B </td>\n",
       "  </tr>\n",
       "  <tr>\n",
       "   <td style=\"text-align:left;\"> 5 </td>\n",
       "   <td style=\"text-align:right;\"> 10 </td>\n",
       "   <td style=\"text-align:right;\"> 4 </td>\n",
       "   <td style=\"text-align:right;\"> B </td>\n",
       "  </tr>\n",
       "  <tr>\n",
       "   <td style=\"text-align:left;\"> 6 </td>\n",
       "   <td style=\"text-align:right;\"> 12 </td>\n",
       "   <td style=\"text-align:right;\"> 4 </td>\n",
       "   <td style=\"text-align:right;\"> B </td>\n",
       "  </tr>\n",
       "</tbody>\n",
       "</table></td><td style=\"background-color:white; vertical-align:top;\"><table>\n",
       "<caption><center><font color=\"black\"><b>centroid</b></font></center></caption>\n",
       " <thead>\n",
       "  <tr>\n",
       "   <th style=\"text-align:left;\">   </th>\n",
       "   <th style=\"text-align:right;\"> x1 </th>\n",
       "   <th style=\"text-align:right;\"> x2 </th>\n",
       "  </tr>\n",
       " </thead>\n",
       "<tbody>\n",
       "  <tr>\n",
       "   <td style=\"text-align:left;\"> A </td>\n",
       "   <td style=\"text-align:right;\"> 2.333333 </td>\n",
       "   <td style=\"text-align:right;\"> 3 </td>\n",
       "  </tr>\n",
       "  <tr>\n",
       "   <td style=\"text-align:left;\"> B </td>\n",
       "   <td style=\"text-align:right;\"> 9.000000 </td>\n",
       "   <td style=\"text-align:right;\"> 4 </td>\n",
       "  </tr>\n",
       "</tbody>\n",
       "</table></td></tr></table>"
      ]
     },
     "metadata": {},
     "output_type": "display_data"
    }
   ],
   "source": [
    "distance = data.frame(A=aaply(1:nrow(data), 1, function(i) as.numeric(dist(rbind(centroid[1,], data[i,1:2]), \"euclidean\"))),\n",
    "                      B=aaply(1:nrow(data), 1, function(i) as.numeric(dist(rbind(centroid[2,], data[i,1:2]), \"euclidean\"))))\n",
    "          \n",
    "row.arrange(data %>% captionx(row.names=TRUE),\n",
    "            centroid %>% captionx(row.names=TRUE))"
   ]
  },
  {
   "cell_type": "markdown",
   "metadata": {},
   "source": [
    "**Step 3**"
   ]
  },
  {
   "cell_type": "markdown",
   "metadata": {},
   "source": [
    "Calculate distances from the observations to the centroids.  Assign each observation to the cluster associated with its nearest centroid."
   ]
  },
  {
   "cell_type": "code",
   "execution_count": 13,
   "metadata": {
    "hide_input": true,
    "scrolled": true
   },
   "outputs": [
    {
     "data": {
      "image/png": "[encoded data removed]",
      "text/plain": [
       "plot without title"
      ]
     },
     "metadata": {},
     "output_type": "display_data"
    }
   ],
   "source": [
    "output_size(6,2.5)\n",
    "ggplot(data) + xlim(0,13) + ylim(0, 5) +\n",
    "geom_rect(xmin=1.5, xmax=5.5, ymin=0.5, ymax=4.5, color=\"black\", fill=PALETTE[1], alpha=0.05) +\n",
    "geom_rect(xmin=9.5, xmax=12.5, ymin=3.5, ymax=4.5, color=\"black\", fill=PALETTE[2], alpha=0.05) +\n",
    "geom_point(aes(x=x1, y=x2), data=data) +\n",
    "geom_text(aes(x=x1, y=x2, label=seq(1,6)), data=data) +\n",
    "geom_point(aes(x=x1, y=x2, color=row.names(centroid)), data=centroid) +\n",
    "labs(color=\"centroid\") + theme.legend_title"
   ]
  },
  {
   "cell_type": "code",
   "execution_count": 14,
   "metadata": {
    "hide_input": true
   },
   "outputs": [
    {
     "data": {
      "text/html": [
       "<table><tr><td style=\"background-color:white; vertical-align:top; padding-right:40px;\"><table>\n",
       "<caption><center><font color=\"black\"><b>data</b></font></center></caption>\n",
       " <thead>\n",
       "  <tr>\n",
       "   <th style=\"text-align:left;\">   </th>\n",
       "   <th style=\"text-align:right;\"> x1 </th>\n",
       "   <th style=\"text-align:right;\"> x2 </th>\n",
       "   <th style=\"text-align:right;\"> cluster </th>\n",
       "  </tr>\n",
       " </thead>\n",
       "<tbody>\n",
       "  <tr>\n",
       "   <td style=\"text-align:left;\"> 1 </td>\n",
       "   <td style=\"text-align:right;\"> 2 </td>\n",
       "   <td style=\"text-align:right;\"> 1 </td>\n",
       "   <td style=\"text-align:right;\"> A </td>\n",
       "  </tr>\n",
       "  <tr>\n",
       "   <td style=\"text-align:left;\"> 2 </td>\n",
       "   <td style=\"text-align:right;\"> 2 </td>\n",
       "   <td style=\"text-align:right;\"> 4 </td>\n",
       "   <td style=\"text-align:right;\"> A </td>\n",
       "  </tr>\n",
       "  <tr>\n",
       "   <td style=\"text-align:left;\"> 3 </td>\n",
       "   <td style=\"text-align:right;\"> 3 </td>\n",
       "   <td style=\"text-align:right;\"> 4 </td>\n",
       "   <td style=\"text-align:right;\"> A </td>\n",
       "  </tr>\n",
       "  <tr>\n",
       "   <td style=\"text-align:left;\"> 4 </td>\n",
       "   <td style=\"text-align:right;\"> 5 </td>\n",
       "   <td style=\"text-align:right;\"> 4 </td>\n",
       "   <td style=\"text-align:right;\"> A </td>\n",
       "  </tr>\n",
       "  <tr>\n",
       "   <td style=\"text-align:left;\"> 5 </td>\n",
       "   <td style=\"text-align:right;\"> 10 </td>\n",
       "   <td style=\"text-align:right;\"> 4 </td>\n",
       "   <td style=\"text-align:right;\"> B </td>\n",
       "  </tr>\n",
       "  <tr>\n",
       "   <td style=\"text-align:left;\"> 6 </td>\n",
       "   <td style=\"text-align:right;\"> 12 </td>\n",
       "   <td style=\"text-align:right;\"> 4 </td>\n",
       "   <td style=\"text-align:right;\"> B </td>\n",
       "  </tr>\n",
       "</tbody>\n",
       "</table></td><td style=\"background-color:white; vertical-align:top; padding-right:40px;\"><table>\n",
       "<caption><center><font color=\"black\"><b>centroid</b></font></center></caption>\n",
       " <thead>\n",
       "  <tr>\n",
       "   <th style=\"text-align:left;\">   </th>\n",
       "   <th style=\"text-align:right;\"> x1 </th>\n",
       "   <th style=\"text-align:right;\"> x2 </th>\n",
       "  </tr>\n",
       " </thead>\n",
       "<tbody>\n",
       "  <tr>\n",
       "   <td style=\"text-align:left;\"> A </td>\n",
       "   <td style=\"text-align:right;\"> 2.333333 </td>\n",
       "   <td style=\"text-align:right;\"> 3 </td>\n",
       "  </tr>\n",
       "  <tr>\n",
       "   <td style=\"text-align:left;\"> B </td>\n",
       "   <td style=\"text-align:right;\"> 9.000000 </td>\n",
       "   <td style=\"text-align:right;\"> 4 </td>\n",
       "  </tr>\n",
       "</tbody>\n",
       "</table></td><td style=\"background-color:white; vertical-align:top;\"><table>\n",
       "<caption><center><font color=\"black\"><b>distance to centroid</b></font></center></caption>\n",
       " <thead>\n",
       "  <tr>\n",
       "   <th style=\"text-align:left;\">   </th>\n",
       "   <th style=\"text-align:right;\"> A </th>\n",
       "   <th style=\"text-align:right;\"> B </th>\n",
       "  </tr>\n",
       " </thead>\n",
       "<tbody>\n",
       "  <tr>\n",
       "   <td style=\"text-align:left;\"> 1 </td>\n",
       "   <td style=\"text-align:right;\"> 2.027588 </td>\n",
       "   <td style=\"text-align:right;\"> 7.615773 </td>\n",
       "  </tr>\n",
       "  <tr>\n",
       "   <td style=\"text-align:left;\"> 2 </td>\n",
       "   <td style=\"text-align:right;\"> 1.054093 </td>\n",
       "   <td style=\"text-align:right;\"> 7.000000 </td>\n",
       "  </tr>\n",
       "  <tr>\n",
       "   <td style=\"text-align:left;\"> 3 </td>\n",
       "   <td style=\"text-align:right;\"> 1.201850 </td>\n",
       "   <td style=\"text-align:right;\"> 6.000000 </td>\n",
       "  </tr>\n",
       "  <tr>\n",
       "   <td style=\"text-align:left;\"> 4 </td>\n",
       "   <td style=\"text-align:right;\"> 2.848001 </td>\n",
       "   <td style=\"text-align:right;\"> 4.000000 </td>\n",
       "  </tr>\n",
       "  <tr>\n",
       "   <td style=\"text-align:left;\"> 5 </td>\n",
       "   <td style=\"text-align:right;\"> 7.731609 </td>\n",
       "   <td style=\"text-align:right;\"> 1.000000 </td>\n",
       "  </tr>\n",
       "  <tr>\n",
       "   <td style=\"text-align:left;\"> 6 </td>\n",
       "   <td style=\"text-align:right;\"> 9.718253 </td>\n",
       "   <td style=\"text-align:right;\"> 3.000000 </td>\n",
       "  </tr>\n",
       "</tbody>\n",
       "</table></td></tr></table>"
      ]
     },
     "metadata": {},
     "output_type": "display_data"
    }
   ],
   "source": [
    "data$cluster = c(\"A\",\"A\",\"A\",\"A\",\"B\",\"B\")\n",
    "\n",
    "distance = data.frame(A=aaply(1:nrow(data), 1, function(i) as.numeric(dist(rbind(centroid[1,], data[i,1:2]), \"euclidean\"))),\n",
    "                      B=aaply(1:nrow(data), 1, function(i) as.numeric(dist(rbind(centroid[2,], data[i,1:2]), \"euclidean\"))))\n",
    "          \n",
    "row.arrange(data %>% captionx(row.names=TRUE),\n",
    "            centroid %>% captionx(row.names=TRUE),\n",
    "            distance %>% captionx(\"distance to centroid\", row.names=TRUE))"
   ]
  },
  {
   "cell_type": "markdown",
   "metadata": {},
   "source": [
    "Calculate a new centroid for each cluster of observations. "
   ]
  },
  {
   "cell_type": "code",
   "execution_count": 15,
   "metadata": {
    "hide_input": true,
    "scrolled": true
   },
   "outputs": [
    {
     "data": {
      "image/png": "[encoded data removed]",
      "text/plain": [
       "plot without title"
      ]
     },
     "metadata": {},
     "output_type": "display_data"
    }
   ],
   "source": [
    "centroid$x1 = c(mean(data$x1[data$cluster==\"A\"]), mean(data$x1[data$cluster==\"B\"]))\n",
    "centroid$x2 = c(mean(data$x2[data$cluster==\"A\"]), mean(data$x2[data$cluster==\"B\"]))\n",
    "\n",
    "output_size(6,2.5)\n",
    "ggplot(data) + xlim(0,13) + ylim(0, 5) +\n",
    "geom_rect(xmin=1.5, xmax=5.5, ymin=0.5, ymax=4.5, color=\"black\", fill=PALETTE[1], alpha=0.05) +\n",
    "geom_rect(xmin=9.5, xmax=12.5, ymin=3.5, ymax=4.5, color=\"black\", fill=PALETTE[2], alpha=0.05) +\n",
    "geom_point(aes(x=x1, y=x2), data=data) +\n",
    "geom_text(aes(x=x1, y=x2, label=seq(1,6)), data=data) +\n",
    "geom_point(aes(x=x1, y=x2, color=row.names(centroid)), data=centroid) +\n",
    "labs(color=\"centroid\") + theme.legend_title"
   ]
  },
  {
   "cell_type": "code",
   "execution_count": 16,
   "metadata": {
    "hide_input": true
   },
   "outputs": [
    {
     "data": {
      "text/html": [
       "<table><tr><td style=\"background-color:white; vertical-align:top; padding-right:40px;\"><table>\n",
       "<caption><center><font color=\"black\"><b>data</b></font></center></caption>\n",
       " <thead>\n",
       "  <tr>\n",
       "   <th style=\"text-align:left;\">   </th>\n",
       "   <th style=\"text-align:right;\"> x1 </th>\n",
       "   <th style=\"text-align:right;\"> x2 </th>\n",
       "   <th style=\"text-align:right;\"> cluster </th>\n",
       "  </tr>\n",
       " </thead>\n",
       "<tbody>\n",
       "  <tr>\n",
       "   <td style=\"text-align:left;\"> 1 </td>\n",
       "   <td style=\"text-align:right;\"> 2 </td>\n",
       "   <td style=\"text-align:right;\"> 1 </td>\n",
       "   <td style=\"text-align:right;\"> A </td>\n",
       "  </tr>\n",
       "  <tr>\n",
       "   <td style=\"text-align:left;\"> 2 </td>\n",
       "   <td style=\"text-align:right;\"> 2 </td>\n",
       "   <td style=\"text-align:right;\"> 4 </td>\n",
       "   <td style=\"text-align:right;\"> A </td>\n",
       "  </tr>\n",
       "  <tr>\n",
       "   <td style=\"text-align:left;\"> 3 </td>\n",
       "   <td style=\"text-align:right;\"> 3 </td>\n",
       "   <td style=\"text-align:right;\"> 4 </td>\n",
       "   <td style=\"text-align:right;\"> A </td>\n",
       "  </tr>\n",
       "  <tr>\n",
       "   <td style=\"text-align:left;\"> 4 </td>\n",
       "   <td style=\"text-align:right;\"> 5 </td>\n",
       "   <td style=\"text-align:right;\"> 4 </td>\n",
       "   <td style=\"text-align:right;\"> A </td>\n",
       "  </tr>\n",
       "  <tr>\n",
       "   <td style=\"text-align:left;\"> 5 </td>\n",
       "   <td style=\"text-align:right;\"> 10 </td>\n",
       "   <td style=\"text-align:right;\"> 4 </td>\n",
       "   <td style=\"text-align:right;\"> B </td>\n",
       "  </tr>\n",
       "  <tr>\n",
       "   <td style=\"text-align:left;\"> 6 </td>\n",
       "   <td style=\"text-align:right;\"> 12 </td>\n",
       "   <td style=\"text-align:right;\"> 4 </td>\n",
       "   <td style=\"text-align:right;\"> B </td>\n",
       "  </tr>\n",
       "</tbody>\n",
       "</table></td><td style=\"background-color:white; vertical-align:top;\"><table>\n",
       "<caption><center><font color=\"black\"><b>centroid</b></font></center></caption>\n",
       " <thead>\n",
       "  <tr>\n",
       "   <th style=\"text-align:left;\">   </th>\n",
       "   <th style=\"text-align:right;\"> x1 </th>\n",
       "   <th style=\"text-align:right;\"> x2 </th>\n",
       "  </tr>\n",
       " </thead>\n",
       "<tbody>\n",
       "  <tr>\n",
       "   <td style=\"text-align:left;\"> A </td>\n",
       "   <td style=\"text-align:right;\"> 3 </td>\n",
       "   <td style=\"text-align:right;\"> 3.25 </td>\n",
       "  </tr>\n",
       "  <tr>\n",
       "   <td style=\"text-align:left;\"> B </td>\n",
       "   <td style=\"text-align:right;\"> 11 </td>\n",
       "   <td style=\"text-align:right;\"> 4.00 </td>\n",
       "  </tr>\n",
       "</tbody>\n",
       "</table></td></tr></table>"
      ]
     },
     "metadata": {},
     "output_type": "display_data"
    }
   ],
   "source": [
    "distance = data.frame(A=aaply(1:nrow(data), 1, function(i) as.numeric(dist(rbind(centroid[1,], data[i,1:2]), \"euclidean\"))),\n",
    "                      B=aaply(1:nrow(data), 1, function(i) as.numeric(dist(rbind(centroid[2,], data[i,1:2]), \"euclidean\"))))\n",
    "          \n",
    "row.arrange(data %>% captionx(row.names=TRUE), centroid %>% captionx(row.names=TRUE))"
   ]
  },
  {
   "cell_type": "markdown",
   "metadata": {},
   "source": [
    "**Step 4**"
   ]
  },
  {
   "cell_type": "markdown",
   "metadata": {},
   "source": [
    "Calculate distances from the observations to the centroids.  Assign each observation to the cluster associated with its nearest centroid.  Note that there is no change is cluster assignments."
   ]
  },
  {
   "cell_type": "code",
   "execution_count": 17,
   "metadata": {
    "hide_input": true,
    "scrolled": true
   },
   "outputs": [
    {
     "data": {
      "image/png": "[encoded data removed]",
      "text/plain": [
       "plot without title"
      ]
     },
     "metadata": {},
     "output_type": "display_data"
    }
   ],
   "source": [
    "output_size(6,2.5)\n",
    "ggplot(data) + xlim(0,13) + ylim(0, 5) +\n",
    "geom_rect(xmin=1.5, xmax=5.5, ymin=0.5, ymax=4.5, color=\"black\", fill=PALETTE[1], alpha=0.05) +\n",
    "geom_rect(xmin=9.5, xmax=12.5, ymin=3.5, ymax=4.5, color=\"black\", fill=PALETTE[2], alpha=0.05) +\n",
    "geom_point(aes(x=x1, y=x2), data=data) +\n",
    "geom_text(aes(x=x1, y=x2, label=seq(1,6)), data=data) +\n",
    "geom_point(aes(x=x1, y=x2, color=row.names(centroid)), data=centroid) +\n",
    "labs(color=\"centroid\") + theme.legend_title"
   ]
  },
  {
   "cell_type": "code",
   "execution_count": 18,
   "metadata": {
    "hide_input": true
   },
   "outputs": [
    {
     "data": {
      "text/html": [
       "<table><tr><td style=\"background-color:white; vertical-align:top; padding-right:40px;\"><table>\n",
       "<caption><center><font color=\"black\"><b>data</b></font></center></caption>\n",
       " <thead>\n",
       "  <tr>\n",
       "   <th style=\"text-align:left;\">   </th>\n",
       "   <th style=\"text-align:right;\"> x1 </th>\n",
       "   <th style=\"text-align:right;\"> x2 </th>\n",
       "   <th style=\"text-align:right;\"> cluster </th>\n",
       "  </tr>\n",
       " </thead>\n",
       "<tbody>\n",
       "  <tr>\n",
       "   <td style=\"text-align:left;\"> 1 </td>\n",
       "   <td style=\"text-align:right;\"> 2 </td>\n",
       "   <td style=\"text-align:right;\"> 1 </td>\n",
       "   <td style=\"text-align:right;\"> A </td>\n",
       "  </tr>\n",
       "  <tr>\n",
       "   <td style=\"text-align:left;\"> 2 </td>\n",
       "   <td style=\"text-align:right;\"> 2 </td>\n",
       "   <td style=\"text-align:right;\"> 4 </td>\n",
       "   <td style=\"text-align:right;\"> A </td>\n",
       "  </tr>\n",
       "  <tr>\n",
       "   <td style=\"text-align:left;\"> 3 </td>\n",
       "   <td style=\"text-align:right;\"> 3 </td>\n",
       "   <td style=\"text-align:right;\"> 4 </td>\n",
       "   <td style=\"text-align:right;\"> A </td>\n",
       "  </tr>\n",
       "  <tr>\n",
       "   <td style=\"text-align:left;\"> 4 </td>\n",
       "   <td style=\"text-align:right;\"> 5 </td>\n",
       "   <td style=\"text-align:right;\"> 4 </td>\n",
       "   <td style=\"text-align:right;\"> A </td>\n",
       "  </tr>\n",
       "  <tr>\n",
       "   <td style=\"text-align:left;\"> 5 </td>\n",
       "   <td style=\"text-align:right;\"> 10 </td>\n",
       "   <td style=\"text-align:right;\"> 4 </td>\n",
       "   <td style=\"text-align:right;\"> B </td>\n",
       "  </tr>\n",
       "  <tr>\n",
       "   <td style=\"text-align:left;\"> 6 </td>\n",
       "   <td style=\"text-align:right;\"> 12 </td>\n",
       "   <td style=\"text-align:right;\"> 4 </td>\n",
       "   <td style=\"text-align:right;\"> B </td>\n",
       "  </tr>\n",
       "</tbody>\n",
       "</table></td><td style=\"background-color:white; vertical-align:top; padding-right:40px;\"><table>\n",
       "<caption><center><font color=\"black\"><b>centroid</b></font></center></caption>\n",
       " <thead>\n",
       "  <tr>\n",
       "   <th style=\"text-align:left;\">   </th>\n",
       "   <th style=\"text-align:right;\"> x1 </th>\n",
       "   <th style=\"text-align:right;\"> x2 </th>\n",
       "  </tr>\n",
       " </thead>\n",
       "<tbody>\n",
       "  <tr>\n",
       "   <td style=\"text-align:left;\"> A </td>\n",
       "   <td style=\"text-align:right;\"> 3 </td>\n",
       "   <td style=\"text-align:right;\"> 3.25 </td>\n",
       "  </tr>\n",
       "  <tr>\n",
       "   <td style=\"text-align:left;\"> B </td>\n",
       "   <td style=\"text-align:right;\"> 11 </td>\n",
       "   <td style=\"text-align:right;\"> 4.00 </td>\n",
       "  </tr>\n",
       "</tbody>\n",
       "</table></td><td style=\"background-color:white; vertical-align:top;\"><table>\n",
       "<caption><center><font color=\"black\"><b>distance to centroid</b></font></center></caption>\n",
       " <thead>\n",
       "  <tr>\n",
       "   <th style=\"text-align:left;\">   </th>\n",
       "   <th style=\"text-align:right;\"> A </th>\n",
       "   <th style=\"text-align:right;\"> B </th>\n",
       "  </tr>\n",
       " </thead>\n",
       "<tbody>\n",
       "  <tr>\n",
       "   <td style=\"text-align:left;\"> 1 </td>\n",
       "   <td style=\"text-align:right;\"> 2.462214 </td>\n",
       "   <td style=\"text-align:right;\"> 9.486833 </td>\n",
       "  </tr>\n",
       "  <tr>\n",
       "   <td style=\"text-align:left;\"> 2 </td>\n",
       "   <td style=\"text-align:right;\"> 1.250000 </td>\n",
       "   <td style=\"text-align:right;\"> 9.000000 </td>\n",
       "  </tr>\n",
       "  <tr>\n",
       "   <td style=\"text-align:left;\"> 3 </td>\n",
       "   <td style=\"text-align:right;\"> 0.750000 </td>\n",
       "   <td style=\"text-align:right;\"> 8.000000 </td>\n",
       "  </tr>\n",
       "  <tr>\n",
       "   <td style=\"text-align:left;\"> 4 </td>\n",
       "   <td style=\"text-align:right;\"> 2.136001 </td>\n",
       "   <td style=\"text-align:right;\"> 6.000000 </td>\n",
       "  </tr>\n",
       "  <tr>\n",
       "   <td style=\"text-align:left;\"> 5 </td>\n",
       "   <td style=\"text-align:right;\"> 7.040064 </td>\n",
       "   <td style=\"text-align:right;\"> 1.000000 </td>\n",
       "  </tr>\n",
       "  <tr>\n",
       "   <td style=\"text-align:left;\"> 6 </td>\n",
       "   <td style=\"text-align:right;\"> 9.031196 </td>\n",
       "   <td style=\"text-align:right;\"> 1.000000 </td>\n",
       "  </tr>\n",
       "</tbody>\n",
       "</table></td></tr></table>"
      ]
     },
     "metadata": {},
     "output_type": "display_data"
    }
   ],
   "source": [
    "data$cluster = c(\"A\",\"A\",\"A\",\"A\",\"B\",\"B\")\n",
    "\n",
    "distance = data.frame(A=aaply(1:nrow(data), 1, function(i) as.numeric(dist(rbind(centroid[1,], data[i,1:2]), \"euclidean\"))),\n",
    "                      B=aaply(1:nrow(data), 1, function(i) as.numeric(dist(rbind(centroid[2,], data[i,1:2]), \"euclidean\"))))\n",
    "          \n",
    "row.arrange(data %>% captionx(row.names=TRUE),\n",
    "            centroid %>% captionx(row.names=TRUE),\n",
    "            distance %>% captionx(\"distance to centroid\", row.names=TRUE))"
   ]
  },
  {
   "cell_type": "markdown",
   "metadata": {},
   "source": [
    "### Commit Cluster Assignments"
   ]
  },
  {
   "cell_type": "code",
   "execution_count": 19,
   "metadata": {
    "hide_input": true,
    "scrolled": true
   },
   "outputs": [
    {
     "data": {
      "image/png": "[encoded data removed]",
      "text/plain": [
       "plot without title"
      ]
     },
     "metadata": {},
     "output_type": "display_data"
    }
   ],
   "source": [
    "output_size(6,2.5)\n",
    "ggplot() + xlim(0,13) + ylim(0, 5) +\n",
    "geom_point(aes(x=x1, y=x2, color=cluster), data=data) +\n",
    "theme.legend_title"
   ]
  },
  {
   "cell_type": "code",
   "execution_count": 20,
   "metadata": {
    "hide_input": true
   },
   "outputs": [
    {
     "data": {
      "text/html": [
       "<table>\n",
       "<caption><center><font color=\"black\"><b>data</b></font></center></caption>\n",
       " <thead>\n",
       "  <tr>\n",
       "   <th style=\"text-align:right;\"> x1 </th>\n",
       "   <th style=\"text-align:right;\"> x2 </th>\n",
       "   <th style=\"text-align:right;\"> cluster </th>\n",
       "  </tr>\n",
       " </thead>\n",
       "<tbody>\n",
       "  <tr>\n",
       "   <td style=\"text-align:right;\"> 2 </td>\n",
       "   <td style=\"text-align:right;\"> 1 </td>\n",
       "   <td style=\"text-align:right;\"> A </td>\n",
       "  </tr>\n",
       "  <tr>\n",
       "   <td style=\"text-align:right;\"> 2 </td>\n",
       "   <td style=\"text-align:right;\"> 4 </td>\n",
       "   <td style=\"text-align:right;\"> A </td>\n",
       "  </tr>\n",
       "  <tr>\n",
       "   <td style=\"text-align:right;\"> 3 </td>\n",
       "   <td style=\"text-align:right;\"> 4 </td>\n",
       "   <td style=\"text-align:right;\"> A </td>\n",
       "  </tr>\n",
       "  <tr>\n",
       "   <td style=\"text-align:right;\"> 5 </td>\n",
       "   <td style=\"text-align:right;\"> 4 </td>\n",
       "   <td style=\"text-align:right;\"> A </td>\n",
       "  </tr>\n",
       "  <tr>\n",
       "   <td style=\"text-align:right;\"> 10 </td>\n",
       "   <td style=\"text-align:right;\"> 4 </td>\n",
       "   <td style=\"text-align:right;\"> B </td>\n",
       "  </tr>\n",
       "  <tr>\n",
       "   <td style=\"text-align:right;\"> 12 </td>\n",
       "   <td style=\"text-align:right;\"> 4 </td>\n",
       "   <td style=\"text-align:right;\"> B </td>\n",
       "  </tr>\n",
       "</tbody>\n",
       "</table>"
      ]
     },
     "metadata": {},
     "output_type": "display_data"
    }
   ],
   "source": [
    "data %>% caption"
   ]
  },
  {
   "cell_type": "markdown",
   "metadata": {},
   "source": [
    "## Code"
   ]
  },
  {
   "cell_type": "markdown",
   "metadata": {},
   "source": [
    "### Useful Functions"
   ]
  },
  {
   "cell_type": "code",
   "execution_count": null,
   "metadata": {},
   "outputs": [],
   "source": []
  },
  {
   "cell_type": "markdown",
   "metadata": {},
   "source": [
    "### Templates"
   ]
  },
  {
   "cell_type": "code",
   "execution_count": null,
   "metadata": {},
   "outputs": [],
   "source": []
  },
  {
   "cell_type": "markdown",
   "metadata": {},
   "source": [
    "## Expectations\n",
    "\n",
    "Know about this:\n"
   ]
  },
  {
   "cell_type": "markdown",
   "metadata": {},
   "source": [
    "\n",
    "## Further Reading\n",
    "\n",
    "* http://shabal.in/visuals/kmeans/3.html"
   ]
  },
  {
   "cell_type": "markdown",
   "metadata": {},
   "source": [
    "<p style=\"text-align:left; font-size:10px;\">\n",
    "Copyright (c) Berkeley Data Analytics Group, LLC\n",
    "<span style=\"float:right;\">\n",
    "Document revised October 23, 2019\n",
    "</span>\n",
    "</p>"
   ]
  }
 ],
 "metadata": {
  "hide_code_all_hidden": false,
  "hide_input": true,
  "kernelspec": {
   "display_name": "R",
   "language": "R",
   "name": "ir"
  },
  "language_info": {
   "codemirror_mode": "r",
   "file_extension": ".r",
   "mimetype": "text/x-r-source",
   "name": "R",
   "pygments_lexer": "r",
   "version": "3.6.1"
  },
  "toc": {
   "base_numbering": 1,
   "nav_menu": {},
   "number_sections": true,
   "sideBar": true,
   "skip_h1_title": true,
   "title_cell": "Table of Contents",
   "title_sidebar": "Contents",
   "toc_cell": false,
   "toc_position": {},
   "toc_section_display": true,
   "toc_window_display": true
  }
 },
 "nbformat": 4,
 "nbformat_minor": 2
}

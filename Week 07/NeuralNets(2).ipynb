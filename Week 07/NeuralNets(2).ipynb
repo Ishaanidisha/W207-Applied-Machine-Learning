{
 "cells": [
  {
   "cell_type": "markdown",
   "metadata": {},
   "source": [
    "# Neural Networks (NN)\n",
    "\n",
    "NNs are a hot topic not only in academia but also in big tech comanies, such as Google, Facebook, Amazon, etc.<br>"
   ]
  },
  {
   "cell_type": "markdown",
   "metadata": {},
   "source": [
    "### Learning outcomes\n",
    "\n",
    "- real-world applications.\n",
    "- solving the wrong problem.\n",
    "- single- and multi-layer NN.\n",
    "- train a NN for handwritten image classification.\n",
    "- convolutional NN.\n",
    "- group activity (if time allows)."
   ]
  },
  {
   "cell_type": "markdown",
   "metadata": {},
   "source": [
    "### Part 1: Real-world applications\n",
    "\n",
    "[i] Facebook's DeepFace for tagging images <br>\n",
    "[source](https://en.wikipedia.org/wiki/DeepFace); [paper](https://www.cs.toronto.edu/~ranzato/publications/taigman_cvpr14.pdf)\n",
    "- a deep learning facial recognition system.\n",
    "- identifies human faces in digital images.\n",
    "- uses a nine-layer NN with over 120 million connection weights.\n",
    "- was trained on 4 million images uploaded by Facebook users.\n",
    "- Facebook's DeepFace method accuracy: 97.35% (compared with FBI's Next Generation Identification system: 85%).\n",
    "\n",
    "[ii] Skin cancer classification <br>\n",
    "[source](https://cs.stanford.edu/people/esteva/nature/); [paper](https://www.nature.com/articles/nature21056)\n",
    "- a deep learning system trained to classify images of skin lessions as benign lesions or malignant skin cancers.\n",
    "- achives the accuracy of board-certified dermatologists.\n",
    "- pretain a deep neural network at general object recognition.\n",
    "- fine-tuned it on a dataset of ~130,000 skin lesion images comprised of over 2,000 diseases.\n",
    "\n",
    "`Other examples`\n",
    "\n",
    "[iii] Learning how to drive in dense traffic from camera video streams <br>\n",
    "[source](https://www.youtube.com/watch?v=X2s7gy3wIYw); [paper](https://arxiv.org/abs/1901.02705)\n",
    "\n",
    "[iv] Google's neural machine translation <br>\n",
    "[source](https://en.wikipedia.org/wiki/Google_Neural_Machine_Translation); [paper](https://arxiv.org/abs/1609.08144)\n",
    "\n",
    "<br>"
   ]
  },
  {
   "cell_type": "markdown",
   "metadata": {},
   "source": [
    "### Part 2: Solving the wrong problem\n",
    "[source](https://physicsworld.com/a/neural-networks-explained/)\n",
    "\n",
    "[i] \"Roberto Novoa, a clinical dermatologist at Stanford University (re: part II, example (ii)), has described a time when he and his colleagues designed an algorithm to recognize skin cancer – only to discover that they’d accidentally designed a ruler detector instead, because the largest tumours had been photographed with rulers next to them for scale\". <br>\n",
    "\n",
    "[ii] \"Another group, this time at the University of Washington, demonstrated a deliberately bad algorithm that was, in theory, supposed to classify husky dogs and wolves, but actually functioned as a snow detector: they’d trained their algorithm with a dataset in which most of the wolf pictures had snowy backgrounds\"."
   ]
  },
  {
   "cell_type": "markdown",
   "metadata": {},
   "source": [
    "### Part 3: Basic concepts in NNs\n",
    "\n",
    "- single-layer NN: a single layer between the input and output nodes.\n",
    "- multi-layer NN: can add any number of hidden layers between between the input and output nodes.\n",
    "- artificial neurons represent the building blocks of the multi-layer NNs.\n",
    "- [a neat explanation of a basic multi-layer NN](https://www.youtube.com/watch?v=aircAruvnKk&t=1011s).\n"
   ]
  },
  {
   "cell_type": "markdown",
   "metadata": {},
   "source": [
    "### Part 4: Classifying handwritten digits"
   ]
  },
  {
   "cell_type": "markdown",
   "metadata": {},
   "source": [
    "[paper](http://yann.lecun.com/exdb/publis/pdf/lecun-01a.pdf); [source](https://www.packtpub.com/data/python-machine-learning-third-edition)\n",
    "\n",
    "We will implement single-layer and multi-layer NNs to clasify handwritten digits from the popular Mixed National Institute of Standards and Technology (MNIST) dataset.\n"
   ]
  },
  {
   "cell_type": "markdown",
   "metadata": {},
   "source": [
    "##### Step 1: Import packages\n",
    "\n",
    "We will introduce a new Python library, Theano, for working with NN. Theano is a popular choice for NN as the same code can be run on either CPUs or GPUs. GPUs greatly speed up the training and prediction, and is readily available. Amazon even offers GPU machines on EC2. \n",
    "\n",
    "If you'd like to go deeper into Theano, you may want to read this paper: http://www.iro.umontreal.ca/~lisa/pointeurs/theano_scipy2010.pdf\n",
    "\n",
    "Install Theano if you haven't already.  Then let's load it, and set it to work with a CPU.  For reference, here is the Theano documentation: http://www.deeplearning.net/software/theano/library/"
   ]
  },
  {
   "cell_type": "code",
   "execution_count": 1,
   "metadata": {},
   "outputs": [
    {
     "name": "stderr",
     "output_type": "stream",
     "text": [
      "WARNING (theano.configdefaults): g++ not available, if using conda: `conda install m2w64-toolchain`\n",
      "C:\\Users\\cilin\\AppData\\Local\\Continuum\\anaconda3\\lib\\site-packages\\theano\\configdefaults.py:560: UserWarning: DeprecationWarning: there is no c++ compiler.This is deprecated and with Theano 0.11 a c++ compiler will be mandatory\n",
      "  warnings.warn(\"DeprecationWarning: there is no c++ compiler.\"\n",
      "WARNING (theano.configdefaults): g++ not detected ! Theano will be unable to execute optimized C-implementations (for both CPU and GPU) and will default to Python implementations. Performance will be severely degraded. To remove this warning, set Theano flags cxx to an empty string.\n",
      "WARNING (theano.tensor.blas): Using NumPy C-API based implementation for BLAS functions.\n"
     ]
    },
    {
     "name": "stdout",
     "output_type": "stream",
     "text": [
      "cpu\n",
      "float64\n"
     ]
    }
   ],
   "source": [
    "from sklearn.datasets import fetch_openml\n",
    "from sklearn.model_selection import train_test_split\n",
    "from sklearn.metrics import classification_report\n",
    "from sklearn.neighbors import KNeighborsClassifier\n",
    "import matplotlib.pyplot as plt\n",
    "import pandas as pd\n",
    "import numpy as np\n",
    "import sys\n",
    "import time\n",
    "\n",
    "import theano \n",
    "from theano import tensor as T\n",
    "from theano.sandbox.rng_mrg import MRG_RandomStreams as RandomStreams\n",
    "from theano.tensor.nnet.conv import conv2d\n",
    "from theano.tensor.signal.pool import max_pool_2d_same_size as max_pool_2d\n",
    "print (theano.config.device )# We're using CPUs (for now)\n",
    "print (theano.config.floatX )# Should be 64 bit for CPUs\n",
    "\n",
    "%matplotlib inline"
   ]
  },
  {
   "cell_type": "markdown",
   "metadata": {},
   "source": [
    "##### Step 2: Define functions"
   ]
  },
  {
   "cell_type": "code",
   "execution_count": 3,
   "metadata": {},
   "outputs": [],
   "source": [
    "def _onehot(y, n_classes):\n",
    "    \"\"\"Encode labels into one-hot representation\n",
    "\n",
    "    Parameters\n",
    "    ------------\n",
    "    y : array, shape = [n_examples]\n",
    "        Target values.\n",
    "\n",
    "    Returns\n",
    "    -----------\n",
    "    onehot : array, shape = (n_examples, n_labels)\n",
    "\n",
    "    \"\"\"\n",
    "\n",
    "    onehot = np.zeros((n_classes, y.shape[0]))\n",
    "    for idx, val in enumerate(y.astype(int)):\n",
    "        onehot[val, idx] = 1.\n",
    "    return onehot.T"
   ]
  },
  {
   "cell_type": "markdown",
   "metadata": {},
   "source": [
    "your homework: comment the following functions following the example above"
   ]
  },
  {
   "cell_type": "code",
   "execution_count": 2,
   "metadata": {},
   "outputs": [],
   "source": [
    "def print_min_max(dat):\n",
    "    \"\"\"\n",
    "    \n",
    "    \"\"\"\n",
    "    print(dat.min())\n",
    "    print(dat.max())"
   ]
  },
  {
   "cell_type": "code",
   "execution_count": 4,
   "metadata": {},
   "outputs": [],
   "source": [
    "def model_1(X, w):\n",
    "    \"\"\"\n",
    "    \n",
    "    \"\"\"\n",
    "    return T.nnet.softmax(T.dot(X, w))"
   ]
  },
  {
   "cell_type": "code",
   "execution_count": 5,
   "metadata": {},
   "outputs": [],
   "source": [
    "def model_2(X, w_1, w_2):\n",
    "    \"\"\"\n",
    "    \n",
    "    \"\"\"\n",
    "    return T.nnet.softmax(T.dot(T.nnet.sigmoid(T.dot(X, w_1)), w_2))"
   ]
  },
  {
   "cell_type": "code",
   "execution_count": 6,
   "metadata": {},
   "outputs": [],
   "source": [
    "def model_3(X, w_1, w_2, w_3):\n",
    "    \"\"\"\n",
    "    \n",
    "    \"\"\"\n",
    "    return T.nnet.softmax(T.dot(T.nnet.sigmoid(T.dot(T.nnet.sigmoid(T.dot(X, w_1)), w_2)), w_3))"
   ]
  },
  {
   "cell_type": "code",
   "execution_count": 7,
   "metadata": {},
   "outputs": [],
   "source": [
    "def model_rectifier(X, w_1, w_2):\n",
    "    \"\"\"\n",
    "    \n",
    "    \"\"\"\n",
    "    return T.nnet.softmax(T.dot(T.maximum(T.dot(X, w_1), 0.), w_2))"
   ]
  },
  {
   "cell_type": "code",
   "execution_count": 8,
   "metadata": {},
   "outputs": [],
   "source": [
    "def model_dropout_1(X, w_1, w_2, p_1, p_2):\n",
    "    \"\"\"\n",
    "    \n",
    "    \"\"\"\n",
    "    return T.nnet.softmax(T.dot(dropout(T.maximum(T.dot(dropout(X, p_1), w_1),0.), p_2), w_2))"
   ]
  },
  {
   "cell_type": "code",
   "execution_count": 9,
   "metadata": {},
   "outputs": [],
   "source": [
    "def model_dropout_2(X, w_1, w_2, w_3, p_1, p_2, p_3):\n",
    "    \"\"\"\n",
    "    \n",
    "    \"\"\"\n",
    "    return T.nnet.softmax(T.dot(dropout(T.maximum(T.dot(dropout(T.maximum(T.dot(dropout(X, p_1), w_1),0.), p_2), w_2),0.), p_3), w_3))"
   ]
  },
  {
   "cell_type": "code",
   "execution_count": 10,
   "metadata": {},
   "outputs": [],
   "source": [
    "# Theano provides built-in support for add convolutional layers\n",
    "def model_convonet(X, w_1, w_2, w_3, w_4, w_5, p_1, p_2):\n",
    "    \"\"\"\n",
    "    \n",
    "    \"\"\"\n",
    "    l1 = dropout(max_pool_2d(T.maximum(conv2d(X, w_1, border_mode='full'),0.), (2, 2)), p_1)\n",
    "    l2 = dropout(max_pool_2d(T.maximum(conv2d(l1, w_2), 0.), (2, 2)), p_1)\n",
    "    l3 = dropout(T.flatten(max_pool_2d(T.maximum(conv2d(l2, w_3), 0.), (2, 2)), outdim=2), p_1) # flatten to switch back to 1d layers\n",
    "    l4 = dropout(T.maximum(T.dot(l3, w_4), 0.), p_2)\n",
    "    return T.nnet.softmax(T.dot(l4, w_5))"
   ]
  },
  {
   "cell_type": "code",
   "execution_count": 11,
   "metadata": {},
   "outputs": [],
   "source": [
    "def dropout(X, p=0.):\n",
    "    \"\"\"\n",
    "    \n",
    "    \"\"\"\n",
    "    if p > 0:\n",
    "        X *= srng.binomial(X.shape, p=1 - p)\n",
    "        X /= 1 - p\n",
    "    return X"
   ]
  },
  {
   "cell_type": "code",
   "execution_count": 12,
   "metadata": {},
   "outputs": [],
   "source": [
    "def gradientDescentBatch(epochs):\n",
    "    \"\"\"\n",
    "    \n",
    "    \"\"\"\n",
    "    trainTime = 0.0\n",
    "    predictTime = 0.0\n",
    "    for i in range(epochs):\n",
    "        start_time = time.time()\n",
    "        cost = train(X_train[0:len(X_train)], y_train_b[0:len(X_train)])\n",
    "        trainTime =  trainTime + (time.time() - start_time)\n",
    "        print ('%d) accuracy = %.4f' %(i+1, np.mean(np.argmax(y_test_b, axis=1) == predict(X_test))))\n",
    "    print ('train time = %.2f' %(trainTime))"
   ]
  },
  {
   "cell_type": "code",
   "execution_count": 13,
   "metadata": {},
   "outputs": [],
   "source": [
    "def gradientDescentStochastic(epochs):\n",
    "    \"\"\"\n",
    "    \n",
    "    \"\"\"\n",
    "    trainTime = 0.0\n",
    "    predictTime = 0.0\n",
    "    start_time = time.time()\n",
    "    for i in range(epochs):       \n",
    "        for start, end in zip(range(0, len(X_train), miniBatchSize), range(miniBatchSize, len(X_train), miniBatchSize)):\n",
    "            cost = train(X_train[start:end], y_train_b[start:end])\n",
    "        trainTime =  trainTime + (time.time() - start_time)\n",
    "        print ('%d) accuracy = %.4f' %(i+1, np.mean(np.argmax(y_test_b, axis=1) == predict(X_test)))  )   \n",
    "    print ('train time = %.2f' %(trainTime))"
   ]
  },
  {
   "cell_type": "code",
   "execution_count": 14,
   "metadata": {},
   "outputs": [],
   "source": [
    "def backprop(cost, w):\n",
    "    \"\"\"\n",
    "    \n",
    "    \"\"\"\n",
    "    grads = T.grad(cost=cost, wrt=w)\n",
    "    updates = []\n",
    "    for w1, grad in zip(w, grads):\n",
    "        updates.append([w1, w1 - grad * alpha])\n",
    "    return updates"
   ]
  },
  {
   "cell_type": "code",
   "execution_count": 15,
   "metadata": {},
   "outputs": [],
   "source": [
    "def backprop_convonet(cost, w, alpha=0.001, rho=0.9, epsilon=1e-6):\n",
    "    \"\"\"\n",
    "    \n",
    "    \"\"\"\n",
    "    grads = T.grad(cost=cost, wrt=w)\n",
    "    updates = []\n",
    "    for w1, grad in zip(w, grads):\n",
    "        \n",
    "        # adding gradient scaling\n",
    "        acc = theano.shared(w1.get_value() * 0.)\n",
    "        acc_new = rho * acc + (1 - rho) * grad ** 2\n",
    "        gradient_scaling = T.sqrt(acc_new + epsilon)\n",
    "        grad = grad / gradient_scaling\n",
    "        updates.append((acc, acc_new))\n",
    "        \n",
    "        updates.append((w1, w1 - grad * alpha))\n",
    "    return updates"
   ]
  },
  {
   "cell_type": "markdown",
   "metadata": {},
   "source": [
    "##### Step 3: Read the MNIST dataset from the sklearn package\n",
    "\n",
    "The images in the MNIST dataset consist of 28 × 28 pixels. The first array returned by the fetch_openml function contains the 28 x 28 pixel images unrolled into 784 one-dimensional row vectors. The second array contains the the class labels (integers 0-9) of the handwritten digits."
   ]
  },
  {
   "cell_type": "code",
   "execution_count": 16,
   "metadata": {},
   "outputs": [
    {
     "name": "stdout",
     "output_type": "stream",
     "text": [
      "(70000, 784)\n",
      "(70000,)\n"
     ]
    }
   ],
   "source": [
    "X, y = fetch_openml(\"mnist_784\", version=1, return_X_y=True)\n",
    "\n",
    "y = y.astype(int)\n",
    "print(X.shape)\n",
    "print(y.shape)"
   ]
  },
  {
   "cell_type": "markdown",
   "metadata": {},
   "source": [
    "Gradient-based optimization is much more stable under normalization, thus we want to normalize the pixel values in MNIST to the range -1 to 1 (originally 0 to 255)."
   ]
  },
  {
   "cell_type": "code",
   "execution_count": 17,
   "metadata": {},
   "outputs": [
    {
     "name": "stdout",
     "output_type": "stream",
     "text": [
      "Pixel range before normalization\n",
      "0.0\n",
      "255.0\n",
      "Pixel range after normalization\n",
      "-1.0\n",
      "1.0\n"
     ]
    }
   ],
   "source": [
    "print(\"Pixel range before normalization\")\n",
    "print_min_max(X)\n",
    "\n",
    "print(\"Pixel range after normalization\")\n",
    "X = ((X / 255.0) - .5) * 2\n",
    "print_min_max(X)"
   ]
  },
  {
   "cell_type": "markdown",
   "metadata": {},
   "source": [
    "We now create our training and test datasets. Let's cut the data for now, will make it easier to work with it. We will keep only 2,400 images."
   ]
  },
  {
   "cell_type": "code",
   "execution_count": 18,
   "metadata": {},
   "outputs": [
    {
     "name": "stdout",
     "output_type": "stream",
     "text": [
      "(2000, 784)\n",
      "(400, 784)\n",
      "(2000,)\n",
      "(400,)\n"
     ]
    }
   ],
   "source": [
    "shuffle = np.random.permutation(np.arange(2400))\n",
    "X, y = X[shuffle], y[shuffle]\n",
    "\n",
    "X_train, X_test, y_train, y_test = \\\n",
    "    train_test_split(\n",
    "        X, y, test_size=400, \n",
    "        random_state=123, stratify=y)\n",
    "\n",
    "print(X_train.shape)\n",
    "print(X_test.shape)\n",
    "print(y_train.shape)\n",
    "print(y_test.shape)"
   ]
  },
  {
   "cell_type": "markdown",
   "metadata": {},
   "source": [
    "Let's now get an idea of how the images (digits 0-9) in the MNIST dataset look like."
   ]
  },
  {
   "cell_type": "code",
   "execution_count": 19,
   "metadata": {},
   "outputs": [
    {
     "data": {
      "image/png": "[encoded data removed]",
      "text/plain": [
       "<Figure size 432x288 with 10 Axes>"
      ]
     },
     "metadata": {},
     "output_type": "display_data"
    }
   ],
   "source": [
    "fig, ax = plt.subplots(nrows=2, ncols=5, sharex=True, sharey=True)\n",
    "ax = ax.flatten()\n",
    "for i in range(10):\n",
    "    img = X_train[y_train == i][0].reshape(28, 28)\n",
    "    ax[i].imshow(img, cmap='Greys')\n",
    "\n",
    "ax[0].set_xticks([])\n",
    "ax[0].set_yticks([])\n",
    "plt.tight_layout()\n",
    "plt.show()"
   ]
  },
  {
   "cell_type": "markdown",
   "metadata": {},
   "source": [
    "Let's also plot multiple examples of the same digit to see how different the handwritting for each really is"
   ]
  },
  {
   "cell_type": "code",
   "execution_count": 20,
   "metadata": {},
   "outputs": [
    {
     "data": {
      "image/png": "[encoded data removed]",
      "text/plain": [
       "<Figure size 432x288 with 25 Axes>"
      ]
     },
     "metadata": {},
     "output_type": "display_data"
    }
   ],
   "source": [
    "fig, ax = plt.subplots(nrows=5, ncols=5, sharex=True, sharey=True,)\n",
    "ax = ax.flatten()\n",
    "for i in range(25):\n",
    "    img = X_train[y_train == 7][i].reshape(28, 28)\n",
    "    ax[i].imshow(img, cmap='Greys')\n",
    "\n",
    "ax[0].set_xticks([])\n",
    "ax[0].set_yticks([])\n",
    "plt.tight_layout()\n",
    "plt.show()"
   ]
  },
  {
   "cell_type": "markdown",
   "metadata": {},
   "source": [
    "##### Step 4: Implementing a single-layer NN \n",
    "Let's prepare a variation of the label data.  Let's make these labels, rather than each being an integer value from 0-9, be a set of 10 binary values, one for each class.  This is sometimes called a 1-of-n encoding, and it makes working with NN easier, as there will be one output node for each class."
   ]
  },
  {
   "cell_type": "code",
   "execution_count": 21,
   "metadata": {},
   "outputs": [
    {
     "data": {
      "text/html": [
       "<div>\n",
       "<style scoped>\n",
       "    .dataframe tbody tr th:only-of-type {\n",
       "        vertical-align: middle;\n",
       "    }\n",
       "\n",
       "    .dataframe tbody tr th {\n",
       "        vertical-align: top;\n",
       "    }\n",
       "\n",
       "    .dataframe thead th {\n",
       "        text-align: right;\n",
       "    }\n",
       "</style>\n",
       "<table border=\"1\" class=\"dataframe\">\n",
       "  <thead>\n",
       "    <tr style=\"text-align: right;\">\n",
       "      <th></th>\n",
       "      <th>0</th>\n",
       "      <th>1</th>\n",
       "      <th>2</th>\n",
       "      <th>3</th>\n",
       "      <th>4</th>\n",
       "      <th>5</th>\n",
       "      <th>6</th>\n",
       "      <th>7</th>\n",
       "      <th>8</th>\n",
       "      <th>9</th>\n",
       "    </tr>\n",
       "  </thead>\n",
       "  <tbody>\n",
       "    <tr>\n",
       "      <th>0</th>\n",
       "      <td>0.0</td>\n",
       "      <td>0.0</td>\n",
       "      <td>0.0</td>\n",
       "      <td>1.0</td>\n",
       "      <td>0.0</td>\n",
       "      <td>0.0</td>\n",
       "      <td>0.0</td>\n",
       "      <td>0.0</td>\n",
       "      <td>0.0</td>\n",
       "      <td>0.0</td>\n",
       "    </tr>\n",
       "    <tr>\n",
       "      <th>1</th>\n",
       "      <td>0.0</td>\n",
       "      <td>0.0</td>\n",
       "      <td>0.0</td>\n",
       "      <td>0.0</td>\n",
       "      <td>1.0</td>\n",
       "      <td>0.0</td>\n",
       "      <td>0.0</td>\n",
       "      <td>0.0</td>\n",
       "      <td>0.0</td>\n",
       "      <td>0.0</td>\n",
       "    </tr>\n",
       "    <tr>\n",
       "      <th>2</th>\n",
       "      <td>0.0</td>\n",
       "      <td>0.0</td>\n",
       "      <td>0.0</td>\n",
       "      <td>0.0</td>\n",
       "      <td>1.0</td>\n",
       "      <td>0.0</td>\n",
       "      <td>0.0</td>\n",
       "      <td>0.0</td>\n",
       "      <td>0.0</td>\n",
       "      <td>0.0</td>\n",
       "    </tr>\n",
       "    <tr>\n",
       "      <th>3</th>\n",
       "      <td>0.0</td>\n",
       "      <td>0.0</td>\n",
       "      <td>0.0</td>\n",
       "      <td>0.0</td>\n",
       "      <td>0.0</td>\n",
       "      <td>0.0</td>\n",
       "      <td>0.0</td>\n",
       "      <td>1.0</td>\n",
       "      <td>0.0</td>\n",
       "      <td>0.0</td>\n",
       "    </tr>\n",
       "    <tr>\n",
       "      <th>4</th>\n",
       "      <td>0.0</td>\n",
       "      <td>0.0</td>\n",
       "      <td>0.0</td>\n",
       "      <td>0.0</td>\n",
       "      <td>0.0</td>\n",
       "      <td>0.0</td>\n",
       "      <td>0.0</td>\n",
       "      <td>0.0</td>\n",
       "      <td>0.0</td>\n",
       "      <td>1.0</td>\n",
       "    </tr>\n",
       "  </tbody>\n",
       "</table>\n",
       "</div>"
      ],
      "text/plain": [
       "     0    1    2    3    4    5    6    7    8    9\n",
       "0  0.0  0.0  0.0  1.0  0.0  0.0  0.0  0.0  0.0  0.0\n",
       "1  0.0  0.0  0.0  0.0  1.0  0.0  0.0  0.0  0.0  0.0\n",
       "2  0.0  0.0  0.0  0.0  1.0  0.0  0.0  0.0  0.0  0.0\n",
       "3  0.0  0.0  0.0  0.0  0.0  0.0  0.0  1.0  0.0  0.0\n",
       "4  0.0  0.0  0.0  0.0  0.0  0.0  0.0  0.0  0.0  1.0"
      ]
     },
     "execution_count": 21,
     "metadata": {},
     "output_type": "execute_result"
    }
   ],
   "source": [
    "n_classes = 10\n",
    "y_train_b = _onehot(y_train, n_classes)\n",
    "y_test_b = _onehot(y_test, n_classes)\n",
    "\n",
    "# temporary transformation to df for visualization purposes\n",
    "temp = pd.DataFrame(y_train_b)\n",
    "temp.head()"
   ]
  },
  {
   "cell_type": "markdown",
   "metadata": {},
   "source": [
    "Lets start with a KNN model to establish a baseline accuracy.\n",
    "\n",
    "Exercise: You've seen a number of different classification algorithms (e.g. naive bayes, decision trees, random forests, logistic regression) at this point.  How does KNN scalability and accuracy with respect to the size of the training dataset compare to those other algorithms?  "
   ]
  },
  {
   "cell_type": "code",
   "execution_count": 22,
   "metadata": {},
   "outputs": [
    {
     "name": "stdout",
     "output_type": "stream",
     "text": [
      "Train time = 0.05\n",
      "Accuracy = 0.9025\n",
      "Prediction time = 0.92\n"
     ]
    }
   ],
   "source": [
    "neighbors = 1\n",
    "\n",
    "knn = KNeighborsClassifier(neighbors)\n",
    "start_time = time.time()\n",
    "knn.fit(X_train, y_train)\n",
    "print ('Train time = %.2f' %(time.time() - start_time))\n",
    "\n",
    "start_time = time.time()\n",
    "accuracy = knn.score(X_test, y_test)\n",
    "print ('Accuracy = %.4f' %(accuracy))\n",
    "print ('Prediction time = %.2f' %(time.time() - start_time))"
   ]
  },
  {
   "cell_type": "markdown",
   "metadata": {},
   "source": [
    "Alright, now that we have a simple baseline, let's start working in Theano. Before we jump to multi-layer neural networks though, let's train a **logistic regression** model to make certain we're using Theano correctly. <br>\n",
    "Recall from Josh's regression lecture the four key components: (1) parameters, (2) model, (3) cost function, and (4) objective. "
   ]
  },
  {
   "cell_type": "code",
   "execution_count": 23,
   "metadata": {},
   "outputs": [
    {
     "name": "stdout",
     "output_type": "stream",
     "text": [
      "(784, 10)\n"
     ]
    },
    {
     "data": {
      "text/html": [
       "<div>\n",
       "<style scoped>\n",
       "    .dataframe tbody tr th:only-of-type {\n",
       "        vertical-align: middle;\n",
       "    }\n",
       "\n",
       "    .dataframe tbody tr th {\n",
       "        vertical-align: top;\n",
       "    }\n",
       "\n",
       "    .dataframe thead th {\n",
       "        text-align: right;\n",
       "    }\n",
       "</style>\n",
       "<table border=\"1\" class=\"dataframe\">\n",
       "  <thead>\n",
       "    <tr style=\"text-align: right;\">\n",
       "      <th></th>\n",
       "      <th>0</th>\n",
       "      <th>1</th>\n",
       "      <th>2</th>\n",
       "      <th>3</th>\n",
       "      <th>4</th>\n",
       "      <th>5</th>\n",
       "      <th>6</th>\n",
       "      <th>7</th>\n",
       "      <th>8</th>\n",
       "      <th>9</th>\n",
       "    </tr>\n",
       "  </thead>\n",
       "  <tbody>\n",
       "    <tr>\n",
       "      <th>0</th>\n",
       "      <td>0.006061</td>\n",
       "      <td>0.020094</td>\n",
       "      <td>-0.000370</td>\n",
       "      <td>-0.008102</td>\n",
       "      <td>0.017610</td>\n",
       "      <td>0.012713</td>\n",
       "      <td>-0.016785</td>\n",
       "      <td>0.003765</td>\n",
       "      <td>0.010361</td>\n",
       "      <td>-0.004268</td>\n",
       "    </tr>\n",
       "    <tr>\n",
       "      <th>1</th>\n",
       "      <td>-0.000548</td>\n",
       "      <td>-0.003430</td>\n",
       "      <td>-0.006102</td>\n",
       "      <td>-0.000695</td>\n",
       "      <td>0.007819</td>\n",
       "      <td>0.005506</td>\n",
       "      <td>-0.001824</td>\n",
       "      <td>0.001600</td>\n",
       "      <td>-0.027041</td>\n",
       "      <td>0.003832</td>\n",
       "    </tr>\n",
       "    <tr>\n",
       "      <th>2</th>\n",
       "      <td>0.001560</td>\n",
       "      <td>-0.003618</td>\n",
       "      <td>-0.003434</td>\n",
       "      <td>0.003011</td>\n",
       "      <td>-0.005941</td>\n",
       "      <td>0.000814</td>\n",
       "      <td>-0.008698</td>\n",
       "      <td>0.002247</td>\n",
       "      <td>0.012093</td>\n",
       "      <td>-0.001569</td>\n",
       "    </tr>\n",
       "    <tr>\n",
       "      <th>3</th>\n",
       "      <td>0.001172</td>\n",
       "      <td>0.000248</td>\n",
       "      <td>0.002776</td>\n",
       "      <td>0.007061</td>\n",
       "      <td>-0.002175</td>\n",
       "      <td>-0.011460</td>\n",
       "      <td>0.003106</td>\n",
       "      <td>-0.005588</td>\n",
       "      <td>0.000177</td>\n",
       "      <td>0.001883</td>\n",
       "    </tr>\n",
       "    <tr>\n",
       "      <th>4</th>\n",
       "      <td>0.005020</td>\n",
       "      <td>0.011772</td>\n",
       "      <td>-0.015234</td>\n",
       "      <td>0.010951</td>\n",
       "      <td>-0.001272</td>\n",
       "      <td>0.008149</td>\n",
       "      <td>0.011437</td>\n",
       "      <td>0.013174</td>\n",
       "      <td>-0.007232</td>\n",
       "      <td>-0.010999</td>\n",
       "    </tr>\n",
       "  </tbody>\n",
       "</table>\n",
       "</div>"
      ],
      "text/plain": [
       "          0         1         2         3         4         5         6  \\\n",
       "0  0.006061  0.020094 -0.000370 -0.008102  0.017610  0.012713 -0.016785   \n",
       "1 -0.000548 -0.003430 -0.006102 -0.000695  0.007819  0.005506 -0.001824   \n",
       "2  0.001560 -0.003618 -0.003434  0.003011 -0.005941  0.000814 -0.008698   \n",
       "3  0.001172  0.000248  0.002776  0.007061 -0.002175 -0.011460  0.003106   \n",
       "4  0.005020  0.011772 -0.015234  0.010951 -0.001272  0.008149  0.011437   \n",
       "\n",
       "          7         8         9  \n",
       "0  0.003765  0.010361 -0.004268  \n",
       "1  0.001600 -0.027041  0.003832  \n",
       "2  0.002247  0.012093 -0.001569  \n",
       "3 -0.005588  0.000177  0.001883  \n",
       "4  0.013174 -0.007232 -0.010999  "
      ]
     },
     "execution_count": 23,
     "metadata": {},
     "output_type": "execute_result"
    }
   ],
   "source": [
    "## (1) Parameters \n",
    "# Initialize the weights to small, but non-zero, values.\n",
    "num_features = X_train[1].size\n",
    "num_classes = y_train_b[1].size\n",
    "w = theano.shared(np.asarray((np.random.randn(*(num_features, num_classes))*.01)))\n",
    "\n",
    "# temporary transformation to df for visualization purposes\n",
    "temp = pd.DataFrame(w.eval())\n",
    "print(temp.shape)\n",
    "temp.head()"
   ]
  },
  {
   "cell_type": "markdown",
   "metadata": {},
   "source": [
    "Two notes relevant at this point: <br>\n",
    "\n",
    "First, logistic regression can be thought of as a neural network with no hidden layers. The output values are just the dot product of the inputs and the edge weights. <br>\n",
    "\n",
    "Second, we have 10 classes. We can either train separate one vs all classifiers using sigmoid activation, which would be a hassle, or we can use the **softmax activation**, which is essentially a multi-class version of sigmoid. We'll use Theano's built-in implementation of softmax."
   ]
  },
  {
   "cell_type": "code",
   "execution_count": 25,
   "metadata": {},
   "outputs": [],
   "source": [
    "## (2) Model\n",
    "# Theano objects accessed with standard Python variables\n",
    "X = T.matrix()\n",
    "y = T.matrix()\n",
    "\n",
    "# label prediction\n",
    "y_hat = model_1(X, w)"
   ]
  },
  {
   "cell_type": "markdown",
   "metadata": {},
   "source": [
    "We'll use **cross-entropy** (a.k.a, log loss) as a cost function.  Cross-entropy only considers the error between the true class and the prediction, and not the errors for the false classes.  This tends to cause the network to converge faster.  We'll use Theano's built-in cross entropy function."
   ]
  },
  {
   "cell_type": "code",
   "execution_count": 26,
   "metadata": {},
   "outputs": [],
   "source": [
    "## (3) Cost function\n",
    "cost = T.mean(T.nnet.categorical_crossentropy(y_hat, y))"
   ]
  },
  {
   "cell_type": "markdown",
   "metadata": {},
   "source": [
    "The objective is minimize the cost, and to do that we'll use **batch gradient descent**.\n",
    "\n",
    "Exercise: What are the differences between batch, stochastic, and mini-batch gradient descent?  What are the implications of each for working on large datasets?\n",
    "\n",
    "We'll use Theano's built-in gradient function.  Exercise: Do you recall from Josh's lecture what the gradient is for beta in logistic regression?"
   ]
  },
  {
   "cell_type": "code",
   "execution_count": 27,
   "metadata": {},
   "outputs": [
    {
     "name": "stdout",
     "output_type": "stream",
     "text": [
      "1) accuracy = 0.1825\n",
      "2) accuracy = 0.3225\n",
      "3) accuracy = 0.3925\n",
      "4) accuracy = 0.4300\n",
      "5) accuracy = 0.4650\n",
      "6) accuracy = 0.4975\n",
      "7) accuracy = 0.5400\n",
      "8) accuracy = 0.5775\n",
      "9) accuracy = 0.6050\n",
      "10) accuracy = 0.6225\n",
      "11) accuracy = 0.6425\n",
      "12) accuracy = 0.6625\n",
      "13) accuracy = 0.6650\n",
      "14) accuracy = 0.6825\n",
      "15) accuracy = 0.6850\n",
      "16) accuracy = 0.6975\n",
      "17) accuracy = 0.7025\n",
      "18) accuracy = 0.7150\n",
      "19) accuracy = 0.7200\n",
      "20) accuracy = 0.7225\n",
      "21) accuracy = 0.7250\n",
      "22) accuracy = 0.7300\n",
      "23) accuracy = 0.7350\n",
      "24) accuracy = 0.7350\n",
      "25) accuracy = 0.7375\n",
      "26) accuracy = 0.7450\n",
      "27) accuracy = 0.7500\n",
      "28) accuracy = 0.7500\n",
      "29) accuracy = 0.7525\n",
      "30) accuracy = 0.7550\n",
      "31) accuracy = 0.7550\n",
      "32) accuracy = 0.7575\n",
      "33) accuracy = 0.7625\n",
      "34) accuracy = 0.7650\n",
      "35) accuracy = 0.7700\n",
      "36) accuracy = 0.7725\n",
      "37) accuracy = 0.7725\n",
      "38) accuracy = 0.7750\n",
      "39) accuracy = 0.7775\n",
      "40) accuracy = 0.7800\n",
      "41) accuracy = 0.7825\n",
      "42) accuracy = 0.7850\n",
      "43) accuracy = 0.7875\n",
      "44) accuracy = 0.7875\n",
      "45) accuracy = 0.7875\n",
      "46) accuracy = 0.7900\n",
      "47) accuracy = 0.7900\n",
      "48) accuracy = 0.7925\n",
      "49) accuracy = 0.7925\n",
      "50) accuracy = 0.7975\n",
      "train time = 15.50\n",
      "predict time = 0.00\n"
     ]
    }
   ],
   "source": [
    "## (4) Objective (and solver)\n",
    "\n",
    "alpha = 0.01\n",
    "gradient = T.grad(cost=cost, wrt=w) \n",
    "update = [[w, w - gradient * alpha]] \n",
    "train = theano.function(inputs=[X, y], outputs=cost, updates=update, allow_input_downcast=True) # computes cost, then runs update\n",
    "y_pred = T.argmax(y_hat, axis=1) # select largest probability as prediction\n",
    "predict = theano.function(inputs=[X], outputs=y_pred, allow_input_downcast=True)\n",
    "\n",
    "# run batch gradient descent\n",
    "gradientDescentBatch(50)\n",
    "\n",
    "start_time = time.time()\n",
    "predict(X_test)   \n",
    "print ('predict time = %.2f' %(time.time() - start_time))"
   ]
  },
  {
   "cell_type": "markdown",
   "metadata": {},
   "source": [
    "Exercise:  What do you expect to happen if we convert batch gradient descent to stochastic gradient descent?  Why?\n",
    "\n",
    "Let's try it..."
   ]
  },
  {
   "cell_type": "code",
   "execution_count": 28,
   "metadata": {},
   "outputs": [
    {
     "name": "stdout",
     "output_type": "stream",
     "text": [
      "(784, 10)\n",
      "1) accuracy = 0.7875\n",
      "2) accuracy = 0.8300\n",
      "3) accuracy = 0.8775\n",
      "4) accuracy = 0.8725\n",
      "5) accuracy = 0.8550\n",
      "6) accuracy = 0.8750\n",
      "7) accuracy = 0.8650\n",
      "8) accuracy = 0.8625\n",
      "9) accuracy = 0.8600\n",
      "10) accuracy = 0.8600\n",
      "11) accuracy = 0.8500\n",
      "12) accuracy = 0.8625\n",
      "13) accuracy = 0.8600\n",
      "14) accuracy = 0.8600\n",
      "15) accuracy = 0.8575\n",
      "16) accuracy = 0.8525\n",
      "17) accuracy = 0.8625\n",
      "18) accuracy = 0.8650\n",
      "19) accuracy = 0.8625\n",
      "20) accuracy = 0.8600\n",
      "21) accuracy = 0.8575\n",
      "22) accuracy = 0.8600\n",
      "23) accuracy = 0.8625\n",
      "24) accuracy = 0.8625\n",
      "25) accuracy = 0.8625\n",
      "26) accuracy = 0.8625\n",
      "27) accuracy = 0.8650\n",
      "28) accuracy = 0.8650\n",
      "29) accuracy = 0.8675\n",
      "30) accuracy = 0.8675\n",
      "31) accuracy = 0.8625\n",
      "32) accuracy = 0.8625\n",
      "33) accuracy = 0.8650\n",
      "34) accuracy = 0.8650\n",
      "35) accuracy = 0.8675\n",
      "36) accuracy = 0.8675\n",
      "37) accuracy = 0.8675\n",
      "38) accuracy = 0.8675\n",
      "39) accuracy = 0.8675\n",
      "40) accuracy = 0.8700\n",
      "41) accuracy = 0.8700\n",
      "42) accuracy = 0.8700\n",
      "43) accuracy = 0.8700\n",
      "44) accuracy = 0.8700\n",
      "45) accuracy = 0.8700\n",
      "46) accuracy = 0.8700\n",
      "47) accuracy = 0.8725\n",
      "48) accuracy = 0.8725\n",
      "49) accuracy = 0.8725\n",
      "50) accuracy = 0.8700\n",
      "train time = 1113.36\n",
      "predict time = 0.00\n"
     ]
    }
   ],
   "source": [
    "## (1) Parameters \n",
    "# Initialize the weights to small, but non-zero, values.\n",
    "num_features = X_train[1].size\n",
    "num_classes = y_train_b[1].size\n",
    "w = theano.shared(np.asarray((np.random.randn(*(num_features, num_classes))*.01)))\n",
    "\n",
    "# temporary transformation to df for visualization purposes\n",
    "temp = pd.DataFrame(w.eval())\n",
    "print(temp.shape)\n",
    "temp.head()\n",
    "\n",
    "\n",
    "## (2) Model\n",
    "# Theano objects accessed with standard Python variables\n",
    "X = T.matrix()\n",
    "y = T.matrix()\n",
    "\n",
    "# label prediction\n",
    "y_hat = model_1(X, w)\n",
    "\n",
    "\n",
    "## (3) Cost function\n",
    "cost = T.mean(T.nnet.categorical_crossentropy(y_hat, y))\n",
    "\n",
    "\n",
    "## (4) Objective (and solver)\n",
    "alpha = 0.01\n",
    "gradient = T.grad(cost=cost, wrt=w) \n",
    "update = [[w, w - gradient * alpha]] \n",
    "train = theano.function(inputs=[X, y], outputs=cost, updates=update, allow_input_downcast=True) # computes cost, then runs update\n",
    "y_pred = T.argmax(y_hat, axis=1) # select largest probability as prediction\n",
    "predict = theano.function(inputs=[X], outputs=y_pred, allow_input_downcast=True)\n",
    "\n",
    "# run stochastic gradient descent function\n",
    "miniBatchSize = 1 \n",
    "gradientDescentStochastic(50)\n",
    "\n",
    "start_time = time.time()\n",
    "predict(X_test)   \n",
    "print ('predict time = %.2f' %(time.time() - start_time))"
   ]
  },
  {
   "cell_type": "markdown",
   "metadata": {},
   "source": [
    "Exercise: What do you expect to happen if you switch the batch size to be great than 1 (i.e. mini-batch)?  Why?\n",
    "\n",
    "Try it for a few values..."
   ]
  },
  {
   "cell_type": "code",
   "execution_count": 29,
   "metadata": {},
   "outputs": [
    {
     "name": "stdout",
     "output_type": "stream",
     "text": [
      "(784, 10)\n",
      "1) accuracy = 0.8150\n",
      "2) accuracy = 0.8475\n",
      "3) accuracy = 0.8600\n",
      "4) accuracy = 0.8600\n",
      "5) accuracy = 0.8625\n",
      "6) accuracy = 0.8625\n",
      "7) accuracy = 0.8625\n",
      "8) accuracy = 0.8700\n",
      "9) accuracy = 0.8750\n",
      "10) accuracy = 0.8750\n",
      "11) accuracy = 0.8750\n",
      "12) accuracy = 0.8700\n",
      "13) accuracy = 0.8675\n",
      "14) accuracy = 0.8675\n",
      "15) accuracy = 0.8675\n",
      "16) accuracy = 0.8650\n",
      "17) accuracy = 0.8675\n",
      "18) accuracy = 0.8700\n",
      "19) accuracy = 0.8750\n",
      "20) accuracy = 0.8775\n",
      "21) accuracy = 0.8775\n",
      "22) accuracy = 0.8800\n",
      "23) accuracy = 0.8800\n",
      "24) accuracy = 0.8800\n",
      "25) accuracy = 0.8825\n",
      "26) accuracy = 0.8825\n",
      "27) accuracy = 0.8825\n",
      "28) accuracy = 0.8825\n",
      "29) accuracy = 0.8825\n",
      "30) accuracy = 0.8825\n",
      "31) accuracy = 0.8825\n",
      "32) accuracy = 0.8800\n",
      "33) accuracy = 0.8800\n",
      "34) accuracy = 0.8800\n",
      "35) accuracy = 0.8800\n",
      "36) accuracy = 0.8800\n",
      "37) accuracy = 0.8800\n",
      "38) accuracy = 0.8800\n",
      "39) accuracy = 0.8775\n",
      "40) accuracy = 0.8800\n",
      "41) accuracy = 0.8800\n",
      "42) accuracy = 0.8800\n",
      "43) accuracy = 0.8800\n",
      "44) accuracy = 0.8800\n",
      "45) accuracy = 0.8800\n",
      "46) accuracy = 0.8800\n",
      "47) accuracy = 0.8800\n",
      "48) accuracy = 0.8800\n",
      "49) accuracy = 0.8800\n",
      "50) accuracy = 0.8800\n",
      "train time = 472.32\n",
      "predict time = 0.00\n"
     ]
    }
   ],
   "source": [
    "## (1) Parameters \n",
    "# Initialize the weights to small, but non-zero, values.\n",
    "num_features = X_train[1].size\n",
    "num_classes = y_train_b[1].size\n",
    "w = theano.shared(np.asarray((np.random.randn(*(num_features, num_classes))*.01)))\n",
    "\n",
    "# temporary transformation to df for visualization purposes\n",
    "temp = pd.DataFrame(w.eval())\n",
    "print(temp.shape)\n",
    "temp.head()\n",
    "\n",
    "## (2) Model\n",
    "# Theano objects accessed with standard Python variables\n",
    "X = T.matrix()\n",
    "y = T.matrix()\n",
    "\n",
    "# label prediction\n",
    "y_hat = model_1(X, w)\n",
    "\n",
    "## (3) Cost function\n",
    "cost = T.mean(T.nnet.categorical_crossentropy(y_hat, y))\n",
    "\n",
    "## (4) Objective (and solver)\n",
    "alpha = 0.01\n",
    "gradient = T.grad(cost=cost, wrt=w) \n",
    "update = [[w, w - gradient * alpha]] \n",
    "train = theano.function(inputs=[X, y], outputs=cost, updates=update, allow_input_downcast=True) # computes cost, then runs update\n",
    "y_pred = T.argmax(y_hat, axis=1) # select largest probability as prediction\n",
    "predict = theano.function(inputs=[X], outputs=y_pred, allow_input_downcast=True)\n",
    "\n",
    "# run stochastic gradient descent\n",
    "miniBatchSize = 10\n",
    "gradientDescentStochastic(50)\n",
    "\n",
    "start_time = time.time()\n",
    "predict(X_test)   \n",
    "print ('predict time = %.2f' %(time.time() - start_time))"
   ]
  },
  {
   "cell_type": "markdown",
   "metadata": {},
   "source": [
    "##### Step 4: Implementing a multi-layer NN\n",
    "\n",
    "We'll now implement a multi-layer perceptron to clasify the images in the MNIST dataset. Let's keep things simple for the moment, and implement a multi-layer NN with only one hidden layer, making it a two layer NN. <br>\n",
    "\n",
    "Because we have a hidden layer, we will now train the model using **backpropagation**. "
   ]
  },
  {
   "cell_type": "markdown",
   "metadata": {},
   "source": [
    "As we start to get further into NN, if you'd like to take time on your own for an in-depth introduction on the state of the art in the topic, check out this excellent 1-day tutorial from KDD2014:\n",
    "\n",
    "Part 1: http://videolectures.net/kdd2014_bengio_deep_learning/\n",
    "\n",
    "Part 2: http://videolectures.net/tcmm2014_taylor_deep_learning/"
   ]
  },
  {
   "cell_type": "code",
   "execution_count": 30,
   "metadata": {},
   "outputs": [
    {
     "name": "stdout",
     "output_type": "stream",
     "text": [
      "1) accuracy = 0.7100\n",
      "2) accuracy = 0.8275\n",
      "3) accuracy = 0.8575\n",
      "4) accuracy = 0.8600\n",
      "5) accuracy = 0.8650\n",
      "6) accuracy = 0.8675\n",
      "7) accuracy = 0.8700\n",
      "8) accuracy = 0.8775\n",
      "9) accuracy = 0.8725\n",
      "10) accuracy = 0.8750\n",
      "11) accuracy = 0.8775\n",
      "12) accuracy = 0.8750\n",
      "13) accuracy = 0.8800\n",
      "14) accuracy = 0.8825\n",
      "15) accuracy = 0.8825\n",
      "16) accuracy = 0.8850\n",
      "17) accuracy = 0.8825\n",
      "18) accuracy = 0.8825\n",
      "19) accuracy = 0.8825\n",
      "20) accuracy = 0.8825\n",
      "21) accuracy = 0.8825\n",
      "22) accuracy = 0.8850\n",
      "23) accuracy = 0.8850\n",
      "24) accuracy = 0.8850\n",
      "25) accuracy = 0.8850\n",
      "26) accuracy = 0.8850\n",
      "27) accuracy = 0.8825\n",
      "28) accuracy = 0.8825\n",
      "29) accuracy = 0.8825\n",
      "30) accuracy = 0.8850\n",
      "31) accuracy = 0.8825\n",
      "32) accuracy = 0.8775\n",
      "33) accuracy = 0.8775\n",
      "34) accuracy = 0.8800\n",
      "35) accuracy = 0.8825\n",
      "36) accuracy = 0.8825\n",
      "37) accuracy = 0.8825\n",
      "38) accuracy = 0.8850\n",
      "39) accuracy = 0.8850\n",
      "40) accuracy = 0.8875\n",
      "41) accuracy = 0.8875\n",
      "42) accuracy = 0.8900\n",
      "43) accuracy = 0.8900\n",
      "44) accuracy = 0.8900\n",
      "45) accuracy = 0.8900\n",
      "46) accuracy = 0.8900\n",
      "47) accuracy = 0.8900\n",
      "48) accuracy = 0.8875\n",
      "49) accuracy = 0.8875\n",
      "50) accuracy = 0.8875\n",
      "train time = 32976.15\n",
      "predict time = 0.42\n"
     ]
    }
   ],
   "source": [
    "## (1) Parameters\n",
    "num_hidden_nodes = 784\n",
    "w_1 = theano.shared(np.asarray((np.random.randn(*(num_features, num_hidden_nodes))*.01)))\n",
    "w_2 = theano.shared(np.asarray((np.random.randn(*(num_hidden_nodes, num_classes))*.01)))\n",
    "params = [w_1, w_2]\n",
    "\n",
    "\n",
    "## (2) Model\n",
    "X = T.matrix()\n",
    "Y = T.matrix()\n",
    "# Two notes:\n",
    "# First, feed forward is the composition of layers (dot product + activation function)\n",
    "# Second, activation on the hidden layer still uses sigmoid\n",
    "\n",
    "# label prediction\n",
    "y_hat = model_2(X, w_1, w_2)\n",
    "\n",
    "\n",
    "## (3) Cost...same as logistic regression\n",
    "cost = T.mean(T.nnet.categorical_crossentropy(y_hat, y))\n",
    "\n",
    "\n",
    "## (4) Minimization.  Update rule changes to backpropagation.\n",
    "alpha = 0.01\n",
    "update = backprop(cost, params)\n",
    "train = theano.function(inputs=[X, y], outputs=cost, updates=update, allow_input_downcast=True)\n",
    "y_pred = T.argmax(y_hat, axis=1)\n",
    "predict = theano.function(inputs=[X], outputs=y_pred, allow_input_downcast=True)\n",
    "\n",
    "# run stochastic gradient descent\n",
    "miniBatchSize = 1\n",
    "gradientDescentStochastic(50)\n",
    "\n",
    "start_time = time.time()\n",
    "predict(X_test)   \n",
    "print ('predict time = %.2f' %(time.time() - start_time))"
   ]
  },
  {
   "cell_type": "markdown",
   "metadata": {},
   "source": [
    "Exercise: Change the number of nodes in the hidden layer?  What do you expect the impact to be?  What is the impact?"
   ]
  },
  {
   "cell_type": "code",
   "execution_count": 32,
   "metadata": {},
   "outputs": [
    {
     "name": "stdout",
     "output_type": "stream",
     "text": [
      "1) accuracy = 0.7050\n",
      "2) accuracy = 0.8200\n",
      "3) accuracy = 0.8550\n",
      "4) accuracy = 0.8575\n",
      "5) accuracy = 0.8650\n",
      "6) accuracy = 0.8675\n",
      "7) accuracy = 0.8675\n",
      "8) accuracy = 0.8675\n",
      "9) accuracy = 0.8700\n",
      "10) accuracy = 0.8700\n",
      "11) accuracy = 0.8700\n",
      "12) accuracy = 0.8750\n",
      "13) accuracy = 0.8775\n",
      "14) accuracy = 0.8775\n",
      "15) accuracy = 0.8825\n",
      "16) accuracy = 0.8875\n",
      "17) accuracy = 0.8825\n",
      "18) accuracy = 0.8800\n",
      "19) accuracy = 0.8800\n",
      "20) accuracy = 0.8800\n",
      "21) accuracy = 0.8775\n",
      "22) accuracy = 0.8800\n",
      "23) accuracy = 0.8800\n",
      "24) accuracy = 0.8825\n",
      "25) accuracy = 0.8850\n",
      "26) accuracy = 0.8850\n",
      "27) accuracy = 0.8850\n",
      "28) accuracy = 0.8875\n",
      "29) accuracy = 0.8875\n",
      "30) accuracy = 0.8875\n",
      "31) accuracy = 0.8900\n",
      "32) accuracy = 0.8900\n",
      "33) accuracy = 0.8925\n",
      "34) accuracy = 0.8925\n",
      "35) accuracy = 0.8925\n",
      "36) accuracy = 0.8900\n",
      "37) accuracy = 0.8900\n",
      "38) accuracy = 0.8900\n",
      "39) accuracy = 0.8900\n",
      "40) accuracy = 0.8900\n",
      "41) accuracy = 0.8900\n",
      "42) accuracy = 0.8900\n",
      "43) accuracy = 0.8925\n",
      "44) accuracy = 0.8925\n",
      "45) accuracy = 0.8925\n",
      "46) accuracy = 0.8925\n",
      "47) accuracy = 0.8925\n",
      "48) accuracy = 0.8925\n",
      "49) accuracy = 0.8900\n",
      "50) accuracy = 0.8875\n",
      "train time = 21710.74\n",
      "predict time = 0.29\n"
     ]
    }
   ],
   "source": [
    "## (1) Parameters\n",
    "num_hidden_nodes = 500\n",
    "w_1 = theano.shared(np.asarray((np.random.randn(*(num_features, num_hidden_nodes))*.01)))\n",
    "w_2 = theano.shared(np.asarray((np.random.randn(*(num_hidden_nodes, num_classes))*.01)))\n",
    "params = [w_1, w_2]\n",
    "\n",
    "\n",
    "## (2) Model\n",
    "X = T.matrix()\n",
    "Y = T.matrix()\n",
    "# Two notes:\n",
    "# First, feed forward is the composition of layers (dot product + activation function)\n",
    "# Second, activation on the hidden layer still uses sigmoid\n",
    "\n",
    "# label prediction\n",
    "y_hat = model_2(X, w_1, w_2)\n",
    "\n",
    "\n",
    "## (3) Cost...same as logistic regression\n",
    "cost = T.mean(T.nnet.categorical_crossentropy(y_hat, y))\n",
    "\n",
    "\n",
    "## (4) Minimization.  Update rule changes to backpropagation.\n",
    "alpha = 0.01\n",
    "update = backprop(cost, params)\n",
    "train = theano.function(inputs=[X, y], outputs=cost, updates=update, allow_input_downcast=True)\n",
    "y_pred = T.argmax(y_hat, axis=1)\n",
    "predict = theano.function(inputs=[X], outputs=y_pred, allow_input_downcast=True)\n",
    "\n",
    "# run stochastic gradient descent\n",
    "miniBatchSize = 1\n",
    "gradientDescentStochastic(50)\n",
    "\n",
    "start_time = time.time()\n",
    "predict(X_test)   \n",
    "print ('predict time = %.2f' %(time.time() - start_time))"
   ]
  },
  {
   "cell_type": "markdown",
   "metadata": {},
   "source": [
    "Exercise:  We saw an improvement from adding a hidden layer.  What do you expect to happen if a second hidden layer was added?  \n",
    "\n",
    "Let's try it..."
   ]
  },
  {
   "cell_type": "code",
   "execution_count": 36,
   "metadata": {},
   "outputs": [
    {
     "name": "stdout",
     "output_type": "stream",
     "text": [
      "1) accuracy = 0.0950\n",
      "2) accuracy = 0.0950\n",
      "3) accuracy = 0.0950\n",
      "4) accuracy = 0.0950\n",
      "5) accuracy = 0.0950\n",
      "6) accuracy = 0.0950\n",
      "7) accuracy = 0.1600\n",
      "8) accuracy = 0.1100\n",
      "9) accuracy = 0.1100\n",
      "10) accuracy = 0.1475\n",
      "11) accuracy = 0.2200\n",
      "12) accuracy = 0.3325\n",
      "13) accuracy = 0.4000\n",
      "14) accuracy = 0.5025\n",
      "15) accuracy = 0.5925\n",
      "16) accuracy = 0.6525\n",
      "17) accuracy = 0.6975\n",
      "18) accuracy = 0.7300\n",
      "19) accuracy = 0.7725\n",
      "20) accuracy = 0.7875\n",
      "21) accuracy = 0.7825\n",
      "22) accuracy = 0.7950\n",
      "23) accuracy = 0.7900\n",
      "24) accuracy = 0.8000\n",
      "25) accuracy = 0.8125\n",
      "26) accuracy = 0.8225\n",
      "27) accuracy = 0.8425\n",
      "28) accuracy = 0.8475\n",
      "29) accuracy = 0.8500\n",
      "30) accuracy = 0.8600\n",
      "31) accuracy = 0.8650\n",
      "32) accuracy = 0.8725\n",
      "33) accuracy = 0.8675\n",
      "34) accuracy = 0.8675\n",
      "35) accuracy = 0.8650\n",
      "36) accuracy = 0.8675\n",
      "37) accuracy = 0.8700\n",
      "38) accuracy = 0.8625\n",
      "39) accuracy = 0.8650\n",
      "40) accuracy = 0.8650\n",
      "41) accuracy = 0.8675\n",
      "42) accuracy = 0.8750\n",
      "43) accuracy = 0.8825\n",
      "44) accuracy = 0.8800\n",
      "45) accuracy = 0.8825\n",
      "46) accuracy = 0.8825\n",
      "47) accuracy = 0.8825\n",
      "48) accuracy = 0.8825\n",
      "49) accuracy = 0.8800\n",
      "50) accuracy = 0.8800\n",
      "train time = 48363.83\n",
      "predict time = 0.65\n"
     ]
    }
   ],
   "source": [
    "## (1) Parms\n",
    "num_hidden_nodes = 600 \n",
    "w_1 = theano.shared(np.asarray((np.random.randn(*(num_features, num_hidden_nodes))*.01)))\n",
    "w_2 = theano.shared(np.asarray((np.random.randn(*(num_hidden_nodes, num_hidden_nodes))*.01)))\n",
    "w_3 = theano.shared(np.asarray((np.random.randn(*(num_hidden_nodes, num_classes))*.01)))\n",
    "params = [w_1, w_2, w_3]\n",
    "\n",
    "## (2) Model\n",
    "X = T.matrix()\n",
    "Y = T.matrix()\n",
    "\n",
    "# label prediction\n",
    "y_hat = model_3(X, w_1, w_2, w_3)\n",
    "\n",
    "\n",
    "## (3) Cost...same as logistic regression\n",
    "cost = T.mean(T.nnet.categorical_crossentropy(y_hat, y))\n",
    "\n",
    "\n",
    "## (4) Minimization.  Update rule changes to backpropagation.\n",
    "alpha = 0.01\n",
    "update = backprop(cost, params)\n",
    "train = theano.function(inputs=[X, y], outputs=cost, updates=update, allow_input_downcast=True)\n",
    "y_pred = T.argmax(y_hat, axis=1)\n",
    "predict = theano.function(inputs=[X], outputs=y_pred, allow_input_downcast=True)\n",
    "\n",
    "# run stochastic gradient descent\n",
    "miniBatchSize = 1 \n",
    "gradientDescentStochastic(50)\n",
    "\n",
    "start_time = time.time()\n",
    "predict(X_test)   \n",
    "print ('predict time = %.2f' %(time.time() - start_time))"
   ]
  },
  {
   "cell_type": "markdown",
   "metadata": {},
   "source": [
    "\n",
    "\n",
    "As interest in networks with more layers and more complicated architechures has increased, a couple of tricks have emerged and become standard practice. Let's look at two of those--**rectifier activation** and **dropout noise**."
   ]
  },
  {
   "cell_type": "markdown",
   "metadata": {},
   "source": [
    "#### Activation Revisted\n",
    "\n",
    "Exercise: What is an activation function? What are common activation functions used in NN?"
   ]
  },
  {
   "cell_type": "markdown",
   "metadata": {},
   "source": [
    "Let's look at a recent idea around activation closely associated with deep learning.  In 2010, in a paper published at NIPS (https://www.utc.fr/~bordesan/dokuwiki/_media/en/glorot10nipsworkshop.pdf), Yoshua Bengio showed that *rectifier activation works better empirically than sigmoid activation when used in the hidden layers*.  \n",
    "\n",
    "The rectifier activation is simple: f(x)=max(0,x).  Intuitively, the difference is that as a sigmoid activated node approaches 1 it stops learning even if error continues to be propagated to it, whereas the rectifier activated node continue to learn (at least in the positive direction).  It is not completely understood (per Yoshua Bengio) why this helps, but there are some theories being explored including as related to the benefits of sparse representations in networks. (http://www.iro.umontreal.ca/~bengioy/talks/KDD2014-tutorial.pdf).  **Rectifiers also speed up training**.\n",
    "\n",
    "Although the paper was published in 2010, the technique didn't gain widespread adoption until 2012 when members of Hinton's group spread the word, including with this Kaggle entry: http://blog.kaggle.com/2012/11/01/deep-learning-how-i-did-it-merck-1st-place-interview/\n",
    "\n",
    "<br>\n",
    "<br>\n",
    "\n",
    "Let's change the activation in our 2 layer network to rectifier and see what happens..."
   ]
  },
  {
   "cell_type": "code",
   "execution_count": 38,
   "metadata": {},
   "outputs": [
    {
     "name": "stdout",
     "output_type": "stream",
     "text": [
      "1) accuracy = 0.7850\n",
      "2) accuracy = 0.8175\n",
      "3) accuracy = 0.8725\n",
      "4) accuracy = 0.8600\n",
      "5) accuracy = 0.8625\n",
      "6) accuracy = 0.8900\n",
      "7) accuracy = 0.8850\n",
      "8) accuracy = 0.8675\n",
      "9) accuracy = 0.9100\n",
      "10) accuracy = 0.9100\n",
      "11) accuracy = 0.9125\n",
      "12) accuracy = 0.9150\n",
      "13) accuracy = 0.9175\n",
      "14) accuracy = 0.9175\n",
      "15) accuracy = 0.9200\n",
      "16) accuracy = 0.9175\n",
      "17) accuracy = 0.9175\n",
      "18) accuracy = 0.9175\n",
      "19) accuracy = 0.9175\n",
      "20) accuracy = 0.9175\n",
      "21) accuracy = 0.9175\n",
      "22) accuracy = 0.9125\n",
      "23) accuracy = 0.9125\n",
      "24) accuracy = 0.9125\n",
      "25) accuracy = 0.9125\n",
      "26) accuracy = 0.9125\n",
      "27) accuracy = 0.9125\n",
      "28) accuracy = 0.9125\n",
      "29) accuracy = 0.9125\n",
      "30) accuracy = 0.9125\n",
      "31) accuracy = 0.9125\n",
      "32) accuracy = 0.9125\n",
      "33) accuracy = 0.9125\n",
      "34) accuracy = 0.9125\n",
      "35) accuracy = 0.9125\n",
      "36) accuracy = 0.9125\n",
      "37) accuracy = 0.9125\n",
      "38) accuracy = 0.9125\n",
      "39) accuracy = 0.9125\n",
      "40) accuracy = 0.9125\n",
      "41) accuracy = 0.9125\n",
      "42) accuracy = 0.9125\n",
      "43) accuracy = 0.9125\n",
      "44) accuracy = 0.9125\n",
      "45) accuracy = 0.9125\n",
      "46) accuracy = 0.9125\n",
      "47) accuracy = 0.9125\n",
      "48) accuracy = 0.9125\n",
      "49) accuracy = 0.9125\n",
      "50) accuracy = 0.9125\n",
      "train time = 29974.04\n",
      "predict time = 0.01\n"
     ]
    }
   ],
   "source": [
    "## (1) Parms\n",
    "num_hidden_nodes = 784 \n",
    "w_1 = theano.shared(np.asarray((np.random.randn(*(num_features, num_hidden_nodes))*.01)))\n",
    "w_2 = theano.shared(np.asarray((np.random.randn(*(num_hidden_nodes, num_classes))*.01)))\n",
    "params = [w_1, w_2]\n",
    "\n",
    "\n",
    "## (2) Model\n",
    "X = T.matrix()\n",
    "Y = T.matrix()\n",
    "\n",
    "# label prediction\n",
    "y_hat = model_rectifier(X, w_1, w_2)\n",
    "\n",
    "\n",
    "## (3) Cost...same as logistic regression\n",
    "cost = T.mean(T.nnet.categorical_crossentropy(y_hat, y))\n",
    "\n",
    "\n",
    "## (4) Minimization.  Update rule changes to backpropagation.\n",
    "alpha = 0.01\n",
    "update = backprop(cost, params)\n",
    "train = theano.function(inputs=[X, y], outputs=cost, updates=update, allow_input_downcast=True)\n",
    "y_pred = T.argmax(y_hat, axis=1)\n",
    "predict = theano.function(inputs=[X], outputs=y_pred, allow_input_downcast=True)\n",
    "\n",
    "# run stochastic gradient descent\n",
    "miniBatchSize = 1 \n",
    "gradientDescentStochastic(50)\n",
    "\n",
    "start_time = time.time()\n",
    "predict(X_test)   \n",
    "print ('predict time = %.2f' %(time.time() - start_time))"
   ]
  },
  {
   "cell_type": "markdown",
   "metadata": {},
   "source": [
    "#### Maxout Activation"
   ]
  },
  {
   "cell_type": "markdown",
   "metadata": {},
   "source": [
    "So rectifier activation worked great!  \n",
    "\n",
    "Exercise: try another type of activation called Maxout (or Max Pooling) activiation.  Maxout activation just selects the max input as the output.  Maxout is a type of pooling, a technique which performs particularly well for vision problems. For more background see: http://jmlr.org/proceedings/papers/v28/goodfellow13.pdf and http://www.quora.com/What-is-impact-of-different-pooling-methods-in-convolutional-neural-networks  "
   ]
  },
  {
   "cell_type": "markdown",
   "metadata": {},
   "source": [
    "#### Dropout noise"
   ]
  },
  {
   "cell_type": "markdown",
   "metadata": {},
   "source": [
    "The idea is to simulate having a large number of different network architectures by **randomly dropping out nodes** during training. This is called dropout and offers a very computationally cheap and remarkably effective **regularization method* to reduce overfitting and improve generalization error in NN of all kinds.\n",
    "\n",
    "Hinton introduced the idea in 2012 and gave an explanation of why it's similar to bagging (http://arxiv.org/pdf/1207.0580v1.pdf)\n",
    "\n",
    "Let's give it a try..."
   ]
  },
  {
   "cell_type": "code",
   "execution_count": 39,
   "metadata": {},
   "outputs": [
    {
     "name": "stdout",
     "output_type": "stream",
     "text": [
      "1) accuracy = 0.6900\n",
      "2) accuracy = 0.7175\n",
      "3) accuracy = 0.7575\n",
      "4) accuracy = 0.7750\n",
      "5) accuracy = 0.7350\n",
      "6) accuracy = 0.7875\n",
      "7) accuracy = 0.8300\n",
      "8) accuracy = 0.8550\n",
      "9) accuracy = 0.7325\n",
      "10) accuracy = 0.8525\n",
      "11) accuracy = 0.8675\n",
      "12) accuracy = 0.8500\n",
      "13) accuracy = 0.8600\n",
      "14) accuracy = 0.8675\n",
      "15) accuracy = 0.8225\n",
      "16) accuracy = 0.8850\n",
      "17) accuracy = 0.9050\n",
      "18) accuracy = 0.9025\n",
      "19) accuracy = 0.8325\n",
      "20) accuracy = 0.8775\n",
      "21) accuracy = 0.8850\n",
      "22) accuracy = 0.8800\n",
      "23) accuracy = 0.8950\n",
      "24) accuracy = 0.9075\n",
      "25) accuracy = 0.8700\n",
      "26) accuracy = 0.8375\n",
      "27) accuracy = 0.9025\n",
      "28) accuracy = 0.8950\n",
      "29) accuracy = 0.8975\n",
      "30) accuracy = 0.8450\n",
      "31) accuracy = 0.8925\n",
      "32) accuracy = 0.8550\n",
      "33) accuracy = 0.8700\n",
      "34) accuracy = 0.8975\n",
      "35) accuracy = 0.9200\n",
      "36) accuracy = 0.9100\n",
      "37) accuracy = 0.9000\n",
      "38) accuracy = 0.8800\n",
      "39) accuracy = 0.9050\n",
      "40) accuracy = 0.9000\n",
      "41) accuracy = 0.8850\n",
      "42) accuracy = 0.8925\n",
      "43) accuracy = 0.9000\n",
      "44) accuracy = 0.8950\n",
      "45) accuracy = 0.8975\n",
      "46) accuracy = 0.8425\n",
      "47) accuracy = 0.9100\n",
      "48) accuracy = 0.9000\n",
      "49) accuracy = 0.9000\n",
      "50) accuracy = 0.9000\n",
      "train time = 128176.60\n",
      "predict time = 0.00\n"
     ]
    }
   ],
   "source": [
    "## (1) Parms\n",
    "num_hidden_nodes = 784 \n",
    "w_1 = theano.shared(np.asarray((np.random.randn(*(num_features, num_hidden_nodes))*.01)))\n",
    "w_2 = theano.shared(np.asarray((np.random.randn(*(num_hidden_nodes, num_classes))*.01)))\n",
    "params = [w_1, w_2]\n",
    "\n",
    "\n",
    "## (2) Model\n",
    "X = T.matrix()\n",
    "Y = T.matrix()\n",
    "srng = RandomStreams()\n",
    "\n",
    "# predict label\n",
    "y_hat_train = model_dropout_1(X, w_1, w_2, 0.2, 0.5)\n",
    "y_hat_predict = model_dropout_1(X, w_1, w_2, 0., 0.)\n",
    "\n",
    "## (3) Cost...same as logistic regression\n",
    "cost = T.mean(T.nnet.categorical_crossentropy(y_hat_train, y))\n",
    "\n",
    "## (4) Minimization.  Update rule changes to backpropagation.\n",
    "alpha = 0.01\n",
    "update = backprop(cost, params)\n",
    "train = theano.function(inputs=[X, y], outputs=cost, updates=update, allow_input_downcast=True)\n",
    "y_pred = T.argmax(y_hat_predict, axis=1)\n",
    "predict = theano.function(inputs=[X], outputs=y_pred, allow_input_downcast=True)\n",
    "\n",
    "# run stochastic gradient descent\n",
    "miniBatchSize = 1\n",
    "gradientDescentStochastic(50)\n",
    "\n",
    "start_time = time.time()\n",
    "predict(X_test)   \n",
    "print ('predict time = %.2f' %(time.time() - start_time))"
   ]
  },
  {
   "cell_type": "markdown",
   "metadata": {},
   "source": [
    "Let's try once again adding a second hidden layer..."
   ]
  },
  {
   "cell_type": "code",
   "execution_count": 42,
   "metadata": {},
   "outputs": [
    {
     "name": "stdout",
     "output_type": "stream",
     "text": [
      "1) accuracy = 0.6625\n",
      "2) accuracy = 0.7525\n",
      "3) accuracy = 0.7800\n",
      "4) accuracy = 0.7825\n",
      "5) accuracy = 0.7825\n",
      "6) accuracy = 0.7225\n",
      "7) accuracy = 0.8325\n",
      "8) accuracy = 0.8300\n",
      "9) accuracy = 0.7650\n",
      "10) accuracy = 0.8800\n",
      "11) accuracy = 0.8800\n",
      "12) accuracy = 0.8125\n",
      "13) accuracy = 0.8075\n",
      "14) accuracy = 0.8950\n",
      "15) accuracy = 0.8450\n",
      "16) accuracy = 0.8775\n",
      "17) accuracy = 0.8575\n",
      "18) accuracy = 0.8200\n",
      "19) accuracy = 0.8850\n",
      "20) accuracy = 0.8600\n",
      "21) accuracy = 0.8875\n",
      "22) accuracy = 0.8525\n",
      "23) accuracy = 0.8725\n",
      "24) accuracy = 0.8850\n",
      "25) accuracy = 0.8375\n",
      "26) accuracy = 0.8875\n",
      "27) accuracy = 0.9000\n",
      "28) accuracy = 0.8875\n",
      "29) accuracy = 0.8300\n",
      "30) accuracy = 0.8350\n",
      "31) accuracy = 0.8875\n",
      "32) accuracy = 0.8575\n",
      "33) accuracy = 0.8525\n",
      "34) accuracy = 0.9025\n",
      "35) accuracy = 0.8775\n",
      "36) accuracy = 0.8450\n",
      "37) accuracy = 0.8775\n",
      "38) accuracy = 0.8500\n",
      "39) accuracy = 0.8600\n",
      "40) accuracy = 0.9050\n",
      "41) accuracy = 0.8800\n",
      "42) accuracy = 0.8525\n",
      "43) accuracy = 0.8375\n",
      "44) accuracy = 0.8600\n",
      "45) accuracy = 0.8375\n",
      "46) accuracy = 0.8800\n",
      "47) accuracy = 0.8900\n",
      "48) accuracy = 0.8700\n",
      "49) accuracy = 0.8750\n",
      "50) accuracy = 0.8700\n",
      "train time = 201090.72\n",
      "predict time = 0.05\n"
     ]
    }
   ],
   "source": [
    "## (1) Parmeters\n",
    "num_hidden_nodes = 784 \n",
    "w_1 = theano.shared(np.asarray((np.random.randn(*(num_features, num_hidden_nodes))*.01)))\n",
    "w_2 = theano.shared(np.asarray((np.random.randn(*(num_hidden_nodes, num_hidden_nodes))*.01)))\n",
    "w_3 = theano.shared(np.asarray((np.random.randn(*(num_hidden_nodes, num_classes))*.01)))\n",
    "params = [w_1, w_2, w_3]\n",
    "\n",
    "\n",
    "## (2) Model\n",
    "X = T.matrix()\n",
    "Y = T.matrix()\n",
    "\n",
    "srng = RandomStreams()\n",
    "\n",
    "# predict label\n",
    "y_hat_train = model_dropout_2(X, w_1, w_2, w_3, 0.2, 0.5,0.5)\n",
    "y_hat_predict = model_dropout_2(X, w_1, w_2, w_3, 0., 0.,0.)\n",
    "\n",
    "## (3) Cost...same as logistic regression\n",
    "cost = T.mean(T.nnet.categorical_crossentropy(y_hat_train, y))\n",
    "\n",
    "\n",
    "## (4) Minimization.  Update rule changes to backpropagation.\n",
    "alpha = 0.01\n",
    "update = backprop(cost, params)\n",
    "train = theano.function(inputs=[X, y], outputs=cost, updates=update, allow_input_downcast=True)\n",
    "y_pred = T.argmax(y_hat_predict, axis=1)\n",
    "predict = theano.function(inputs=[X], outputs=y_pred, allow_input_downcast=True)\n",
    "\n",
    "# run stochastic gradient descent\n",
    "miniBatchSize = 1\n",
    "gradientDescentStochastic(50)\n",
    "\n",
    "start_time = time.time()\n",
    "predict(X_train)   \n",
    "print ('predict time = %.2f' %(time.time() - start_time))"
   ]
  },
  {
   "cell_type": "markdown",
   "metadata": {},
   "source": [
    "### Part 5: Convolutional NN"
   ]
  },
  {
   "cell_type": "markdown",
   "metadata": {},
   "source": [
    "Today, when the phrase 'deep learning' is used to describe a system, it is often a convolution NN (or convonet).  The convonet architechture was largely developed in the late 90's at Bell Labs, but only very recently popularized.  It was developed for image recognition, and is described and implemented with 2D representations in mind.\n",
    "\n",
    "Geoffrey Hinton has an excellent two-part lecture on the topic:\n",
    "\n",
    "https://www.youtube.com/watch?v=6oD3t6u5EPs\n",
    "\n",
    "https://www.youtube.com/watch?v=fueIAeAsGzA\n",
    "\n",
    "Also, this code was partly taken from these tutorials, which are worth referring back to:\n",
    "\n",
    "http://deeplearning.net/tutorial/lenet.html\n",
    "\n",
    "http://ufldl.stanford.edu/tutorial/supervised/FeatureExtractionUsingConvolution/\n",
    "\n",
    "https://www.youtube.com/watch?v=S75EdAcXHKk\n",
    "\n",
    "http://danielnouri.org/notes/2014/12/17/using-convolutional-neural-nets-to-detect-facial-keypoints-tutorial/"
   ]
  },
  {
   "cell_type": "code",
   "execution_count": null,
   "metadata": {},
   "outputs": [],
   "source": [
    "## (1) Parameters\n",
    "num_hidden_nodes = 784 \n",
    "patch_width = 3\n",
    "patch_height = 3\n",
    "feature_maps_layer1 = 32\n",
    "feature_maps_layer2 = 64\n",
    "feature_maps_layer3 = 128\n",
    "\n",
    "# For convonets, we will work in 2d rather than 1d.  The MNIST images are 28x28 in 2d.\n",
    "image_width = 28\n",
    "X_train = X_train.reshape(-1, 1, image_width, image_width)\n",
    "X_test = X_test.reshape(-1, 1, image_width, image_width)\n",
    "\n",
    "# Convolution layers.  \n",
    "w_1 = theano.shared(np.asarray((np.random.randn(*(feature_maps_layer1, 1, patch_width, patch_height))*.01)))\n",
    "w_2 = theano.shared(np.asarray((np.random.randn(*(feature_maps_layer2, feature_maps_layer1, patch_width, patch_height))*.01)))\n",
    "w_3 = theano.shared(np.asarray((np.random.randn(*(feature_maps_layer3, feature_maps_layer2, patch_width, patch_height))*.01)))\n",
    "\n",
    "# Fully connected NN. \n",
    "w_4 = theano.shared(np.asarray((np.random.randn(*(feature_maps_layer3 * 3 * 3, num_hiddenNodes))*.01)))\n",
    "w_5 = theano.shared(np.asarray((np.random.randn(*(num_hidden_nodes, num_classes))*.01)))\n",
    "params = [w_1, w_2, w_3, w_4, w_5]\n",
    "\n",
    "## (2) Model\n",
    "X = T.tensor4() # conv2d works with tensor4 type\n",
    "Y = T.matrix()\n",
    "\n",
    "srng = RandomStreams()\n",
    "y_hat_train = model_convonet(X, w_1, w_2, w_3, w_4, w_5, 0.2, 0.5)\n",
    "y_hat_predict = model_convonet(X, w_1, w_2, w_3, w_4, w_5, 0., 0.)\n",
    "y_x = T.argmax(y_hat, axis=1)\n",
    "\n",
    "## (3) Cost\n",
    "cost = T.mean(T.nnet.categorical_crossentropy(y_hat_train, y))\n",
    "\n",
    "## (4) Minimization.  \n",
    "update = backprop_convonet(cost, params)\n",
    "train = theano.function(inputs=[X, y], outputs=cost, updates=update, allow_input_downcast=True)\n",
    "y_pred = T.argmax(y_hat_predict, axis=1)\n",
    "predict = theano.function(inputs=[X], outputs=y_pred, allow_input_downcast=True)\n",
    "\n",
    "miniBatchSize = 1\n",
    "gradientDescentStochastic(10)\n",
    "\n",
    "start_time = time.time()\n",
    "predict(test_data)   \n",
    "print ('predict time = %.2f' %(time.time() - start_time))"
   ]
  },
  {
   "cell_type": "markdown",
   "metadata": {},
   "source": [
    "#### Additional topic: Brain inspiration"
   ]
  },
  {
   "cell_type": "markdown",
   "metadata": {},
   "source": [
    "The architechture of the convonet was inspired by the visual cortext in the human brain.  If you are interested in learning more, check out: http://www-psych.stanford.edu/~ashas/Cognition%20Textbook/chapter2.pdf"
   ]
  },
  {
   "cell_type": "markdown",
   "metadata": {},
   "source": [
    "#### Additional topic: Self-Driving Vehicles"
   ]
  },
  {
   "cell_type": "markdown",
   "metadata": {},
   "source": [
    "Convolutional networks are starting to be used more and more for self-driving vehicles.  This past year, NVIDEA started produced a chipset for self-driving vehicles that analyzes the video of up to 14 cameras using convonets for \n",
    "\n",
    "CES 2015 parts 6,7,9\n",
    "\n",
    "https://www.youtube.com/watch?v=-vKGkxeflGw\n",
    "\n",
    "https://www.youtube.com/watch?v=zsVsUvx8ieo\n",
    "\n",
    "https://www.youtube.com/watch?v=RvQVyGOynFY\n",
    "\n",
    "GTC 2015 parts 4,5,7,9\n",
    "\n",
    "https://www.youtube.com/watch?v=pqvdZ2jp1NA\n",
    "\n",
    "https://www.youtube.com/watch?v=GGxdP_JWhwI\n",
    "\n",
    "https://www.youtube.com/watch?v=Tb7ZYSTYHbw\n",
    "\n",
    "https://www.youtube.com/watch?v=TDm6Snkle70"
   ]
  },
  {
   "cell_type": "code",
   "execution_count": null,
   "metadata": {},
   "outputs": [],
   "source": []
  }
 ],
 "metadata": {
  "kernelspec": {
   "display_name": "Python 3",
   "language": "python",
   "name": "python3"
  },
  "language_info": {
   "codemirror_mode": {
    "name": "ipython",
    "version": 3
   },
   "file_extension": ".py",
   "mimetype": "text/x-python",
   "name": "python",
   "nbconvert_exporter": "python",
   "pygments_lexer": "ipython3",
   "version": "3.7.3"
  }
 },
 "nbformat": 4,
 "nbformat_minor": 1
}

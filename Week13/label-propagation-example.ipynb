{
 "cells": [
  {
   "cell_type": "markdown",
   "metadata": {},
   "source": [
    "# Graphlab label propagation example"
   ]
  },
  {
   "cell_type": "code",
   "execution_count": 8,
   "metadata": {},
   "outputs": [],
   "source": [
    "import turicreate as gl\n",
    "import pandas\n",
    "import networkx as nx\n",
    "#gl.canvas.set_target('ipynb')"
   ]
  },
  {
   "cell_type": "markdown",
   "metadata": {},
   "source": [
    "## create SGraph"
   ]
  },
  {
   "cell_type": "code",
   "execution_count": 3,
   "metadata": {},
   "outputs": [
    {
     "data": {
      "text/html": [
       "<div style=\"max-height:1000px;max-width:1500px;overflow:auto;\"><table frame=\"box\" rules=\"cols\">\n",
       "    <tr>\n",
       "        <th style=\"padding-left: 1em; padding-right: 1em; text-align: center\">__id</th>\n",
       "        <th style=\"padding-left: 1em; padding-right: 1em; text-align: center\">label</th>\n",
       "    </tr>\n",
       "    <tr>\n",
       "        <td style=\"padding-left: 1em; padding-right: 1em; text-align: center; vertical-align: top\">5</td>\n",
       "        <td style=\"padding-left: 1em; padding-right: 1em; text-align: center; vertical-align: top\">1</td>\n",
       "    </tr>\n",
       "    <tr>\n",
       "        <td style=\"padding-left: 1em; padding-right: 1em; text-align: center; vertical-align: top\">4</td>\n",
       "        <td style=\"padding-left: 1em; padding-right: 1em; text-align: center; vertical-align: top\">0</td>\n",
       "    </tr>\n",
       "</table>\n",
       "[2 rows x 2 columns]<br/>\n",
       "</div>"
      ],
      "text/plain": [
       "Columns:\n",
       "\t__id\tint\n",
       "\tlabel\tint\n",
       "\n",
       "Rows: 2\n",
       "\n",
       "Data:\n",
       "+------+-------+\n",
       "| __id | label |\n",
       "+------+-------+\n",
       "|  5   |   1   |\n",
       "|  4   |   0   |\n",
       "+------+-------+\n",
       "[2 rows x 2 columns]"
      ]
     },
     "execution_count": 3,
     "metadata": {},
     "output_type": "execute_result"
    }
   ],
   "source": [
    "# setup 2 vertices with different labels\n",
    "label_verts = [4,5]\n",
    "labels = [0,1]\n",
    "\n",
    "# put 2 vertices in data frame\n",
    "df = pandas.DataFrame(label_verts)\n",
    "df['label'] = labels\n",
    "\n",
    "# create the graph\n",
    "sg = gl.SGraph()\n",
    "sg = sg.add_vertices(df, vid_field='0')\n",
    "\n",
    "sg.vertices"
   ]
  },
  {
   "cell_type": "code",
   "execution_count": 4,
   "metadata": {},
   "outputs": [
    {
     "data": {
      "text/html": [
       "<div style=\"max-height:1000px;max-width:1500px;overflow:auto;\"><table frame=\"box\" rules=\"cols\">\n",
       "    <tr>\n",
       "        <th style=\"padding-left: 1em; padding-right: 1em; text-align: center\">__id</th>\n",
       "        <th style=\"padding-left: 1em; padding-right: 1em; text-align: center\">label</th>\n",
       "    </tr>\n",
       "    <tr>\n",
       "        <td style=\"padding-left: 1em; padding-right: 1em; text-align: center; vertical-align: top\">5</td>\n",
       "        <td style=\"padding-left: 1em; padding-right: 1em; text-align: center; vertical-align: top\">1</td>\n",
       "    </tr>\n",
       "    <tr>\n",
       "        <td style=\"padding-left: 1em; padding-right: 1em; text-align: center; vertical-align: top\">7</td>\n",
       "        <td style=\"padding-left: 1em; padding-right: 1em; text-align: center; vertical-align: top\">None</td>\n",
       "    </tr>\n",
       "    <tr>\n",
       "        <td style=\"padding-left: 1em; padding-right: 1em; text-align: center; vertical-align: top\">8</td>\n",
       "        <td style=\"padding-left: 1em; padding-right: 1em; text-align: center; vertical-align: top\">None</td>\n",
       "    </tr>\n",
       "    <tr>\n",
       "        <td style=\"padding-left: 1em; padding-right: 1em; text-align: center; vertical-align: top\">2</td>\n",
       "        <td style=\"padding-left: 1em; padding-right: 1em; text-align: center; vertical-align: top\">None</td>\n",
       "    </tr>\n",
       "    <tr>\n",
       "        <td style=\"padding-left: 1em; padding-right: 1em; text-align: center; vertical-align: top\">6</td>\n",
       "        <td style=\"padding-left: 1em; padding-right: 1em; text-align: center; vertical-align: top\">None</td>\n",
       "    </tr>\n",
       "    <tr>\n",
       "        <td style=\"padding-left: 1em; padding-right: 1em; text-align: center; vertical-align: top\">3</td>\n",
       "        <td style=\"padding-left: 1em; padding-right: 1em; text-align: center; vertical-align: top\">None</td>\n",
       "    </tr>\n",
       "    <tr>\n",
       "        <td style=\"padding-left: 1em; padding-right: 1em; text-align: center; vertical-align: top\">1</td>\n",
       "        <td style=\"padding-left: 1em; padding-right: 1em; text-align: center; vertical-align: top\">None</td>\n",
       "    </tr>\n",
       "    <tr>\n",
       "        <td style=\"padding-left: 1em; padding-right: 1em; text-align: center; vertical-align: top\">4</td>\n",
       "        <td style=\"padding-left: 1em; padding-right: 1em; text-align: center; vertical-align: top\">0</td>\n",
       "    </tr>\n",
       "</table>\n",
       "[8 rows x 2 columns]<br/>\n",
       "</div>"
      ],
      "text/plain": [
       "Columns:\n",
       "\t__id\tint\n",
       "\tlabel\tint\n",
       "\n",
       "Rows: 8\n",
       "\n",
       "Data:\n",
       "+------+-------+\n",
       "| __id | label |\n",
       "+------+-------+\n",
       "|  5   |   1   |\n",
       "|  7   |  None |\n",
       "|  8   |  None |\n",
       "|  2   |  None |\n",
       "|  6   |  None |\n",
       "|  3   |  None |\n",
       "|  1   |  None |\n",
       "|  4   |   0   |\n",
       "+------+-------+\n",
       "[8 rows x 2 columns]"
      ]
     },
     "execution_count": 4,
     "metadata": {},
     "output_type": "execute_result"
    }
   ],
   "source": [
    "# add edges and the rest of the vertices\n",
    "edges = [ (1,2), (1,3), (2,4), (3,4), (4,5), (5,6), (5,8), (6,7), (8,7)]\n",
    "sg = sg.add_edges(pandas.DataFrame(edges), src_field='0', dst_field='1')\n",
    "sg.vertices"
   ]
  },
  {
   "cell_type": "code",
   "execution_count": 5,
   "metadata": {},
   "outputs": [
    {
     "ename": "AttributeError",
     "evalue": "'SGraph' object has no attribute 'show'",
     "output_type": "error",
     "traceback": [
      "\u001b[0;31m---------------------------------------------------------------------------\u001b[0m",
      "\u001b[0;31mAttributeError\u001b[0m                            Traceback (most recent call last)",
      "\u001b[0;32m<ipython-input-5-fb73c0bd70f5>\u001b[0m in \u001b[0;36m<module>\u001b[0;34m\u001b[0m\n\u001b[1;32m      3\u001b[0m \u001b[0mcolor2\u001b[0m \u001b[0;34m=\u001b[0m \u001b[0;34m[\u001b[0m\u001b[0;36m0.69\u001b[0m\u001b[0;34m,\u001b[0m \u001b[0;36m0.\u001b[0m\u001b[0;34m,\u001b[0m \u001b[0;36m0.498\u001b[0m\u001b[0;34m]\u001b[0m\u001b[0;34m\u001b[0m\u001b[0;34m\u001b[0m\u001b[0m\n\u001b[1;32m      4\u001b[0m \u001b[0mvert_colors\u001b[0m \u001b[0;34m=\u001b[0m \u001b[0;34m{\u001b[0m \u001b[0;36m1\u001b[0m\u001b[0;34m:\u001b[0m\u001b[0mcolor1\u001b[0m\u001b[0;34m,\u001b[0m \u001b[0;36m7\u001b[0m\u001b[0;34m:\u001b[0m\u001b[0mcolor2\u001b[0m\u001b[0;34m,\u001b[0m\u001b[0;34m}\u001b[0m\u001b[0;34m\u001b[0m\u001b[0;34m\u001b[0m\u001b[0m\n\u001b[0;32m----> 5\u001b[0;31m \u001b[0msg\u001b[0m\u001b[0;34m.\u001b[0m\u001b[0mshow\u001b[0m\u001b[0;34m(\u001b[0m\u001b[0mvlabel\u001b[0m\u001b[0;34m=\u001b[0m\u001b[0;34m'id'\u001b[0m\u001b[0;34m,\u001b[0m \u001b[0mvcolor\u001b[0m\u001b[0;34m=\u001b[0m\u001b[0;34m[\u001b[0m\u001b[0;36m.80\u001b[0m\u001b[0;34m,\u001b[0m\u001b[0;36m.80\u001b[0m\u001b[0;34m,\u001b[0m\u001b[0;36m.80\u001b[0m\u001b[0;34m]\u001b[0m\u001b[0;34m,\u001b[0m \u001b[0mhighlight\u001b[0m\u001b[0;34m=\u001b[0m\u001b[0mvert_colors\u001b[0m\u001b[0;34m)\u001b[0m\u001b[0;34m\u001b[0m\u001b[0;34m\u001b[0m\u001b[0m\n\u001b[0m",
      "\u001b[0;31mAttributeError\u001b[0m: 'SGraph' object has no attribute 'show'"
     ]
    }
   ],
   "source": [
    "# preliminary display before label propagation\n",
    "color1 = [0.522, 0.741, 0.]\n",
    "color2 = [0.69, 0., 0.498]\n",
    "vert_colors = { 1:color1, 7:color2,}\n",
    "#sg.show(vlabel='id', vcolor=[.80,.80,.80], highlight=vert_colors)"
   ]
  },
  {
   "cell_type": "code",
   "execution_count": 10,
   "metadata": {},
   "outputs": [
    {
     "data": {
      "image/png": "[encoded data removed]",
      "text/plain": [
       "<Figure size 432x288 with 1 Axes>"
      ]
     },
     "metadata": {},
     "output_type": "display_data"
    }
   ],
   "source": [
    "# convert to NetworkX graph\n",
    "g = nx.Graph()\n",
    "g.add_nodes_from(sg.vertices['__id'])\n",
    "g.add_edges_from(sg.edges.apply(lambda row: [v for (k,v) in row.items()]))\n",
    "\n",
    "# Draw it and show on screen\n",
    "nx.draw(g)\n"
   ]
  },
  {
   "cell_type": "markdown",
   "metadata": {},
   "source": [
    "## run label propagation"
   ]
  },
  {
   "cell_type": "code",
   "execution_count": 12,
   "metadata": {},
   "outputs": [
    {
     "data": {
      "text/html": [
       "<pre>Num classes: 2</pre>"
      ],
      "text/plain": [
       "Num classes: 2"
      ]
     },
     "metadata": {},
     "output_type": "display_data"
    },
    {
     "data": {
      "text/html": [
       "<pre>#labeled_vertices: 2\t#unlabeled_vertices: 6</pre>"
      ],
      "text/plain": [
       "#labeled_vertices: 2\t#unlabeled_vertices: 6"
      ]
     },
     "metadata": {},
     "output_type": "display_data"
    },
    {
     "data": {
      "text/html": [
       "<pre>+-----------+----------------------------------------+</pre>"
      ],
      "text/plain": [
       "+-----------+----------------------------------------+"
      ]
     },
     "metadata": {},
     "output_type": "display_data"
    },
    {
     "data": {
      "text/html": [
       "<pre>| Iteration | Average l2 change in class probability |</pre>"
      ],
      "text/plain": [
       "| Iteration | Average l2 change in class probability |"
      ]
     },
     "metadata": {},
     "output_type": "display_data"
    },
    {
     "data": {
      "text/html": [
       "<pre>+-----------+----------------------------------------+</pre>"
      ],
      "text/plain": [
       "+-----------+----------------------------------------+"
      ]
     },
     "metadata": {},
     "output_type": "display_data"
    },
    {
     "data": {
      "text/html": [
       "<pre>| 1         | 0.157135                               |</pre>"
      ],
      "text/plain": [
       "| 1         | 0.157135                               |"
      ]
     },
     "metadata": {},
     "output_type": "display_data"
    },
    {
     "data": {
      "text/html": [
       "<pre>| 2         | 0.104757                               |</pre>"
      ],
      "text/plain": [
       "| 2         | 0.104757                               |"
      ]
     },
     "metadata": {},
     "output_type": "display_data"
    },
    {
     "data": {
      "text/html": [
       "<pre>| 3         | 0.0872971                              |</pre>"
      ],
      "text/plain": [
       "| 3         | 0.0872971                              |"
      ]
     },
     "metadata": {},
     "output_type": "display_data"
    },
    {
     "data": {
      "text/html": [
       "<pre>| 4         | 0.0698377                              |</pre>"
      ],
      "text/plain": [
       "| 4         | 0.0698377                              |"
      ]
     },
     "metadata": {},
     "output_type": "display_data"
    },
    {
     "data": {
      "text/html": [
       "<pre>| 5         | 0.0562582                              |</pre>"
      ],
      "text/plain": [
       "| 5         | 0.0562582                              |"
      ]
     },
     "metadata": {},
     "output_type": "display_data"
    },
    {
     "data": {
      "text/html": [
       "<pre>| 6         | 0.0452652                              |</pre>"
      ],
      "text/plain": [
       "| 6         | 0.0452652                              |"
      ]
     },
     "metadata": {},
     "output_type": "display_data"
    },
    {
     "data": {
      "text/html": [
       "<pre>| 7         | 0.0364277                              |</pre>"
      ],
      "text/plain": [
       "| 7         | 0.0364277                              |"
      ]
     },
     "metadata": {},
     "output_type": "display_data"
    },
    {
     "data": {
      "text/html": [
       "<pre>| 8         | 0.0293146                              |</pre>"
      ],
      "text/plain": [
       "| 8         | 0.0293146                              |"
      ]
     },
     "metadata": {},
     "output_type": "display_data"
    },
    {
     "data": {
      "text/html": [
       "<pre>| 9         | 0.0235906                              |</pre>"
      ],
      "text/plain": [
       "| 9         | 0.0235906                              |"
      ]
     },
     "metadata": {},
     "output_type": "display_data"
    },
    {
     "data": {
      "text/html": [
       "<pre>| 10        | 0.0189842                              |</pre>"
      ],
      "text/plain": [
       "| 10        | 0.0189842                              |"
      ]
     },
     "metadata": {},
     "output_type": "display_data"
    },
    {
     "data": {
      "text/html": [
       "<pre>| 11        | 0.0152773                              |</pre>"
      ],
      "text/plain": [
       "| 11        | 0.0152773                              |"
      ]
     },
     "metadata": {},
     "output_type": "display_data"
    },
    {
     "data": {
      "text/html": [
       "<pre>| 12        | 0.0122942                              |</pre>"
      ],
      "text/plain": [
       "| 12        | 0.0122942                              |"
      ]
     },
     "metadata": {},
     "output_type": "display_data"
    },
    {
     "data": {
      "text/html": [
       "<pre>| 13        | 0.00989365                             |</pre>"
      ],
      "text/plain": [
       "| 13        | 0.00989365                             |"
      ]
     },
     "metadata": {},
     "output_type": "display_data"
    },
    {
     "data": {
      "text/html": [
       "<pre>| 14        | 0.00796179                             |</pre>"
      ],
      "text/plain": [
       "| 14        | 0.00796179                             |"
      ]
     },
     "metadata": {},
     "output_type": "display_data"
    },
    {
     "data": {
      "text/html": [
       "<pre>| 15        | 0.00640715                             |</pre>"
      ],
      "text/plain": [
       "| 15        | 0.00640715                             |"
      ]
     },
     "metadata": {},
     "output_type": "display_data"
    },
    {
     "data": {
      "text/html": [
       "<pre>| 16        | 0.00515608                             |</pre>"
      ],
      "text/plain": [
       "| 16        | 0.00515608                             |"
      ]
     },
     "metadata": {},
     "output_type": "display_data"
    },
    {
     "data": {
      "text/html": [
       "<pre>| 17        | 0.00414929                             |</pre>"
      ],
      "text/plain": [
       "| 17        | 0.00414929                             |"
      ]
     },
     "metadata": {},
     "output_type": "display_data"
    },
    {
     "data": {
      "text/html": [
       "<pre>| 18        | 0.00333909                             |</pre>"
      ],
      "text/plain": [
       "| 18        | 0.00333909                             |"
      ]
     },
     "metadata": {},
     "output_type": "display_data"
    },
    {
     "data": {
      "text/html": [
       "<pre>| 19        | 0.00268709                             |</pre>"
      ],
      "text/plain": [
       "| 19        | 0.00268709                             |"
      ]
     },
     "metadata": {},
     "output_type": "display_data"
    },
    {
     "data": {
      "text/html": [
       "<pre>| 20        | 0.00216241                             |</pre>"
      ],
      "text/plain": [
       "| 20        | 0.00216241                             |"
      ]
     },
     "metadata": {},
     "output_type": "display_data"
    },
    {
     "data": {
      "text/html": [
       "<pre>| 21        | 0.00174017                             |</pre>"
      ],
      "text/plain": [
       "| 21        | 0.00174017                             |"
      ]
     },
     "metadata": {},
     "output_type": "display_data"
    },
    {
     "data": {
      "text/html": [
       "<pre>| 22        | 0.00140038                             |</pre>"
      ],
      "text/plain": [
       "| 22        | 0.00140038                             |"
      ]
     },
     "metadata": {},
     "output_type": "display_data"
    },
    {
     "data": {
      "text/html": [
       "<pre>| 23        | 0.00112694                             |</pre>"
      ],
      "text/plain": [
       "| 23        | 0.00112694                             |"
      ]
     },
     "metadata": {},
     "output_type": "display_data"
    },
    {
     "data": {
      "text/html": [
       "<pre>| 24        | 0.000906891                            |</pre>"
      ],
      "text/plain": [
       "| 24        | 0.000906891                            |"
      ]
     },
     "metadata": {},
     "output_type": "display_data"
    },
    {
     "data": {
      "text/html": [
       "<pre>+-----------+----------------------------------------+</pre>"
      ],
      "text/plain": [
       "+-----------+----------------------------------------+"
      ]
     },
     "metadata": {},
     "output_type": "display_data"
    },
    {
     "data": {
      "text/html": [
       "<div style=\"max-height:1000px;max-width:1500px;overflow:auto;\"><table frame=\"box\" rules=\"cols\">\n",
       "    <tr>\n",
       "        <th style=\"padding-left: 1em; padding-right: 1em; text-align: center\">__id</th>\n",
       "        <th style=\"padding-left: 1em; padding-right: 1em; text-align: center\">label</th>\n",
       "        <th style=\"padding-left: 1em; padding-right: 1em; text-align: center\">predicted_label</th>\n",
       "        <th style=\"padding-left: 1em; padding-right: 1em; text-align: center\">P0</th>\n",
       "        <th style=\"padding-left: 1em; padding-right: 1em; text-align: center\">P1</th>\n",
       "    </tr>\n",
       "    <tr>\n",
       "        <td style=\"padding-left: 1em; padding-right: 1em; text-align: center; vertical-align: top\">5</td>\n",
       "        <td style=\"padding-left: 1em; padding-right: 1em; text-align: center; vertical-align: top\">1</td>\n",
       "        <td style=\"padding-left: 1em; padding-right: 1em; text-align: center; vertical-align: top\">1</td>\n",
       "        <td style=\"padding-left: 1em; padding-right: 1em; text-align: center; vertical-align: top\">0.0</td>\n",
       "        <td style=\"padding-left: 1em; padding-right: 1em; text-align: center; vertical-align: top\">1.0</td>\n",
       "    </tr>\n",
       "    <tr>\n",
       "        <td style=\"padding-left: 1em; padding-right: 1em; text-align: center; vertical-align: top\">7</td>\n",
       "        <td style=\"padding-left: 1em; padding-right: 1em; text-align: center; vertical-align: top\">None</td>\n",
       "        <td style=\"padding-left: 1em; padding-right: 1em; text-align: center; vertical-align: top\">1</td>\n",
       "        <td style=\"padding-left: 1em; padding-right: 1em; text-align: center; vertical-align: top\">0.00328414277082</td>\n",
       "        <td style=\"padding-left: 1em; padding-right: 1em; text-align: center; vertical-align: top\">0.996715857229</td>\n",
       "    </tr>\n",
       "    <tr>\n",
       "        <td style=\"padding-left: 1em; padding-right: 1em; text-align: center; vertical-align: top\">8</td>\n",
       "        <td style=\"padding-left: 1em; padding-right: 1em; text-align: center; vertical-align: top\">None</td>\n",
       "        <td style=\"padding-left: 1em; padding-right: 1em; text-align: center; vertical-align: top\">1</td>\n",
       "        <td style=\"padding-left: 1em; padding-right: 1em; text-align: center; vertical-align: top\">0.00232223962363</td>\n",
       "        <td style=\"padding-left: 1em; padding-right: 1em; text-align: center; vertical-align: top\">0.997677760376</td>\n",
       "    </tr>\n",
       "    <tr>\n",
       "        <td style=\"padding-left: 1em; padding-right: 1em; text-align: center; vertical-align: top\">2</td>\n",
       "        <td style=\"padding-left: 1em; padding-right: 1em; text-align: center; vertical-align: top\">None</td>\n",
       "        <td style=\"padding-left: 1em; padding-right: 1em; text-align: center; vertical-align: top\">0</td>\n",
       "        <td style=\"padding-left: 1em; padding-right: 1em; text-align: center; vertical-align: top\">0.997677760376</td>\n",
       "        <td style=\"padding-left: 1em; padding-right: 1em; text-align: center; vertical-align: top\">0.00232223962363</td>\n",
       "    </tr>\n",
       "    <tr>\n",
       "        <td style=\"padding-left: 1em; padding-right: 1em; text-align: center; vertical-align: top\">6</td>\n",
       "        <td style=\"padding-left: 1em; padding-right: 1em; text-align: center; vertical-align: top\">None</td>\n",
       "        <td style=\"padding-left: 1em; padding-right: 1em; text-align: center; vertical-align: top\">1</td>\n",
       "        <td style=\"padding-left: 1em; padding-right: 1em; text-align: center; vertical-align: top\">0.00232223962363</td>\n",
       "        <td style=\"padding-left: 1em; padding-right: 1em; text-align: center; vertical-align: top\">0.997677760376</td>\n",
       "    </tr>\n",
       "    <tr>\n",
       "        <td style=\"padding-left: 1em; padding-right: 1em; text-align: center; vertical-align: top\">3</td>\n",
       "        <td style=\"padding-left: 1em; padding-right: 1em; text-align: center; vertical-align: top\">None</td>\n",
       "        <td style=\"padding-left: 1em; padding-right: 1em; text-align: center; vertical-align: top\">0</td>\n",
       "        <td style=\"padding-left: 1em; padding-right: 1em; text-align: center; vertical-align: top\">0.997677760376</td>\n",
       "        <td style=\"padding-left: 1em; padding-right: 1em; text-align: center; vertical-align: top\">0.00232223962363</td>\n",
       "    </tr>\n",
       "    <tr>\n",
       "        <td style=\"padding-left: 1em; padding-right: 1em; text-align: center; vertical-align: top\">1</td>\n",
       "        <td style=\"padding-left: 1em; padding-right: 1em; text-align: center; vertical-align: top\">None</td>\n",
       "        <td style=\"padding-left: 1em; padding-right: 1em; text-align: center; vertical-align: top\">0</td>\n",
       "        <td style=\"padding-left: 1em; padding-right: 1em; text-align: center; vertical-align: top\">0.996715857229</td>\n",
       "        <td style=\"padding-left: 1em; padding-right: 1em; text-align: center; vertical-align: top\">0.00328414277082</td>\n",
       "    </tr>\n",
       "    <tr>\n",
       "        <td style=\"padding-left: 1em; padding-right: 1em; text-align: center; vertical-align: top\">4</td>\n",
       "        <td style=\"padding-left: 1em; padding-right: 1em; text-align: center; vertical-align: top\">0</td>\n",
       "        <td style=\"padding-left: 1em; padding-right: 1em; text-align: center; vertical-align: top\">0</td>\n",
       "        <td style=\"padding-left: 1em; padding-right: 1em; text-align: center; vertical-align: top\">1.0</td>\n",
       "        <td style=\"padding-left: 1em; padding-right: 1em; text-align: center; vertical-align: top\">0.0</td>\n",
       "    </tr>\n",
       "</table>\n",
       "[8 rows x 5 columns]<br/>\n",
       "</div>"
      ],
      "text/plain": [
       "Columns:\n",
       "\t__id\tint\n",
       "\tlabel\tint\n",
       "\tpredicted_label\tint\n",
       "\tP0\tfloat\n",
       "\tP1\tfloat\n",
       "\n",
       "Rows: 8\n",
       "\n",
       "Data:\n",
       "+------+-------+-----------------+------------------+------------------+\n",
       "| __id | label | predicted_label |        P0        |        P1        |\n",
       "+------+-------+-----------------+------------------+------------------+\n",
       "|  5   |   1   |        1        |       0.0        |       1.0        |\n",
       "|  7   |  None |        1        | 0.00328414277082 |  0.996715857229  |\n",
       "|  8   |  None |        1        | 0.00232223962363 |  0.997677760376  |\n",
       "|  2   |  None |        0        |  0.997677760376  | 0.00232223962363 |\n",
       "|  6   |  None |        1        | 0.00232223962363 |  0.997677760376  |\n",
       "|  3   |  None |        0        |  0.997677760376  | 0.00232223962363 |\n",
       "|  1   |  None |        0        |  0.996715857229  | 0.00328414277082 |\n",
       "|  4   |   0   |        0        |       1.0        |       0.0        |\n",
       "+------+-------+-----------------+------------------+------------------+\n",
       "[8 rows x 5 columns]"
      ]
     },
     "execution_count": 12,
     "metadata": {},
     "output_type": "execute_result"
    }
   ],
   "source": [
    "# use label propagation to get labels of unknown vertices\n",
    "m = gl.label_propagation.create(sg, label_field='label', undirected=True)\n",
    "sg_labeled = m['graph']\n",
    "sg_labeled.vertices"
   ]
  },
  {
   "cell_type": "code",
   "execution_count": 13,
   "metadata": {},
   "outputs": [],
   "source": [
    "# find all the predicted_label==1 and put them in a list to highlight with different color\n",
    "l_color = 1\n",
    "sf_labeled = sg_labeled.vertices\n",
    "color_filter = sf_labeled['predicted_label'] == l_color\n",
    "vert_color = list(sf_labeled[color_filter]['__id'])"
   ]
  },
  {
   "cell_type": "code",
   "execution_count": 16,
   "metadata": {},
   "outputs": [
    {
     "data": {
      "application/javascript": [
       "$(\"head\").append($(\"<link/>\").attr({\n",
       "  rel:  \"stylesheet\",\n",
       "  type: \"text/css\",\n",
       "  href: \"//cdnjs.cloudflare.com/ajax/libs/font-awesome/4.1.0/css/font-awesome.min.css\"\n",
       "}));\n",
       "$(\"head\").append($(\"<link/>\").attr({\n",
       "  rel:  \"stylesheet\",\n",
       "  type: \"text/css\",\n",
       "  href: \"https://static.turi.com/products/graphlab-create/2.1/canvas/css/canvas.css\"\n",
       "}));\n",
       "\n",
       "            (function(){\n",
       "\n",
       "                var e = null;\n",
       "                if (typeof element == 'undefined') {\n",
       "                    var scripts = document.getElementsByTagName('script');\n",
       "                    var thisScriptTag = scripts[scripts.length-1];\n",
       "                    var parentDiv = thisScriptTag.parentNode;\n",
       "                    e = document.createElement('div');\n",
       "                    parentDiv.appendChild(e);\n",
       "                } else {\n",
       "                    e = element[0];\n",
       "                }\n",
       "\n",
       "                if (typeof requirejs !== 'undefined') {\n",
       "                    // disable load timeout; ipython_app.js is large and can take a while to load.\n",
       "                    requirejs.config({waitSeconds: 0});\n",
       "                }\n",
       "\n",
       "                require(['https://static.turi.com/products/graphlab-create/2.1/canvas/js/ipython_app.js'], function(IPythonApp){\n",
       "                    var app = new IPythonApp();\n",
       "                    app.attachView('sgraph','View', {\"edges_labels\": null, \"selected_variable\": {\"name\": [\"<SGraph>\"], \"view_file\": \"sgraph\", \"view_component\": \"View\", \"view_params\": {\"elabel_hover\": false, \"vertex_positions\": null, \"h_offset\": 0.0, \"node_size\": 300, \"ecolor\": [0.37, 0.33, 0.33], \"elabel\": null, \"arrows\": false, \"ewidth\": 1, \"vlabel\": \"P0\", \"highlight_color\": [[0.69, 0.0, 0.498], [0.69, 0.0, 0.498], [0.69, 0.0, 0.498], [0.69, 0.0, 0.498]], \"vcolor\": [0.522, 0.741, 0.0], \"vlabel_hover\": false, \"highlight\": {\"8\": [0.69, 0.0, 0.498], \"5\": [0.69, 0.0, 0.498], \"6\": [0.69, 0.0, 0.498], \"7\": [0.69, 0.0, 0.498]}, \"v_offset\": 0.03}, \"view_components\": [\"View\"], \"type\": \"SGraph\", \"descriptives_links\": {\"edges\": \"edges\", \"vertices\": \"vertices\"}, \"descriptives\": {\"edges\": 9, \"vertices\": 8}}, \"positions\": null, \"error_type\": 0, \"vertices\": [5, 7, 8, 2, 6, 3, 1, 4], \"vertices_labels\": [0.0, 0.003284142770819575, 0.0023222396236312996, 0.9976777603763687, 0.0023222396236312996, 0.9976777603763687, 0.9967158572291803, 1.0], \"edges\": [[5, 8], [8, 7], [5, 6], [2, 4], [6, 7], [3, 4], [1, 2], [1, 3], [4, 5]], \"ipython\": true, \"error_msg\": \"\"}, e);\n",
       "                });\n",
       "            })();\n",
       "        "
      ]
     },
     "metadata": {},
     "output_type": "display_data"
    }
   ],
   "source": [
    "# show graph with highlighted colors and probability of being in cluster 0\n",
    "m['graph'].show(vlabel='P0', highlight=vert_color)"
   ]
  },
  {
   "cell_type": "code",
   "execution_count": null,
   "metadata": {},
   "outputs": [],
   "source": []
  },
  {
   "cell_type": "code",
   "execution_count": null,
   "metadata": {},
   "outputs": [],
   "source": [
    "gl.canvas.set_target('ipynb')"
   ]
  },
  {
   "cell_type": "code",
   "execution_count": 17,
   "metadata": {},
   "outputs": [
    {
     "data": {
      "application/javascript": [
       "$(\"head\").append($(\"<link/>\").attr({\n",
       "  rel:  \"stylesheet\",\n",
       "  type: \"text/css\",\n",
       "  href: \"//cdnjs.cloudflare.com/ajax/libs/font-awesome/4.1.0/css/font-awesome.min.css\"\n",
       "}));\n",
       "$(\"head\").append($(\"<link/>\").attr({\n",
       "  rel:  \"stylesheet\",\n",
       "  type: \"text/css\",\n",
       "  href: \"https://static.turi.com/products/graphlab-create/2.1/canvas/css/canvas.css\"\n",
       "}));\n",
       "\n",
       "            (function(){\n",
       "\n",
       "                var e = null;\n",
       "                if (typeof element == 'undefined') {\n",
       "                    var scripts = document.getElementsByTagName('script');\n",
       "                    var thisScriptTag = scripts[scripts.length-1];\n",
       "                    var parentDiv = thisScriptTag.parentNode;\n",
       "                    e = document.createElement('div');\n",
       "                    parentDiv.appendChild(e);\n",
       "                } else {\n",
       "                    e = element[0];\n",
       "                }\n",
       "\n",
       "                if (typeof requirejs !== 'undefined') {\n",
       "                    // disable load timeout; ipython_app.js is large and can take a while to load.\n",
       "                    requirejs.config({waitSeconds: 0});\n",
       "                }\n",
       "\n",
       "                require(['https://static.turi.com/products/graphlab-create/2.1/canvas/js/ipython_app.js'], function(IPythonApp){\n",
       "                    var app = new IPythonApp();\n",
       "                    app.attachView('sframe','Summary', {\"ipython\": true, \"sketch\": {\"P0\": {\"std\": 0.49801931417601564, \"complete\": true, \"min\": 0.0, \"max\": 1.0, \"quantile\": [0.0, 0.0, 0.0, 0.0, 0.0, 0.0, 0.0, 0.0, 0.0, 0.0, 0.0, 0.0, 0.0, 0.0023222396236312996, 0.0023222396236312996, 0.0023222396236312996, 0.0023222396236312996, 0.0023222396236312996, 0.0023222396236312996, 0.0023222396236312996, 0.0023222396236312996, 0.0023222396236312996, 0.0023222396236312996, 0.0023222396236312996, 0.0023222396236312996, 0.0023222396236312996, 0.0023222396236312996, 0.0023222396236312996, 0.0023222396236312996, 0.0023222396236312996, 0.0023222396236312996, 0.0023222396236312996, 0.0023222396236312996, 0.0023222396236312996, 0.0023222396236312996, 0.0023222396236312996, 0.0023222396236312996, 0.0023222396236312996, 0.003284142770819575, 0.003284142770819575, 0.003284142770819575, 0.003284142770819575, 0.003284142770819575, 0.003284142770819575, 0.003284142770819575, 0.003284142770819575, 0.003284142770819575, 0.003284142770819575, 0.003284142770819575, 0.003284142770819575, 0.9967158572291803, 0.9967158572291803, 0.9967158572291803, 0.9967158572291803, 0.9967158572291803, 0.9967158572291803, 0.9967158572291803, 0.9967158572291803, 0.9967158572291803, 0.9967158572291803, 0.9967158572291803, 0.9967158572291803, 0.9967158572291803, 0.9976777603763687, 0.9976777603763687, 0.9976777603763687, 0.9976777603763687, 0.9976777603763687, 0.9976777603763687, 0.9976777603763687, 0.9976777603763687, 0.9976777603763687, 0.9976777603763687, 0.9976777603763687, 0.9976777603763687, 0.9976777603763687, 0.9976777603763687, 0.9976777603763687, 0.9976777603763687, 0.9976777603763687, 0.9976777603763687, 0.9976777603763687, 0.9976777603763687, 0.9976777603763687, 0.9976777603763687, 0.9976777603763687, 0.9976777603763687, 0.9976777603763687, 1.0, 1.0, 1.0, 1.0, 1.0, 1.0, 1.0, 1.0, 1.0, 1.0, 1.0, 1.0, 1.0], \"median\": 0.9967158572291803, \"numeric\": true, \"num_unique\": 6, \"num_undefined\": 0, \"var\": 0.24802323729234899, \"progress\": 1.0, \"size\": 8, \"frequent_items\": {\"0.0\": {\"frequency\": 1, \"value\": 0.0}, \"1.0\": {\"frequency\": 1, \"value\": 1.0}, \"0.9976777603763687\": {\"frequency\": 2, \"value\": 0.9976777603763687}, \"0.003284142770819575\": {\"frequency\": 1, \"value\": 0.003284142770819575}, \"0.9967158572291803\": {\"frequency\": 1, \"value\": 0.9967158572291803}, \"0.0023222396236312996\": {\"frequency\": 2, \"value\": 0.0023222396236312996}}, \"mean\": 0.5}, \"P1\": {\"std\": 0.4980193141760156, \"complete\": true, \"min\": 0.0, \"max\": 1.0, \"quantile\": [0.0, 0.0, 0.0, 0.0, 0.0, 0.0, 0.0, 0.0, 0.0, 0.0, 0.0, 0.0, 0.0, 0.0023222396236312996, 0.0023222396236312996, 0.0023222396236312996, 0.0023222396236312996, 0.0023222396236312996, 0.0023222396236312996, 0.0023222396236312996, 0.0023222396236312996, 0.0023222396236312996, 0.0023222396236312996, 0.0023222396236312996, 0.0023222396236312996, 0.0023222396236312996, 0.0023222396236312996, 0.0023222396236312996, 0.0023222396236312996, 0.0023222396236312996, 0.0023222396236312996, 0.0023222396236312996, 0.0023222396236312996, 0.0023222396236312996, 0.0023222396236312996, 0.0023222396236312996, 0.0023222396236312996, 0.0023222396236312996, 0.003284142770819575, 0.003284142770819575, 0.003284142770819575, 0.003284142770819575, 0.003284142770819575, 0.003284142770819575, 0.003284142770819575, 0.003284142770819575, 0.003284142770819575, 0.003284142770819575, 0.003284142770819575, 0.003284142770819575, 0.9967158572291803, 0.9967158572291803, 0.9967158572291803, 0.9967158572291803, 0.9967158572291803, 0.9967158572291803, 0.9967158572291803, 0.9967158572291803, 0.9967158572291803, 0.9967158572291803, 0.9967158572291803, 0.9967158572291803, 0.9967158572291803, 0.9976777603763687, 0.9976777603763687, 0.9976777603763687, 0.9976777603763687, 0.9976777603763687, 0.9976777603763687, 0.9976777603763687, 0.9976777603763687, 0.9976777603763687, 0.9976777603763687, 0.9976777603763687, 0.9976777603763687, 0.9976777603763687, 0.9976777603763687, 0.9976777603763687, 0.9976777603763687, 0.9976777603763687, 0.9976777603763687, 0.9976777603763687, 0.9976777603763687, 0.9976777603763687, 0.9976777603763687, 0.9976777603763687, 0.9976777603763687, 0.9976777603763687, 1.0, 1.0, 1.0, 1.0, 1.0, 1.0, 1.0, 1.0, 1.0, 1.0, 1.0, 1.0, 1.0], \"median\": 0.9967158572291803, \"numeric\": true, \"num_unique\": 6, \"num_undefined\": 0, \"var\": 0.24802323729234893, \"progress\": 1.0, \"size\": 8, \"frequent_items\": {\"0.0\": {\"frequency\": 1, \"value\": 0.0}, \"1.0\": {\"frequency\": 1, \"value\": 1.0}, \"0.9976777603763687\": {\"frequency\": 2, \"value\": 0.9976777603763687}, \"0.003284142770819575\": {\"frequency\": 1, \"value\": 0.003284142770819575}, \"0.9967158572291803\": {\"frequency\": 1, \"value\": 0.9967158572291803}, \"0.0023222396236312996\": {\"frequency\": 2, \"value\": 0.0023222396236312996}}, \"mean\": 0.49999999999999994}, \"predicted_label\": {\"std\": 0.5, \"complete\": true, \"min\": 0.0, \"max\": 1.0, \"quantile\": [0.0, 0.0, 0.0, 0.0, 0.0, 0.0, 0.0, 0.0, 0.0, 0.0, 0.0, 0.0, 0.0, 0.0, 0.0, 0.0, 0.0, 0.0, 0.0, 0.0, 0.0, 0.0, 0.0, 0.0, 0.0, 0.0, 0.0, 0.0, 0.0, 0.0, 0.0, 0.0, 0.0, 0.0, 0.0, 0.0, 0.0, 0.0, 0.0, 0.0, 0.0, 0.0, 0.0, 0.0, 0.0, 0.0, 0.0, 0.0, 0.0, 0.0, 1.0, 1.0, 1.0, 1.0, 1.0, 1.0, 1.0, 1.0, 1.0, 1.0, 1.0, 1.0, 1.0, 1.0, 1.0, 1.0, 1.0, 1.0, 1.0, 1.0, 1.0, 1.0, 1.0, 1.0, 1.0, 1.0, 1.0, 1.0, 1.0, 1.0, 1.0, 1.0, 1.0, 1.0, 1.0, 1.0, 1.0, 1.0, 1.0, 1.0, 1.0, 1.0, 1.0, 1.0, 1.0, 1.0, 1.0, 1.0, 1.0, 1.0, 1.0], \"median\": 1.0, \"numeric\": true, \"num_unique\": 2, \"num_undefined\": 0, \"var\": 0.25, \"progress\": 1.0, \"size\": 8, \"frequent_items\": {\"0\": {\"frequency\": 4, \"value\": 0}, \"1\": {\"frequency\": 4, \"value\": 1}}, \"mean\": 0.5}, \"__id\": {\"std\": 2.29128784747792, \"complete\": true, \"min\": 1.0, \"max\": 8.0, \"quantile\": [1.0, 1.0, 1.0, 1.0, 1.0, 1.0, 1.0, 1.0, 1.0, 1.0, 1.0, 1.0, 1.0, 2.0, 2.0, 2.0, 2.0, 2.0, 2.0, 2.0, 2.0, 2.0, 2.0, 2.0, 2.0, 3.0, 3.0, 3.0, 3.0, 3.0, 3.0, 3.0, 3.0, 3.0, 3.0, 3.0, 3.0, 3.0, 4.0, 4.0, 4.0, 4.0, 4.0, 4.0, 4.0, 4.0, 4.0, 4.0, 4.0, 4.0, 5.0, 5.0, 5.0, 5.0, 5.0, 5.0, 5.0, 5.0, 5.0, 5.0, 5.0, 5.0, 5.0, 6.0, 6.0, 6.0, 6.0, 6.0, 6.0, 6.0, 6.0, 6.0, 6.0, 6.0, 6.0, 7.0, 7.0, 7.0, 7.0, 7.0, 7.0, 7.0, 7.0, 7.0, 7.0, 7.0, 7.0, 7.0, 8.0, 8.0, 8.0, 8.0, 8.0, 8.0, 8.0, 8.0, 8.0, 8.0, 8.0, 8.0, 8.0], \"median\": 5.0, \"numeric\": true, \"num_unique\": 8, \"num_undefined\": 0, \"var\": 5.249999999999999, \"progress\": 1.0, \"size\": 8, \"frequent_items\": {\"1\": {\"frequency\": 1, \"value\": 1}, \"2\": {\"frequency\": 1, \"value\": 2}, \"3\": {\"frequency\": 1, \"value\": 3}, \"4\": {\"frequency\": 1, \"value\": 4}, \"5\": {\"frequency\": 1, \"value\": 5}, \"6\": {\"frequency\": 1, \"value\": 6}, \"7\": {\"frequency\": 1, \"value\": 7}, \"8\": {\"frequency\": 1, \"value\": 8}}, \"mean\": 4.5}, \"label\": {\"std\": 0.5, \"complete\": true, \"min\": 0.0, \"max\": 1.0, \"quantile\": [0.0, 0.0, 0.0, 0.0, 0.0, 0.0, 0.0, 0.0, 0.0, 0.0, 0.0, 0.0, 0.0, 0.0, 0.0, 0.0, 0.0, 0.0, 0.0, 0.0, 0.0, 0.0, 0.0, 0.0, 0.0, 0.0, 0.0, 0.0, 0.0, 0.0, 0.0, 0.0, 0.0, 0.0, 0.0, 0.0, 0.0, 0.0, 0.0, 0.0, 0.0, 0.0, 0.0, 0.0, 0.0, 0.0, 0.0, 0.0, 0.0, 0.0, 1.0, 1.0, 1.0, 1.0, 1.0, 1.0, 1.0, 1.0, 1.0, 1.0, 1.0, 1.0, 1.0, 1.0, 1.0, 1.0, 1.0, 1.0, 1.0, 1.0, 1.0, 1.0, 1.0, 1.0, 1.0, 1.0, 1.0, 1.0, 1.0, 1.0, 1.0, 1.0, 1.0, 1.0, 1.0, 1.0, 1.0, 1.0, 1.0, 1.0, 1.0, 1.0, 1.0, 1.0, 1.0, 1.0, 1.0, 1.0, 1.0, 1.0, 1.0], \"median\": 1.0, \"numeric\": true, \"num_unique\": 2, \"num_undefined\": 6, \"var\": 0.25, \"progress\": 1.0, \"size\": 8, \"frequent_items\": {\"0\": {\"frequency\": 1, \"value\": 0}, \"1\": {\"frequency\": 1, \"value\": 1}}, \"mean\": 0.5}}, \"selected_variable\": {\"name\": [\"sf_labeled\"], \"descriptives\": {\"rows\": 8, \"columns\": 5}, \"view_component\": \"Summary\", \"view_file\": \"sframe\", \"view_params\": {\"y\": null, \"x\": null, \"columns\": [\"__id\", \"label\", \"predicted_label\", \"P0\", \"P1\"], \"view\": null}, \"view_components\": [\"Summary\", \"Table\", \"Bar Chart\", \"BoxWhisker Plot\", \"Line Chart\", \"Scatter Plot\", \"Heat Map\", \"Plots\"], \"type\": \"SFrame\", \"columns\": [{\"dtype\": \"int\", \"name\": \"__id\"}, {\"dtype\": \"int\", \"name\": \"label\"}, {\"dtype\": \"int\", \"name\": \"predicted_label\"}, {\"dtype\": \"float\", \"name\": \"P0\"}, {\"dtype\": \"float\", \"name\": \"P1\"}], \"column_identifiers\": [\"P0\", \"P1\", \"predicted_label\", \"__id\", \"label\"]}, \"columns\": [{\"dtype\": \"int\", \"name\": \"__id\"}, {\"dtype\": \"int\", \"name\": \"label\"}, {\"dtype\": \"int\", \"name\": \"predicted_label\"}, {\"dtype\": \"float\", \"name\": \"P0\"}, {\"dtype\": \"float\", \"name\": \"P1\"}]}, e);\n",
       "                });\n",
       "            })();\n",
       "        "
      ]
     },
     "metadata": {},
     "output_type": "display_data"
    }
   ],
   "source": [
    "sf_labeled.show()"
   ]
  },
  {
   "cell_type": "code",
   "execution_count": null,
   "metadata": {},
   "outputs": [],
   "source": []
  }
 ],
 "metadata": {
  "kernelspec": {
   "display_name": "Python 3",
   "language": "python",
   "name": "python3"
  },
  "language_info": {
   "codemirror_mode": {
    "name": "ipython",
    "version": 3
   },
   "file_extension": ".py",
   "mimetype": "text/x-python",
   "name": "python",
   "nbconvert_exporter": "python",
   "pygments_lexer": "ipython3",
   "version": "3.7.5"
  }
 },
 "nbformat": 4,
 "nbformat_minor": 1
}

{
 "cells": [
  {
   "cell_type": "code",
   "execution_count": 1,
   "metadata": {},
   "outputs": [],
   "source": [
    "import pandas\n",
    "import os\n",
    "import matplotlib.pyplot as plt\n",
    "import numpy as np\n",
    "%matplotlib inline"
   ]
  },
  {
   "cell_type": "markdown",
   "metadata": {},
   "source": [
    "## read in the data and preliminary visualization"
   ]
  },
  {
   "cell_type": "code",
   "execution_count": 42,
   "metadata": {},
   "outputs": [],
   "source": [
    "df = pandas.read_csv(\"ex2data1.txt\", names=['x','y','label'], index_col=False)"
   ]
  },
  {
   "cell_type": "code",
   "execution_count": 43,
   "metadata": {},
   "outputs": [
    {
     "data": {
      "text/html": [
       "<div>\n",
       "<style scoped>\n",
       "    .dataframe tbody tr th:only-of-type {\n",
       "        vertical-align: middle;\n",
       "    }\n",
       "\n",
       "    .dataframe tbody tr th {\n",
       "        vertical-align: top;\n",
       "    }\n",
       "\n",
       "    .dataframe thead th {\n",
       "        text-align: right;\n",
       "    }\n",
       "</style>\n",
       "<table border=\"1\" class=\"dataframe\">\n",
       "  <thead>\n",
       "    <tr style=\"text-align: right;\">\n",
       "      <th></th>\n",
       "      <th>x</th>\n",
       "      <th>y</th>\n",
       "      <th>label</th>\n",
       "    </tr>\n",
       "  </thead>\n",
       "  <tbody>\n",
       "    <tr>\n",
       "      <th>0</th>\n",
       "      <td>34.623660</td>\n",
       "      <td>78.024693</td>\n",
       "      <td>0</td>\n",
       "    </tr>\n",
       "    <tr>\n",
       "      <th>1</th>\n",
       "      <td>30.286711</td>\n",
       "      <td>43.894998</td>\n",
       "      <td>0</td>\n",
       "    </tr>\n",
       "    <tr>\n",
       "      <th>2</th>\n",
       "      <td>35.847409</td>\n",
       "      <td>72.902198</td>\n",
       "      <td>0</td>\n",
       "    </tr>\n",
       "    <tr>\n",
       "      <th>3</th>\n",
       "      <td>60.182599</td>\n",
       "      <td>86.308552</td>\n",
       "      <td>1</td>\n",
       "    </tr>\n",
       "    <tr>\n",
       "      <th>4</th>\n",
       "      <td>79.032736</td>\n",
       "      <td>75.344376</td>\n",
       "      <td>1</td>\n",
       "    </tr>\n",
       "  </tbody>\n",
       "</table>\n",
       "</div>"
      ],
      "text/plain": [
       "           x          y  label\n",
       "0  34.623660  78.024693      0\n",
       "1  30.286711  43.894998      0\n",
       "2  35.847409  72.902198      0\n",
       "3  60.182599  86.308552      1\n",
       "4  79.032736  75.344376      1"
      ]
     },
     "execution_count": 43,
     "metadata": {},
     "output_type": "execute_result"
    }
   ],
   "source": [
    "df.head()"
   ]
  },
  {
   "cell_type": "code",
   "execution_count": 44,
   "metadata": {},
   "outputs": [
    {
     "data": {
      "text/html": [
       "<div>\n",
       "<style scoped>\n",
       "    .dataframe tbody tr th:only-of-type {\n",
       "        vertical-align: middle;\n",
       "    }\n",
       "\n",
       "    .dataframe tbody tr th {\n",
       "        vertical-align: top;\n",
       "    }\n",
       "\n",
       "    .dataframe thead th {\n",
       "        text-align: right;\n",
       "    }\n",
       "</style>\n",
       "<table border=\"1\" class=\"dataframe\">\n",
       "  <thead>\n",
       "    <tr style=\"text-align: right;\">\n",
       "      <th></th>\n",
       "      <th>x</th>\n",
       "      <th>y</th>\n",
       "      <th>label</th>\n",
       "    </tr>\n",
       "  </thead>\n",
       "  <tbody>\n",
       "    <tr>\n",
       "      <th>95</th>\n",
       "      <td>83.489163</td>\n",
       "      <td>48.380286</td>\n",
       "      <td>1</td>\n",
       "    </tr>\n",
       "    <tr>\n",
       "      <th>96</th>\n",
       "      <td>42.261701</td>\n",
       "      <td>87.103851</td>\n",
       "      <td>1</td>\n",
       "    </tr>\n",
       "    <tr>\n",
       "      <th>97</th>\n",
       "      <td>99.315009</td>\n",
       "      <td>68.775409</td>\n",
       "      <td>1</td>\n",
       "    </tr>\n",
       "    <tr>\n",
       "      <th>98</th>\n",
       "      <td>55.340018</td>\n",
       "      <td>64.931938</td>\n",
       "      <td>1</td>\n",
       "    </tr>\n",
       "    <tr>\n",
       "      <th>99</th>\n",
       "      <td>74.775893</td>\n",
       "      <td>89.529813</td>\n",
       "      <td>1</td>\n",
       "    </tr>\n",
       "  </tbody>\n",
       "</table>\n",
       "</div>"
      ],
      "text/plain": [
       "            x          y  label\n",
       "95  83.489163  48.380286      1\n",
       "96  42.261701  87.103851      1\n",
       "97  99.315009  68.775409      1\n",
       "98  55.340018  64.931938      1\n",
       "99  74.775893  89.529813      1"
      ]
     },
     "execution_count": 44,
     "metadata": {},
     "output_type": "execute_result"
    }
   ],
   "source": [
    "df.tail()"
   ]
  },
  {
   "cell_type": "code",
   "execution_count": 18,
   "metadata": {},
   "outputs": [
    {
     "data": {
      "text/html": [
       "<div>\n",
       "<style scoped>\n",
       "    .dataframe tbody tr th:only-of-type {\n",
       "        vertical-align: middle;\n",
       "    }\n",
       "\n",
       "    .dataframe tbody tr th {\n",
       "        vertical-align: top;\n",
       "    }\n",
       "\n",
       "    .dataframe thead th {\n",
       "        text-align: right;\n",
       "    }\n",
       "</style>\n",
       "<table border=\"1\" class=\"dataframe\">\n",
       "  <thead>\n",
       "    <tr style=\"text-align: right;\">\n",
       "      <th></th>\n",
       "      <th>x</th>\n",
       "      <th>y</th>\n",
       "      <th>label</th>\n",
       "    </tr>\n",
       "  </thead>\n",
       "  <tbody>\n",
       "    <tr>\n",
       "      <th>count</th>\n",
       "      <td>118.000000</td>\n",
       "      <td>118.000000</td>\n",
       "      <td>118.000000</td>\n",
       "    </tr>\n",
       "    <tr>\n",
       "      <th>mean</th>\n",
       "      <td>0.054779</td>\n",
       "      <td>0.183102</td>\n",
       "      <td>0.491525</td>\n",
       "    </tr>\n",
       "    <tr>\n",
       "      <th>std</th>\n",
       "      <td>0.496654</td>\n",
       "      <td>0.519743</td>\n",
       "      <td>0.502060</td>\n",
       "    </tr>\n",
       "    <tr>\n",
       "      <th>min</th>\n",
       "      <td>-0.830070</td>\n",
       "      <td>-0.769740</td>\n",
       "      <td>0.000000</td>\n",
       "    </tr>\n",
       "    <tr>\n",
       "      <th>25%</th>\n",
       "      <td>-0.372120</td>\n",
       "      <td>-0.254385</td>\n",
       "      <td>0.000000</td>\n",
       "    </tr>\n",
       "    <tr>\n",
       "      <th>50%</th>\n",
       "      <td>-0.006336</td>\n",
       "      <td>0.213455</td>\n",
       "      <td>0.000000</td>\n",
       "    </tr>\n",
       "    <tr>\n",
       "      <th>75%</th>\n",
       "      <td>0.478970</td>\n",
       "      <td>0.646562</td>\n",
       "      <td>1.000000</td>\n",
       "    </tr>\n",
       "    <tr>\n",
       "      <th>max</th>\n",
       "      <td>1.070900</td>\n",
       "      <td>1.108900</td>\n",
       "      <td>1.000000</td>\n",
       "    </tr>\n",
       "  </tbody>\n",
       "</table>\n",
       "</div>"
      ],
      "text/plain": [
       "                x           y       label\n",
       "count  118.000000  118.000000  118.000000\n",
       "mean     0.054779    0.183102    0.491525\n",
       "std      0.496654    0.519743    0.502060\n",
       "min     -0.830070   -0.769740    0.000000\n",
       "25%     -0.372120   -0.254385    0.000000\n",
       "50%     -0.006336    0.213455    0.000000\n",
       "75%      0.478970    0.646562    1.000000\n",
       "max      1.070900    1.108900    1.000000"
      ]
     },
     "execution_count": 18,
     "metadata": {},
     "output_type": "execute_result"
    }
   ],
   "source": [
    "df.describe()"
   ]
  },
  {
   "cell_type": "code",
   "execution_count": 19,
   "metadata": {},
   "outputs": [
    {
     "data": {
      "text/plain": [
       "array([1, 0])"
      ]
     },
     "execution_count": 19,
     "metadata": {},
     "output_type": "execute_result"
    }
   ],
   "source": [
    "df.label.unique()"
   ]
  },
  {
   "cell_type": "code",
   "execution_count": 20,
   "metadata": {},
   "outputs": [
    {
     "data": {
      "image/png": "[encoded data removed]",
      "text/plain": [
       "<Figure size 432x288 with 1 Axes>"
      ]
     },
     "metadata": {
      "needs_background": "light"
     },
     "output_type": "display_data"
    }
   ],
   "source": [
    "\n",
    "groups = df.groupby('label')\n",
    "\n",
    "# Plot\n",
    "fig, ax = plt.subplots()\n",
    "ax.margins(0.05) # Optional, just adds 5% padding to the autoscaling\n",
    "for name, group in groups:\n",
    "    ax.plot(group.x, group.y, marker='o', linestyle='', ms=6, label=name)\n",
    "ax.legend()\n",
    "\n",
    "plt.show()"
   ]
  },
  {
   "cell_type": "markdown",
   "metadata": {},
   "source": [
    "## train a classifier from scratch - Naive Bayes"
   ]
  },
  {
   "cell_type": "code",
   "execution_count": 21,
   "metadata": {},
   "outputs": [],
   "source": [
    "# get the data into arrays since that is what scikit expects\n",
    "feature_cols = ['x','y']\n",
    "\n",
    "X = df[feature_cols].values\n",
    "y = df['label'].values\n",
    "\n"
   ]
  },
  {
   "cell_type": "code",
   "execution_count": 22,
   "metadata": {},
   "outputs": [
    {
     "data": {
      "text/plain": [
       "(array([[ 0.051267 ,  0.69956  ],\n",
       "        [-0.092742 ,  0.68494  ],\n",
       "        [-0.21371  ,  0.69225  ],\n",
       "        [-0.375    ,  0.50219  ],\n",
       "        [-0.51325  ,  0.46564  ],\n",
       "        [-0.52477  ,  0.2098   ],\n",
       "        [-0.39804  ,  0.034357 ],\n",
       "        [-0.30588  , -0.19225  ],\n",
       "        [ 0.016705 , -0.40424  ],\n",
       "        [ 0.13191  , -0.51389  ],\n",
       "        [ 0.38537  , -0.56506  ],\n",
       "        [ 0.52938  , -0.5212   ],\n",
       "        [ 0.63882  , -0.24342  ],\n",
       "        [ 0.73675  , -0.18494  ],\n",
       "        [ 0.54666  ,  0.48757  ],\n",
       "        [ 0.322    ,  0.5826   ],\n",
       "        [ 0.16647  ,  0.53874  ],\n",
       "        [-0.046659 ,  0.81652  ],\n",
       "        [-0.17339  ,  0.69956  ],\n",
       "        [-0.47869  ,  0.63377  ],\n",
       "        [-0.60541  ,  0.59722  ],\n",
       "        [-0.62846  ,  0.33406  ],\n",
       "        [-0.59389  ,  0.005117 ],\n",
       "        [-0.42108  , -0.27266  ],\n",
       "        [-0.11578  , -0.39693  ],\n",
       "        [ 0.20104  , -0.60161  ],\n",
       "        [ 0.46601  , -0.53582  ],\n",
       "        [ 0.67339  , -0.53582  ],\n",
       "        [-0.13882  ,  0.54605  ],\n",
       "        [-0.29435  ,  0.77997  ],\n",
       "        [-0.26555  ,  0.96272  ],\n",
       "        [-0.16187  ,  0.8019   ],\n",
       "        [-0.17339  ,  0.64839  ],\n",
       "        [-0.28283  ,  0.47295  ],\n",
       "        [-0.36348  ,  0.31213  ],\n",
       "        [-0.30012  ,  0.027047 ],\n",
       "        [-0.23675  , -0.21418  ],\n",
       "        [-0.06394  , -0.18494  ],\n",
       "        [ 0.062788 , -0.16301  ],\n",
       "        [ 0.22984  , -0.41155  ],\n",
       "        [ 0.2932   , -0.2288   ],\n",
       "        [ 0.48329  , -0.18494  ],\n",
       "        [ 0.64459  , -0.14108  ],\n",
       "        [ 0.46025  ,  0.012427 ],\n",
       "        [ 0.6273   ,  0.15863  ],\n",
       "        [ 0.57546  ,  0.26827  ],\n",
       "        [ 0.72523  ,  0.44371  ],\n",
       "        [ 0.22408  ,  0.52412  ],\n",
       "        [ 0.44297  ,  0.67032  ],\n",
       "        [ 0.322    ,  0.69225  ],\n",
       "        [ 0.13767  ,  0.57529  ],\n",
       "        [-0.0063364,  0.39985  ],\n",
       "        [-0.092742 ,  0.55336  ],\n",
       "        [-0.20795  ,  0.35599  ],\n",
       "        [-0.20795  ,  0.17325  ],\n",
       "        [-0.43836  ,  0.21711  ],\n",
       "        [-0.21947  , -0.016813 ],\n",
       "        [-0.13882  , -0.27266  ],\n",
       "        [ 0.18376  ,  0.93348  ],\n",
       "        [ 0.22408  ,  0.77997  ],\n",
       "        [ 0.29896  ,  0.61915  ],\n",
       "        [ 0.50634  ,  0.75804  ],\n",
       "        [ 0.61578  ,  0.7288   ],\n",
       "        [ 0.60426  ,  0.59722  ],\n",
       "        [ 0.76555  ,  0.50219  ],\n",
       "        [ 0.92684  ,  0.3633   ],\n",
       "        [ 0.82316  ,  0.27558  ],\n",
       "        [ 0.96141  ,  0.085526 ],\n",
       "        [ 0.93836  ,  0.012427 ],\n",
       "        [ 0.86348  , -0.082602 ],\n",
       "        [ 0.89804  , -0.20687  ],\n",
       "        [ 0.85196  , -0.36769  ],\n",
       "        [ 0.82892  , -0.5212   ],\n",
       "        [ 0.79435  , -0.55775  ],\n",
       "        [ 0.59274  , -0.7405   ],\n",
       "        [ 0.51786  , -0.5943   ],\n",
       "        [ 0.46601  , -0.41886  ],\n",
       "        [ 0.35081  , -0.57968  ],\n",
       "        [ 0.28744  , -0.76974  ],\n",
       "        [ 0.085829 , -0.75512  ],\n",
       "        [ 0.14919  , -0.57968  ],\n",
       "        [-0.13306  , -0.4481   ],\n",
       "        [-0.40956  , -0.41155  ],\n",
       "        [-0.39228  , -0.25804  ],\n",
       "        [-0.74366  , -0.25804  ],\n",
       "        [-0.69758  ,  0.041667 ],\n",
       "        [-0.75518  ,  0.2902   ],\n",
       "        [-0.69758  ,  0.68494  ],\n",
       "        [-0.4038   ,  0.70687  ],\n",
       "        [-0.38076  ,  0.91886  ],\n",
       "        [-0.50749  ,  0.90424  ],\n",
       "        [-0.54781  ,  0.70687  ],\n",
       "        [ 0.10311  ,  0.77997  ],\n",
       "        [ 0.057028 ,  0.91886  ],\n",
       "        [-0.10426  ,  0.99196  ],\n",
       "        [-0.081221 ,  1.1089   ],\n",
       "        [ 0.28744  ,  1.087    ],\n",
       "        [ 0.39689  ,  0.82383  ],\n",
       "        [ 0.63882  ,  0.88962  ],\n",
       "        [ 0.82316  ,  0.66301  ],\n",
       "        [ 0.67339  ,  0.64108  ],\n",
       "        [ 1.0709   ,  0.10015  ],\n",
       "        [-0.046659 , -0.57968  ],\n",
       "        [-0.23675  , -0.63816  ],\n",
       "        [-0.15035  , -0.36769  ],\n",
       "        [-0.49021  , -0.3019   ],\n",
       "        [-0.46717  , -0.13377  ],\n",
       "        [-0.28859  , -0.060673 ],\n",
       "        [-0.61118  , -0.067982 ],\n",
       "        [-0.66302  , -0.21418  ],\n",
       "        [-0.59965  , -0.41886  ],\n",
       "        [-0.72638  , -0.082602 ],\n",
       "        [-0.83007  ,  0.31213  ],\n",
       "        [-0.72062  ,  0.53874  ],\n",
       "        [-0.59389  ,  0.49488  ],\n",
       "        [-0.48445  ,  0.99927  ],\n",
       "        [-0.0063364,  0.99927  ],\n",
       "        [ 0.63265  , -0.030612 ]]),\n",
       " array([1, 1, 1, 1, 1, 1, 1, 1, 1, 1, 1, 1, 1, 1, 1, 1, 1, 1, 1, 1, 1, 1,\n",
       "        1, 1, 1, 1, 1, 1, 1, 1, 1, 1, 1, 1, 1, 1, 1, 1, 1, 1, 1, 1, 1, 1,\n",
       "        1, 1, 1, 1, 1, 1, 1, 1, 1, 1, 1, 1, 1, 1, 0, 0, 0, 0, 0, 0, 0, 0,\n",
       "        0, 0, 0, 0, 0, 0, 0, 0, 0, 0, 0, 0, 0, 0, 0, 0, 0, 0, 0, 0, 0, 0,\n",
       "        0, 0, 0, 0, 0, 0, 0, 0, 0, 0, 0, 0, 0, 0, 0, 0, 0, 0, 0, 0, 0, 0,\n",
       "        0, 0, 0, 0, 0, 0, 0, 0]))"
      ]
     },
     "execution_count": 22,
     "metadata": {},
     "output_type": "execute_result"
    }
   ],
   "source": [
    "X, y"
   ]
  },
  {
   "cell_type": "code",
   "execution_count": 23,
   "metadata": {},
   "outputs": [
    {
     "data": {
      "text/plain": [
       "GaussianNB(priors=None, var_smoothing=1e-09)"
      ]
     },
     "execution_count": 23,
     "metadata": {},
     "output_type": "execute_result"
    }
   ],
   "source": [
    "# train a classifier\n",
    "from sklearn.naive_bayes import GaussianNB\n",
    "classifier = GaussianNB() # step 1\n",
    "trained_classifier = classifier.fit(X,y)  # step 2 \n",
    "trained_classifier\n"
   ]
  },
  {
   "cell_type": "code",
   "execution_count": 24,
   "metadata": {
    "scrolled": true
   },
   "outputs": [
    {
     "data": {
      "text/plain": [
       "array([1, 1, 1, 1, 1, 1, 1, 1, 1, 1, 0, 0, 0, 0, 0, 1, 1, 1, 1, 1, 0, 0,\n",
       "       1, 1, 1, 0, 0, 0, 1, 1, 0, 1, 1, 1, 1, 1, 1, 1, 1, 1, 1, 0, 0, 1,\n",
       "       0, 0, 0, 1, 0, 1, 1, 1, 1, 1, 1, 1, 1, 1, 0, 1, 1, 0, 0, 0, 0, 0,\n",
       "       0, 0, 0, 0, 0, 0, 0, 0, 0, 0, 0, 0, 0, 0, 0, 1, 1, 1, 0, 0, 0, 0,\n",
       "       1, 0, 0, 0, 1, 1, 0, 0, 0, 0, 0, 0, 0, 0, 1, 0, 1, 1, 1, 1, 0, 0,\n",
       "       0, 0, 0, 0, 0, 0, 0, 0])"
      ]
     },
     "execution_count": 24,
     "metadata": {},
     "output_type": "execute_result"
    }
   ],
   "source": [
    "# make some predictions\n",
    "y_predict = trained_classifier.predict(X) # step 3 \n",
    "\n",
    "y_predict\n"
   ]
  },
  {
   "cell_type": "code",
   "execution_count": 25,
   "metadata": {
    "scrolled": true
   },
   "outputs": [
    {
     "data": {
      "text/html": [
       "<div>\n",
       "<style scoped>\n",
       "    .dataframe tbody tr th:only-of-type {\n",
       "        vertical-align: middle;\n",
       "    }\n",
       "\n",
       "    .dataframe tbody tr th {\n",
       "        vertical-align: top;\n",
       "    }\n",
       "\n",
       "    .dataframe thead th {\n",
       "        text-align: right;\n",
       "    }\n",
       "</style>\n",
       "<table border=\"1\" class=\"dataframe\">\n",
       "  <thead>\n",
       "    <tr style=\"text-align: right;\">\n",
       "      <th></th>\n",
       "      <th>x</th>\n",
       "      <th>y</th>\n",
       "      <th>label</th>\n",
       "      <th>predict</th>\n",
       "    </tr>\n",
       "  </thead>\n",
       "  <tbody>\n",
       "    <tr>\n",
       "      <th>0</th>\n",
       "      <td>0.051267</td>\n",
       "      <td>0.699560</td>\n",
       "      <td>1</td>\n",
       "      <td>1</td>\n",
       "    </tr>\n",
       "    <tr>\n",
       "      <th>1</th>\n",
       "      <td>-0.092742</td>\n",
       "      <td>0.684940</td>\n",
       "      <td>1</td>\n",
       "      <td>1</td>\n",
       "    </tr>\n",
       "    <tr>\n",
       "      <th>2</th>\n",
       "      <td>-0.213710</td>\n",
       "      <td>0.692250</td>\n",
       "      <td>1</td>\n",
       "      <td>1</td>\n",
       "    </tr>\n",
       "    <tr>\n",
       "      <th>3</th>\n",
       "      <td>-0.375000</td>\n",
       "      <td>0.502190</td>\n",
       "      <td>1</td>\n",
       "      <td>1</td>\n",
       "    </tr>\n",
       "    <tr>\n",
       "      <th>4</th>\n",
       "      <td>-0.513250</td>\n",
       "      <td>0.465640</td>\n",
       "      <td>1</td>\n",
       "      <td>1</td>\n",
       "    </tr>\n",
       "    <tr>\n",
       "      <th>5</th>\n",
       "      <td>-0.524770</td>\n",
       "      <td>0.209800</td>\n",
       "      <td>1</td>\n",
       "      <td>1</td>\n",
       "    </tr>\n",
       "    <tr>\n",
       "      <th>6</th>\n",
       "      <td>-0.398040</td>\n",
       "      <td>0.034357</td>\n",
       "      <td>1</td>\n",
       "      <td>1</td>\n",
       "    </tr>\n",
       "    <tr>\n",
       "      <th>7</th>\n",
       "      <td>-0.305880</td>\n",
       "      <td>-0.192250</td>\n",
       "      <td>1</td>\n",
       "      <td>1</td>\n",
       "    </tr>\n",
       "    <tr>\n",
       "      <th>8</th>\n",
       "      <td>0.016705</td>\n",
       "      <td>-0.404240</td>\n",
       "      <td>1</td>\n",
       "      <td>1</td>\n",
       "    </tr>\n",
       "    <tr>\n",
       "      <th>9</th>\n",
       "      <td>0.131910</td>\n",
       "      <td>-0.513890</td>\n",
       "      <td>1</td>\n",
       "      <td>1</td>\n",
       "    </tr>\n",
       "    <tr>\n",
       "      <th>10</th>\n",
       "      <td>0.385370</td>\n",
       "      <td>-0.565060</td>\n",
       "      <td>1</td>\n",
       "      <td>0</td>\n",
       "    </tr>\n",
       "    <tr>\n",
       "      <th>11</th>\n",
       "      <td>0.529380</td>\n",
       "      <td>-0.521200</td>\n",
       "      <td>1</td>\n",
       "      <td>0</td>\n",
       "    </tr>\n",
       "    <tr>\n",
       "      <th>12</th>\n",
       "      <td>0.638820</td>\n",
       "      <td>-0.243420</td>\n",
       "      <td>1</td>\n",
       "      <td>0</td>\n",
       "    </tr>\n",
       "    <tr>\n",
       "      <th>13</th>\n",
       "      <td>0.736750</td>\n",
       "      <td>-0.184940</td>\n",
       "      <td>1</td>\n",
       "      <td>0</td>\n",
       "    </tr>\n",
       "    <tr>\n",
       "      <th>14</th>\n",
       "      <td>0.546660</td>\n",
       "      <td>0.487570</td>\n",
       "      <td>1</td>\n",
       "      <td>0</td>\n",
       "    </tr>\n",
       "    <tr>\n",
       "      <th>15</th>\n",
       "      <td>0.322000</td>\n",
       "      <td>0.582600</td>\n",
       "      <td>1</td>\n",
       "      <td>1</td>\n",
       "    </tr>\n",
       "    <tr>\n",
       "      <th>16</th>\n",
       "      <td>0.166470</td>\n",
       "      <td>0.538740</td>\n",
       "      <td>1</td>\n",
       "      <td>1</td>\n",
       "    </tr>\n",
       "    <tr>\n",
       "      <th>17</th>\n",
       "      <td>-0.046659</td>\n",
       "      <td>0.816520</td>\n",
       "      <td>1</td>\n",
       "      <td>1</td>\n",
       "    </tr>\n",
       "    <tr>\n",
       "      <th>18</th>\n",
       "      <td>-0.173390</td>\n",
       "      <td>0.699560</td>\n",
       "      <td>1</td>\n",
       "      <td>1</td>\n",
       "    </tr>\n",
       "    <tr>\n",
       "      <th>19</th>\n",
       "      <td>-0.478690</td>\n",
       "      <td>0.633770</td>\n",
       "      <td>1</td>\n",
       "      <td>1</td>\n",
       "    </tr>\n",
       "    <tr>\n",
       "      <th>20</th>\n",
       "      <td>-0.605410</td>\n",
       "      <td>0.597220</td>\n",
       "      <td>1</td>\n",
       "      <td>0</td>\n",
       "    </tr>\n",
       "    <tr>\n",
       "      <th>21</th>\n",
       "      <td>-0.628460</td>\n",
       "      <td>0.334060</td>\n",
       "      <td>1</td>\n",
       "      <td>0</td>\n",
       "    </tr>\n",
       "    <tr>\n",
       "      <th>22</th>\n",
       "      <td>-0.593890</td>\n",
       "      <td>0.005117</td>\n",
       "      <td>1</td>\n",
       "      <td>1</td>\n",
       "    </tr>\n",
       "    <tr>\n",
       "      <th>23</th>\n",
       "      <td>-0.421080</td>\n",
       "      <td>-0.272660</td>\n",
       "      <td>1</td>\n",
       "      <td>1</td>\n",
       "    </tr>\n",
       "    <tr>\n",
       "      <th>24</th>\n",
       "      <td>-0.115780</td>\n",
       "      <td>-0.396930</td>\n",
       "      <td>1</td>\n",
       "      <td>1</td>\n",
       "    </tr>\n",
       "    <tr>\n",
       "      <th>25</th>\n",
       "      <td>0.201040</td>\n",
       "      <td>-0.601610</td>\n",
       "      <td>1</td>\n",
       "      <td>0</td>\n",
       "    </tr>\n",
       "    <tr>\n",
       "      <th>26</th>\n",
       "      <td>0.466010</td>\n",
       "      <td>-0.535820</td>\n",
       "      <td>1</td>\n",
       "      <td>0</td>\n",
       "    </tr>\n",
       "    <tr>\n",
       "      <th>27</th>\n",
       "      <td>0.673390</td>\n",
       "      <td>-0.535820</td>\n",
       "      <td>1</td>\n",
       "      <td>0</td>\n",
       "    </tr>\n",
       "    <tr>\n",
       "      <th>28</th>\n",
       "      <td>-0.138820</td>\n",
       "      <td>0.546050</td>\n",
       "      <td>1</td>\n",
       "      <td>1</td>\n",
       "    </tr>\n",
       "    <tr>\n",
       "      <th>29</th>\n",
       "      <td>-0.294350</td>\n",
       "      <td>0.779970</td>\n",
       "      <td>1</td>\n",
       "      <td>1</td>\n",
       "    </tr>\n",
       "    <tr>\n",
       "      <th>...</th>\n",
       "      <td>...</td>\n",
       "      <td>...</td>\n",
       "      <td>...</td>\n",
       "      <td>...</td>\n",
       "    </tr>\n",
       "    <tr>\n",
       "      <th>88</th>\n",
       "      <td>-0.403800</td>\n",
       "      <td>0.706870</td>\n",
       "      <td>0</td>\n",
       "      <td>1</td>\n",
       "    </tr>\n",
       "    <tr>\n",
       "      <th>89</th>\n",
       "      <td>-0.380760</td>\n",
       "      <td>0.918860</td>\n",
       "      <td>0</td>\n",
       "      <td>0</td>\n",
       "    </tr>\n",
       "    <tr>\n",
       "      <th>90</th>\n",
       "      <td>-0.507490</td>\n",
       "      <td>0.904240</td>\n",
       "      <td>0</td>\n",
       "      <td>0</td>\n",
       "    </tr>\n",
       "    <tr>\n",
       "      <th>91</th>\n",
       "      <td>-0.547810</td>\n",
       "      <td>0.706870</td>\n",
       "      <td>0</td>\n",
       "      <td>0</td>\n",
       "    </tr>\n",
       "    <tr>\n",
       "      <th>92</th>\n",
       "      <td>0.103110</td>\n",
       "      <td>0.779970</td>\n",
       "      <td>0</td>\n",
       "      <td>1</td>\n",
       "    </tr>\n",
       "    <tr>\n",
       "      <th>93</th>\n",
       "      <td>0.057028</td>\n",
       "      <td>0.918860</td>\n",
       "      <td>0</td>\n",
       "      <td>1</td>\n",
       "    </tr>\n",
       "    <tr>\n",
       "      <th>94</th>\n",
       "      <td>-0.104260</td>\n",
       "      <td>0.991960</td>\n",
       "      <td>0</td>\n",
       "      <td>0</td>\n",
       "    </tr>\n",
       "    <tr>\n",
       "      <th>95</th>\n",
       "      <td>-0.081221</td>\n",
       "      <td>1.108900</td>\n",
       "      <td>0</td>\n",
       "      <td>0</td>\n",
       "    </tr>\n",
       "    <tr>\n",
       "      <th>96</th>\n",
       "      <td>0.287440</td>\n",
       "      <td>1.087000</td>\n",
       "      <td>0</td>\n",
       "      <td>0</td>\n",
       "    </tr>\n",
       "    <tr>\n",
       "      <th>97</th>\n",
       "      <td>0.396890</td>\n",
       "      <td>0.823830</td>\n",
       "      <td>0</td>\n",
       "      <td>0</td>\n",
       "    </tr>\n",
       "    <tr>\n",
       "      <th>98</th>\n",
       "      <td>0.638820</td>\n",
       "      <td>0.889620</td>\n",
       "      <td>0</td>\n",
       "      <td>0</td>\n",
       "    </tr>\n",
       "    <tr>\n",
       "      <th>99</th>\n",
       "      <td>0.823160</td>\n",
       "      <td>0.663010</td>\n",
       "      <td>0</td>\n",
       "      <td>0</td>\n",
       "    </tr>\n",
       "    <tr>\n",
       "      <th>100</th>\n",
       "      <td>0.673390</td>\n",
       "      <td>0.641080</td>\n",
       "      <td>0</td>\n",
       "      <td>0</td>\n",
       "    </tr>\n",
       "    <tr>\n",
       "      <th>101</th>\n",
       "      <td>1.070900</td>\n",
       "      <td>0.100150</td>\n",
       "      <td>0</td>\n",
       "      <td>0</td>\n",
       "    </tr>\n",
       "    <tr>\n",
       "      <th>102</th>\n",
       "      <td>-0.046659</td>\n",
       "      <td>-0.579680</td>\n",
       "      <td>0</td>\n",
       "      <td>1</td>\n",
       "    </tr>\n",
       "    <tr>\n",
       "      <th>103</th>\n",
       "      <td>-0.236750</td>\n",
       "      <td>-0.638160</td>\n",
       "      <td>0</td>\n",
       "      <td>0</td>\n",
       "    </tr>\n",
       "    <tr>\n",
       "      <th>104</th>\n",
       "      <td>-0.150350</td>\n",
       "      <td>-0.367690</td>\n",
       "      <td>0</td>\n",
       "      <td>1</td>\n",
       "    </tr>\n",
       "    <tr>\n",
       "      <th>105</th>\n",
       "      <td>-0.490210</td>\n",
       "      <td>-0.301900</td>\n",
       "      <td>0</td>\n",
       "      <td>1</td>\n",
       "    </tr>\n",
       "    <tr>\n",
       "      <th>106</th>\n",
       "      <td>-0.467170</td>\n",
       "      <td>-0.133770</td>\n",
       "      <td>0</td>\n",
       "      <td>1</td>\n",
       "    </tr>\n",
       "    <tr>\n",
       "      <th>107</th>\n",
       "      <td>-0.288590</td>\n",
       "      <td>-0.060673</td>\n",
       "      <td>0</td>\n",
       "      <td>1</td>\n",
       "    </tr>\n",
       "    <tr>\n",
       "      <th>108</th>\n",
       "      <td>-0.611180</td>\n",
       "      <td>-0.067982</td>\n",
       "      <td>0</td>\n",
       "      <td>0</td>\n",
       "    </tr>\n",
       "    <tr>\n",
       "      <th>109</th>\n",
       "      <td>-0.663020</td>\n",
       "      <td>-0.214180</td>\n",
       "      <td>0</td>\n",
       "      <td>0</td>\n",
       "    </tr>\n",
       "    <tr>\n",
       "      <th>110</th>\n",
       "      <td>-0.599650</td>\n",
       "      <td>-0.418860</td>\n",
       "      <td>0</td>\n",
       "      <td>0</td>\n",
       "    </tr>\n",
       "    <tr>\n",
       "      <th>111</th>\n",
       "      <td>-0.726380</td>\n",
       "      <td>-0.082602</td>\n",
       "      <td>0</td>\n",
       "      <td>0</td>\n",
       "    </tr>\n",
       "    <tr>\n",
       "      <th>112</th>\n",
       "      <td>-0.830070</td>\n",
       "      <td>0.312130</td>\n",
       "      <td>0</td>\n",
       "      <td>0</td>\n",
       "    </tr>\n",
       "    <tr>\n",
       "      <th>113</th>\n",
       "      <td>-0.720620</td>\n",
       "      <td>0.538740</td>\n",
       "      <td>0</td>\n",
       "      <td>0</td>\n",
       "    </tr>\n",
       "    <tr>\n",
       "      <th>114</th>\n",
       "      <td>-0.593890</td>\n",
       "      <td>0.494880</td>\n",
       "      <td>0</td>\n",
       "      <td>0</td>\n",
       "    </tr>\n",
       "    <tr>\n",
       "      <th>115</th>\n",
       "      <td>-0.484450</td>\n",
       "      <td>0.999270</td>\n",
       "      <td>0</td>\n",
       "      <td>0</td>\n",
       "    </tr>\n",
       "    <tr>\n",
       "      <th>116</th>\n",
       "      <td>-0.006336</td>\n",
       "      <td>0.999270</td>\n",
       "      <td>0</td>\n",
       "      <td>0</td>\n",
       "    </tr>\n",
       "    <tr>\n",
       "      <th>117</th>\n",
       "      <td>0.632650</td>\n",
       "      <td>-0.030612</td>\n",
       "      <td>0</td>\n",
       "      <td>0</td>\n",
       "    </tr>\n",
       "  </tbody>\n",
       "</table>\n",
       "<p>118 rows × 4 columns</p>\n",
       "</div>"
      ],
      "text/plain": [
       "            x         y  label  predict\n",
       "0    0.051267  0.699560      1        1\n",
       "1   -0.092742  0.684940      1        1\n",
       "2   -0.213710  0.692250      1        1\n",
       "3   -0.375000  0.502190      1        1\n",
       "4   -0.513250  0.465640      1        1\n",
       "5   -0.524770  0.209800      1        1\n",
       "6   -0.398040  0.034357      1        1\n",
       "7   -0.305880 -0.192250      1        1\n",
       "8    0.016705 -0.404240      1        1\n",
       "9    0.131910 -0.513890      1        1\n",
       "10   0.385370 -0.565060      1        0\n",
       "11   0.529380 -0.521200      1        0\n",
       "12   0.638820 -0.243420      1        0\n",
       "13   0.736750 -0.184940      1        0\n",
       "14   0.546660  0.487570      1        0\n",
       "15   0.322000  0.582600      1        1\n",
       "16   0.166470  0.538740      1        1\n",
       "17  -0.046659  0.816520      1        1\n",
       "18  -0.173390  0.699560      1        1\n",
       "19  -0.478690  0.633770      1        1\n",
       "20  -0.605410  0.597220      1        0\n",
       "21  -0.628460  0.334060      1        0\n",
       "22  -0.593890  0.005117      1        1\n",
       "23  -0.421080 -0.272660      1        1\n",
       "24  -0.115780 -0.396930      1        1\n",
       "25   0.201040 -0.601610      1        0\n",
       "26   0.466010 -0.535820      1        0\n",
       "27   0.673390 -0.535820      1        0\n",
       "28  -0.138820  0.546050      1        1\n",
       "29  -0.294350  0.779970      1        1\n",
       "..        ...       ...    ...      ...\n",
       "88  -0.403800  0.706870      0        1\n",
       "89  -0.380760  0.918860      0        0\n",
       "90  -0.507490  0.904240      0        0\n",
       "91  -0.547810  0.706870      0        0\n",
       "92   0.103110  0.779970      0        1\n",
       "93   0.057028  0.918860      0        1\n",
       "94  -0.104260  0.991960      0        0\n",
       "95  -0.081221  1.108900      0        0\n",
       "96   0.287440  1.087000      0        0\n",
       "97   0.396890  0.823830      0        0\n",
       "98   0.638820  0.889620      0        0\n",
       "99   0.823160  0.663010      0        0\n",
       "100  0.673390  0.641080      0        0\n",
       "101  1.070900  0.100150      0        0\n",
       "102 -0.046659 -0.579680      0        1\n",
       "103 -0.236750 -0.638160      0        0\n",
       "104 -0.150350 -0.367690      0        1\n",
       "105 -0.490210 -0.301900      0        1\n",
       "106 -0.467170 -0.133770      0        1\n",
       "107 -0.288590 -0.060673      0        1\n",
       "108 -0.611180 -0.067982      0        0\n",
       "109 -0.663020 -0.214180      0        0\n",
       "110 -0.599650 -0.418860      0        0\n",
       "111 -0.726380 -0.082602      0        0\n",
       "112 -0.830070  0.312130      0        0\n",
       "113 -0.720620  0.538740      0        0\n",
       "114 -0.593890  0.494880      0        0\n",
       "115 -0.484450  0.999270      0        0\n",
       "116 -0.006336  0.999270      0        0\n",
       "117  0.632650 -0.030612      0        0\n",
       "\n",
       "[118 rows x 4 columns]"
      ]
     },
     "execution_count": 25,
     "metadata": {},
     "output_type": "execute_result"
    }
   ],
   "source": [
    "df['predict'] = y_predict\n",
    "df\n"
   ]
  },
  {
   "cell_type": "code",
   "execution_count": 26,
   "metadata": {},
   "outputs": [
    {
     "name": "stdout",
     "output_type": "stream",
     "text": [
      "Number of mislabeled points out of a total 118 points : 30\n"
     ]
    }
   ],
   "source": [
    "# see how good we did?\n",
    "print(\"Number of mislabeled points out of a total %d points : %d\"\n",
    "      % (len(y),sum(y != y_predict)))\n",
    "\n",
    "\n"
   ]
  },
  {
   "cell_type": "code",
   "execution_count": 27,
   "metadata": {
    "scrolled": true
   },
   "outputs": [
    {
     "data": {
      "image/png": "[encoded data removed]",
      "text/plain": [
       "<Figure size 432x288 with 1 Axes>"
      ]
     },
     "metadata": {
      "needs_background": "light"
     },
     "output_type": "display_data"
    }
   ],
   "source": [
    "# can we figure out which ones didnt match prediction\n",
    "\n",
    "groups = df.groupby('label')\n",
    "\n",
    "# Plot\n",
    "fig, ax = plt.subplots()\n",
    "ax.margins(0.05) # Optional, just adds 5% padding to the autoscaling\n",
    "for name, group in groups:\n",
    "    ax.plot(group.x, group.y, marker='o', linestyle='', ms=6, label=name)\n",
    "ax.legend()\n",
    "\n",
    "bad_filter = df.label != df.predict\n",
    "df_bad = df[bad_filter]\n",
    "ax.plot(df_bad.x, df_bad.y, \"ro\", ms=12, mew=.75, markerfacecolor=\"None\", markeredgecolor='red', linestyle='')\n",
    "\n",
    "plt.show()\n",
    "\n"
   ]
  },
  {
   "cell_type": "markdown",
   "metadata": {},
   "source": [
    "## define some helper routines"
   ]
  },
  {
   "cell_type": "code",
   "execution_count": 28,
   "metadata": {},
   "outputs": [],
   "source": [
    "def training_data_from_dataframe(df, feature_cols, label_col='label'):\n",
    "    X = df[feature_cols].values\n",
    "    y = df[label_col].values\n",
    "    \n",
    "    return X,y"
   ]
  },
  {
   "cell_type": "code",
   "execution_count": 29,
   "metadata": {},
   "outputs": [],
   "source": [
    "from sklearn.preprocessing import StandardScaler\n",
    "def scale_features(X):\n",
    "\n",
    "    scaler = StandardScaler()\n",
    "    scaler.fit(X)  # Don't cheat - fit only on training data\n",
    "    return scaler.transform(X)\n",
    "\n",
    "def scaled_data_from_dataframe(df, feature_cols, label_col='label'):\n",
    "    X,y = training_data_from_dataframe(df, feature_cols, label_col)\n",
    "    X_scaled = scale_features(X)\n",
    "    return X_scaled, y"
   ]
  },
  {
   "cell_type": "code",
   "execution_count": 30,
   "metadata": {},
   "outputs": [],
   "source": [
    "def train_classifer(classifier, df, feature_cols, label_col='label'):\n",
    "    X,y = training_data_from_dataframe(df, feature_cols)\n",
    "    trained_classifier = classifier.fit(X,y) \n",
    "    return trained_classifier"
   ]
  },
  {
   "cell_type": "code",
   "execution_count": 31,
   "metadata": {},
   "outputs": [],
   "source": [
    "def classifier_predict(trained_classifer, df, feature_cols, label_col='label'):\n",
    "    X,y = training_data_from_dataframe(df, feature_cols)\n",
    "    y_predict = trained_classifier.predict(X)\n",
    "    df['predict'] = y_predict\n",
    "    accuracy = 1. * sum(y == y_predict) / len(y)\n",
    "    return accuracy\n",
    "    "
   ]
  },
  {
   "cell_type": "code",
   "execution_count": 32,
   "metadata": {},
   "outputs": [],
   "source": [
    "def classifier_decision_boundary(trained_classifier, df, feature_cols):\n",
    "    f_range = list()\n",
    "    for ff in feature_cols:\n",
    "        f_min = df[ff].min()\n",
    "        f_max = df[ff].max()\n",
    "        f_step = (f_max - f_min) / 100.\n",
    "        f_range.append( (f_min, f_max, f_step) )\n",
    "        \n",
    "    xx, yy = np.mgrid[f_range[0][0]:f_range[0][1]:f_range[0][2], f_range[1][0]:f_range[1][1]:f_range[1][2]]\n",
    "    grid = np.c_[xx.ravel(), yy.ravel()]\n",
    "    probs = trained_classifier.predict_proba(grid)[:, 1].reshape(xx.shape)  \n",
    "    return(xx,yy,probs)"
   ]
  },
  {
   "cell_type": "code",
   "execution_count": 33,
   "metadata": {
    "scrolled": true
   },
   "outputs": [],
   "source": [
    "def plot_predict(df, trained_classifier=None, feature_cols=None):\n",
    "       \n",
    "    fig, ax = plt.subplots()\n",
    "    ax.margins(0.05) # Optional, just adds 5% padding to the autoscaling\n",
    "    \n",
    "    groups = df.groupby('label')\n",
    "    for name, group in groups:\n",
    "        ax.plot(group.x, group.y, marker='o', linestyle='', ms=6, label=name)\n",
    "        \n",
    "    bad_filter = df.label != df.predict\n",
    "    df_bad = df[bad_filter]\n",
    "    ax.plot(df_bad.x, df_bad.y, \"ro\", ms=12, mew=.75, markerfacecolor=\"None\", markeredgecolor='red', linestyle='')\n",
    "\n",
    "    if trained_classifier is not None:\n",
    "        try:\n",
    "            (xx,yy,probs) = classifier_decision_boundary(trained_classifier, df, feature_cols)\n",
    "            ax.contour(xx, yy, probs, levels=[.5], cmap=\"Greys\", vmin=0, vmax=1)\n",
    "        except:\n",
    "            pass\n",
    "    ax.legend()\n",
    "\n",
    "\n",
    "#fig = plot_predict(df, trained_classifier, feature_cols)\n"
   ]
  },
  {
   "cell_type": "markdown",
   "metadata": {},
   "source": [
    "## naive bayes"
   ]
  },
  {
   "cell_type": "code",
   "execution_count": 34,
   "metadata": {},
   "outputs": [
    {
     "name": "stdout",
     "output_type": "stream",
     "text": [
      "Number of mislabeled points out of a total 118 points : 30\n"
     ]
    }
   ],
   "source": [
    "from sklearn.naive_bayes import GaussianNB\n",
    "\n",
    "feature_cols = ['x','y']\n",
    "X,y = training_data_from_dataframe(df, feature_cols)\n",
    "\n",
    "classifier = GaussianNB()\n",
    "trained_classifier = classifier.fit(X,y)\n",
    "y_predict = trained_classifier.predict(X)\n",
    "df['predict'] = y_predict\n",
    "\n",
    "print(\"Number of mislabeled points out of a total %d points : %d\"\n",
    "      % (len(y),sum(y != y_predict)))\n",
    "\n"
   ]
  },
  {
   "cell_type": "code",
   "execution_count": 35,
   "metadata": {},
   "outputs": [
    {
     "name": "stdout",
     "output_type": "stream",
     "text": [
      "training accuracy =  0.7457627118644068\n"
     ]
    },
    {
     "data": {
      "image/png": "[encoded data removed]",
      "text/plain": [
       "<Figure size 432x288 with 1 Axes>"
      ]
     },
     "metadata": {
      "needs_background": "light"
     },
     "output_type": "display_data"
    }
   ],
   "source": [
    "# visiualize training error\n",
    "print (\"training accuracy = \", classifier_predict(trained_classifier, df, feature_cols))\n",
    "plot_predict(df, trained_classifier, feature_cols)"
   ]
  },
  {
   "cell_type": "markdown",
   "metadata": {},
   "source": [
    "## logistic regression"
   ]
  },
  {
   "cell_type": "code",
   "execution_count": 36,
   "metadata": {},
   "outputs": [
    {
     "name": "stderr",
     "output_type": "stream",
     "text": [
      "/Users/amitbhattacharyya/.virtualenvs/datascience3/lib/python3.6/site-packages/sklearn/linear_model/logistic.py:432: FutureWarning: Default solver will be changed to 'lbfgs' in 0.22. Specify a solver to silence this warning.\n",
      "  FutureWarning)\n"
     ]
    },
    {
     "name": "stdout",
     "output_type": "stream",
     "text": [
      "training accuracy =  0.5423728813559322\n"
     ]
    },
    {
     "data": {
      "image/png": "[encoded data removed]",
      "text/plain": [
       "<Figure size 432x288 with 1 Axes>"
      ]
     },
     "metadata": {
      "needs_background": "light"
     },
     "output_type": "display_data"
    }
   ],
   "source": [
    "feature_cols = ['x','y']\n",
    "\n",
    "from sklearn import linear_model\n",
    "classifier = linear_model.LogisticRegression()\n",
    "trained_classifier = train_classifer(classifier, df, feature_cols)\n",
    "print (\"training accuracy = \", classifier_predict(trained_classifier, df, feature_cols))\n",
    "plot_predict(df, trained_classifier, feature_cols)"
   ]
  },
  {
   "cell_type": "markdown",
   "metadata": {},
   "source": [
    "## support vector machines (SVM)"
   ]
  },
  {
   "cell_type": "code",
   "execution_count": 37,
   "metadata": {},
   "outputs": [
    {
     "name": "stdout",
     "output_type": "stream",
     "text": [
      "0.5508474576271186\n"
     ]
    },
    {
     "data": {
      "image/png": "[encoded data removed]",
      "text/plain": [
       "<Figure size 432x288 with 1 Axes>"
      ]
     },
     "metadata": {
      "needs_background": "light"
     },
     "output_type": "display_data"
    }
   ],
   "source": [
    "#linear SVM\n",
    "feature_cols = ['x','y']\n",
    "from sklearn import svm\n",
    "\n",
    "classifier = svm.SVC(kernel='linear', probability=True)\n",
    "trained_classifier = train_classifer(classifier, df, feature_cols)\n",
    "print (classifier_predict(trained_classifier, df, feature_cols))\n",
    "plot_predict(df, trained_classifier, feature_cols)"
   ]
  },
  {
   "cell_type": "code",
   "execution_count": 38,
   "metadata": {
    "scrolled": true
   },
   "outputs": [
    {
     "name": "stderr",
     "output_type": "stream",
     "text": [
      "/Users/amitbhattacharyya/.virtualenvs/datascience3/lib/python3.6/site-packages/sklearn/svm/base.py:193: FutureWarning: The default value of gamma will change from 'auto' to 'scale' in version 0.22 to account better for unscaled features. Set gamma explicitly to 'auto' or 'scale' to avoid this warning.\n",
      "  \"avoid this warning.\", FutureWarning)\n"
     ]
    },
    {
     "name": "stdout",
     "output_type": "stream",
     "text": [
      "0.4915254237288136\n"
     ]
    },
    {
     "data": {
      "image/png": "[encoded data removed]",
      "text/plain": [
       "<Figure size 432x288 with 1 Axes>"
      ]
     },
     "metadata": {
      "needs_background": "light"
     },
     "output_type": "display_data"
    }
   ],
   "source": [
    "#polynomial SVM\n",
    "feature_cols = ['x','y']\n",
    "from sklearn import svm\n",
    "\n",
    "classifier = svm.SVC(kernel='poly', probability=True)\n",
    "trained_classifier = train_classifer(classifier, df, feature_cols)\n",
    "print (classifier_predict(trained_classifier, df, feature_cols))\n",
    "plot_predict(df, trained_classifier, feature_cols)"
   ]
  },
  {
   "cell_type": "code",
   "execution_count": 39,
   "metadata": {},
   "outputs": [
    {
     "name": "stderr",
     "output_type": "stream",
     "text": [
      "/Users/amitbhattacharyya/.virtualenvs/datascience3/lib/python3.6/site-packages/sklearn/svm/base.py:193: FutureWarning: The default value of gamma will change from 'auto' to 'scale' in version 0.22 to account better for unscaled features. Set gamma explicitly to 'auto' or 'scale' to avoid this warning.\n",
      "  \"avoid this warning.\", FutureWarning)\n"
     ]
    },
    {
     "name": "stdout",
     "output_type": "stream",
     "text": [
      "0.8050847457627118\n"
     ]
    },
    {
     "data": {
      "image/png": "[encoded data removed]",
      "text/plain": [
       "<Figure size 432x288 with 1 Axes>"
      ]
     },
     "metadata": {
      "needs_background": "light"
     },
     "output_type": "display_data"
    }
   ],
   "source": [
    "# rbf kernel for SVM\n",
    "\n",
    "feature_cols = ['x','y']\n",
    "from sklearn import svm\n",
    "\n",
    "classifier = svm.SVC(kernel='rbf', probability=True)\n",
    "trained_classifier = train_classifer(classifier, df, feature_cols)\n",
    "print (classifier_predict(trained_classifier, df, feature_cols))\n",
    "plot_predict(df, trained_classifier, feature_cols)"
   ]
  },
  {
   "cell_type": "markdown",
   "metadata": {},
   "source": [
    "## stochastic gradient descent (SGD)"
   ]
  },
  {
   "cell_type": "code",
   "execution_count": 40,
   "metadata": {},
   "outputs": [
    {
     "name": "stdout",
     "output_type": "stream",
     "text": [
      "0.4915254237288136\n"
     ]
    },
    {
     "data": {
      "image/png": "[encoded data removed]",
      "text/plain": [
       "<Figure size 432x288 with 1 Axes>"
      ]
     },
     "metadata": {
      "needs_background": "light"
     },
     "output_type": "display_data"
    }
   ],
   "source": [
    "\n",
    "from sklearn import linear_model\n",
    "classifier = linear_model.SGDClassifier(loss='hinge',  penalty=\"l2\")\n",
    "\n",
    "trained_classifier = train_classifer(classifier, df, feature_cols)\n",
    "print (classifier_predict(trained_classifier, df, feature_cols))\n",
    "plot_predict(df, trained_classifier, feature_cols)"
   ]
  },
  {
   "cell_type": "markdown",
   "metadata": {},
   "source": [
    "## perceptron"
   ]
  },
  {
   "cell_type": "code",
   "execution_count": 41,
   "metadata": {
    "scrolled": true
   },
   "outputs": [
    {
     "name": "stdout",
     "output_type": "stream",
     "text": [
      "0.5084745762711864\n"
     ]
    },
    {
     "data": {
      "image/png": "[encoded data removed]",
      "text/plain": [
       "<Figure size 432x288 with 1 Axes>"
      ]
     },
     "metadata": {
      "needs_background": "light"
     },
     "output_type": "display_data"
    }
   ],
   "source": [
    "\n",
    "from sklearn import linear_model\n",
    "classifier = linear_model.Perceptron()\n",
    "trained_classifier = train_classifer(classifier, df, feature_cols)\n",
    "print (classifier_predict(trained_classifier, df, feature_cols))\n",
    "plot_predict(df, trained_classifier, feature_cols)\n"
   ]
  },
  {
   "cell_type": "code",
   "execution_count": null,
   "metadata": {},
   "outputs": [],
   "source": []
  },
  {
   "cell_type": "code",
   "execution_count": null,
   "metadata": {},
   "outputs": [],
   "source": []
  },
  {
   "cell_type": "code",
   "execution_count": null,
   "metadata": {},
   "outputs": [],
   "source": []
  }
 ],
 "metadata": {
  "kernelspec": {
   "display_name": "Python 3",
   "language": "python",
   "name": "python3"
  },
  "language_info": {
   "codemirror_mode": {
    "name": "ipython",
    "version": 3
   },
   "file_extension": ".py",
   "mimetype": "text/x-python",
   "name": "python",
   "nbconvert_exporter": "python",
   "pygments_lexer": "ipython3",
   "version": "3.6.5"
  }
 },
 "nbformat": 4,
 "nbformat_minor": 1
}
